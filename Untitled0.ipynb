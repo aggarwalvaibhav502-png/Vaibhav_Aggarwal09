{
  "nbformat": 4,
  "nbformat_minor": 0,
  "metadata": {
    "colab": {
      "provenance": [],
      "authorship_tag": "ABX9TyPF1dBtAPJflYMss1hWE7U2",
      "include_colab_link": true
    },
    "kernelspec": {
      "name": "python3",
      "display_name": "Python 3"
    },
    "language_info": {
      "name": "python"
    }
  },
  "cells": [
    {
      "cell_type": "markdown",
      "metadata": {
        "id": "view-in-github",
        "colab_type": "text"
      },
      "source": [
        "<a href=\"https://colab.research.google.com/github/aggarwalvaibhav502-png/Vaibhav_Aggarwal09/blob/main/Untitled0.ipynb\" target=\"_parent\"><img src=\"https://colab.research.google.com/assets/colab-badge.svg\" alt=\"Open In Colab\"/></a>"
      ]
    },
    {
      "cell_type": "code",
      "execution_count": null,
      "metadata": {
        "colab": {
          "base_uri": "https://localhost:8080/"
        },
        "id": "Pgwhq3bOYQRt",
        "outputId": "38de049b-b1d5-430c-fa8f-df7152290555"
      },
      "outputs": [
        {
          "output_type": "stream",
          "name": "stdout",
          "text": [
            "Collecting PyPDF2\n",
            "  Downloading pypdf2-3.0.1-py3-none-any.whl.metadata (6.8 kB)\n",
            "Downloading pypdf2-3.0.1-py3-none-any.whl (232 kB)\n",
            "\u001b[?25l   \u001b[90m━━━━━━━━━━━━━━━━━━━━━━━━━━━━━━━━━━━━━━━━\u001b[0m \u001b[32m0.0/232.6 kB\u001b[0m \u001b[31m?\u001b[0m eta \u001b[36m-:--:--\u001b[0m\r\u001b[2K   \u001b[91m━━━━━━━━━━━━━━━━━━━━━━━━━━━━━━━━━━━━━━\u001b[0m\u001b[91m╸\u001b[0m\u001b[90m━\u001b[0m \u001b[32m225.3/232.6 kB\u001b[0m \u001b[31m7.7 MB/s\u001b[0m eta \u001b[36m0:00:01\u001b[0m\r\u001b[2K   \u001b[90m━━━━━━━━━━━━━━━━━━━━━━━━━━━━━━━━━━━━━━━━\u001b[0m \u001b[32m232.6/232.6 kB\u001b[0m \u001b[31m5.4 MB/s\u001b[0m eta \u001b[36m0:00:00\u001b[0m\n",
            "\u001b[?25hInstalling collected packages: PyPDF2\n",
            "Successfully installed PyPDF2-3.0.1\n"
          ]
        }
      ],
      "source": [
        "!pip install PyPDF2"
      ]
    },
    {
      "cell_type": "code",
      "source": [
        "#Convert path into text\n",
        "from PyPDF2 import PdfReader\n",
        "def read_text_in_chunks(pdf_path,chunk_size=100):\n",
        "  reader=PdfReader(pdf_path)\n",
        "  all_text=\"\"\n",
        "  for page in reader.pages:\n",
        "    text=page.extract_text()\n",
        "    all_text=all_text+text+\" \"\n",
        "  words=all_text.split()\n",
        "  chunks=[\" \".join(words[i:i+chunk_size])\n",
        "  for i in range(0,len(words),chunk_size)\n",
        "  ]\n",
        "  return chunks\n",
        "\n",
        "pdf_path=\"UNC504.PDF\"\n",
        "chunks=read_text_in_chunks(pdf_path)\n",
        "print(f\"text extracted:{len(chunks)}\")\n",
        "print(chunks)\n",
        "\n",
        "\n"
      ],
      "metadata": {
        "colab": {
          "base_uri": "https://localhost:8080/",
          "height": 248
        },
        "id": "JQRB1mlkYdFL",
        "outputId": "abc2eea0-fa7f-41cc-bbc1-1912ffd5c084"
      },
      "execution_count": 12,
      "outputs": [
        {
          "output_type": "stream",
          "name": "stdout",
          "text": [
            "text extracted:5\n",
            "['Roll Number: Name: Thapar Institute of Engineering & Technology, Patiala Mid-Semester Examination 5th Semester UNC504: Artificial Intelligence Date- Oct 07, 2023 Total Marks: 40 Time: 02 Hours Name of Faculty: AS, SM, RU, VK NOTE: * Assume any missing information. Ql. For the given min-max tree below 4+6 (a) Find the value of each non-leaf node using min-max algorithm. (b) Can this tree be pruned? If yes, apply alpha-beta pruning method step-by step (missing steps or direct answer will lead to loss of marks). Q2. What is UCS (Uniform Cost Search) and what kind of data structure will be used', 'to implement 1+1 this search strategy? Perform the UCS on the following graph and show all intermediate steps for +5+ the traversing. Also provide the final path to the solution. Start from node 0 and node 5 is the 1+2 destinarion. In the above graph, if the cost of the edge from node 4 to node 3 is changed to -1, then discuss the UCS for the altered graph. Q3. Perform the A* search algorithm in the following graph and create a complete search tree using 10 heuristic values (depicted alongside the nodes) and path cost. Show all intermediate steps', 'for the A* search algorithm and search the final path to reach from Start Node (S) to the Goal Node (G). 10.1 5.8 3.4 11.5 9.2 7.1 3.5 Q4. Apply AC3 (Arc Consistency 3) algorithm to find a four-digit number (XYTZ) which satisfies the 10 following conditions: 1. The number is odd, 2. The number only contains the digits: 1, 2, 3, 4, and 5, 3. Each digit (except the left most) is strictly larger than the digit to its left, 4. No two digits are the same. You need to clearly mention the domain of each digit and its', 'successive reduction in every step. The following sample algorithm can be used for help: function AC-3( c,p) returns the CSP, possibly with reduced domains inputs: esp, a binary CSP with variables {X1. X„} local variables: (pole, a queue of arcs, initially all the arcs in L.sp while (pow is not empty do Xj) REMOVE-FIRsT(quc if REMOVE-INCONSISTENT-VALUES(. ;. Xj) then for each Xi, in NEicHnoRs[Xd do add (XL., Xi) to queue function REN-lovE-INCONsts rENT-VALLTES( Xj) returns true iff succeeds rcmovcd ,— ffThe for each x in DONLAIN[Xd do if no value yin DoNiAiNIXil allows (x,y) to satisfy the constraint X i', 'Xi then delete :r from Don NI \\\\ 1 rtmoccd-- /Tar return 7 0110 tTil']\n"
          ]
        },
        {
          "output_type": "error",
          "ename": "NameError",
          "evalue": "name 'enumrate' is not defined",
          "traceback": [
            "\u001b[0;31m---------------------------------------------------------------------------\u001b[0m",
            "\u001b[0;31mNameError\u001b[0m                                 Traceback (most recent call last)",
            "\u001b[0;32m/tmp/ipython-input-1495748571.py\u001b[0m in \u001b[0;36m<cell line: 0>\u001b[0;34m()\u001b[0m\n\u001b[1;32m     19\u001b[0m \u001b[0;34m\u001b[0m\u001b[0m\n\u001b[1;32m     20\u001b[0m \u001b[0;34m\u001b[0m\u001b[0m\n\u001b[0;32m---> 21\u001b[0;31m \u001b[0;32mfor\u001b[0m \u001b[0mi\u001b[0m\u001b[0;34m,\u001b[0m\u001b[0mchunk\u001b[0m \u001b[0;32min\u001b[0m \u001b[0menumrate\u001b[0m\u001b[0;34m(\u001b[0m\u001b[0mchunks\u001b[0m\u001b[0;34m)\u001b[0m\u001b[0;34m:\u001b[0m\u001b[0;34m\u001b[0m\u001b[0;34m\u001b[0m\u001b[0m\n\u001b[0m\u001b[1;32m     22\u001b[0m   \u001b[0mprint\u001b[0m\u001b[0;34m(\u001b[0m\u001b[0;34mf\"{i}:{chunk}\"\u001b[0m\u001b[0;34m)\u001b[0m\u001b[0;34m\u001b[0m\u001b[0;34m\u001b[0m\u001b[0m\n",
            "\u001b[0;31mNameError\u001b[0m: name 'enumrate' is not defined"
          ]
        }
      ]
    },
    {
      "cell_type": "code",
      "source": [
        "for i,chunk in enumerate(chunks):\n",
        "  print(f\"{i}:{chunk}\")"
      ],
      "metadata": {
        "colab": {
          "base_uri": "https://localhost:8080/"
        },
        "id": "DfpP3Cn1bISv",
        "outputId": "8ef9465b-b006-4623-a106-08d06901b33b"
      },
      "execution_count": 14,
      "outputs": [
        {
          "output_type": "stream",
          "name": "stdout",
          "text": [
            "0:Roll Number: Name: Thapar Institute of Engineering & Technology, Patiala Mid-Semester Examination 5th Semester UNC504: Artificial Intelligence Date- Oct 07, 2023 Total Marks: 40 Time: 02 Hours Name of Faculty: AS, SM, RU, VK NOTE: * Assume any missing information. Ql. For the given min-max tree below 4+6 (a) Find the value of each non-leaf node using min-max algorithm. (b) Can this tree be pruned? If yes, apply alpha-beta pruning method step-by step (missing steps or direct answer will lead to loss of marks). Q2. What is UCS (Uniform Cost Search) and what kind of data structure will be used\n",
            "1:to implement 1+1 this search strategy? Perform the UCS on the following graph and show all intermediate steps for +5+ the traversing. Also provide the final path to the solution. Start from node 0 and node 5 is the 1+2 destinarion. In the above graph, if the cost of the edge from node 4 to node 3 is changed to -1, then discuss the UCS for the altered graph. Q3. Perform the A* search algorithm in the following graph and create a complete search tree using 10 heuristic values (depicted alongside the nodes) and path cost. Show all intermediate steps\n",
            "2:for the A* search algorithm and search the final path to reach from Start Node (S) to the Goal Node (G). 10.1 5.8 3.4 11.5 9.2 7.1 3.5 Q4. Apply AC3 (Arc Consistency 3) algorithm to find a four-digit number (XYTZ) which satisfies the 10 following conditions: 1. The number is odd, 2. The number only contains the digits: 1, 2, 3, 4, and 5, 3. Each digit (except the left most) is strictly larger than the digit to its left, 4. No two digits are the same. You need to clearly mention the domain of each digit and its\n",
            "3:successive reduction in every step. The following sample algorithm can be used for help: function AC-3( c,p) returns the CSP, possibly with reduced domains inputs: esp, a binary CSP with variables {X1. X„} local variables: (pole, a queue of arcs, initially all the arcs in L.sp while (pow is not empty do Xj) REMOVE-FIRsT(quc if REMOVE-INCONSISTENT-VALUES(. ;. Xj) then for each Xi, in NEicHnoRs[Xd do add (XL., Xi) to queue function REN-lovE-INCONsts rENT-VALLTES( Xj) returns true iff succeeds rcmovcd ,— ffThe for each x in DONLAIN[Xd do if no value yin DoNiAiNIXil allows (x,y) to satisfy the constraint X i\n",
            "4:Xi then delete :r from Don NI \\ 1 rtmoccd-- /Tar return 7 0110 tTil\n"
          ]
        }
      ]
    }
  ]
}