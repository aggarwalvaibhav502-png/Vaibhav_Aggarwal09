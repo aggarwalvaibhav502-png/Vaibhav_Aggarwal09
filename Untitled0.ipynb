{
  "nbformat": 4,
  "nbformat_minor": 0,
  "metadata": {
    "colab": {
      "provenance": [],
      "authorship_tag": "ABX9TyOJgTj6FURv5OdunJN8ZrMp",
      "include_colab_link": true
    },
    "kernelspec": {
      "name": "python3",
      "display_name": "Python 3"
    },
    "language_info": {
      "name": "python"
    }
  },
  "cells": [
    {
      "cell_type": "markdown",
      "metadata": {
        "id": "view-in-github",
        "colab_type": "text"
      },
      "source": [
        "<a href=\"https://colab.research.google.com/github/aggarwalvaibhav502-png/Vaibhav_Aggarwal09/blob/main/Untitled0.ipynb\" target=\"_parent\"><img src=\"https://colab.research.google.com/assets/colab-badge.svg\" alt=\"Open In Colab\"/></a>"
      ]
    },
    {
      "cell_type": "code",
      "execution_count": 4,
      "metadata": {
        "colab": {
          "base_uri": "https://localhost:8080/"
        },
        "id": "Pgwhq3bOYQRt",
        "outputId": "c5d00245-8e6a-4eda-f1f2-250fb35f21c0"
      },
      "outputs": [
        {
          "output_type": "stream",
          "name": "stdout",
          "text": [
            "Collecting PyPDF2\n",
            "  Downloading pypdf2-3.0.1-py3-none-any.whl.metadata (6.8 kB)\n",
            "Downloading pypdf2-3.0.1-py3-none-any.whl (232 kB)\n",
            "\u001b[2K   \u001b[90m━━━━━━━━━━━━━━━━━━━━━━━━━━━━━━━━━━━━━━━━\u001b[0m \u001b[32m232.6/232.6 kB\u001b[0m \u001b[31m7.1 MB/s\u001b[0m eta \u001b[36m0:00:00\u001b[0m\n",
            "\u001b[?25hInstalling collected packages: PyPDF2\n",
            "Successfully installed PyPDF2-3.0.1\n"
          ]
        }
      ],
      "source": [
        "!pip install PyPDF2"
      ]
    },
    {
      "cell_type": "code",
      "source": [
        "#Convert path into text\n",
        "from PyPDF2 import PdfReader\n",
        "def read_text_in_chunks(pdf_path,chunk_size=100):\n",
        "  reader=PdfReader(pdf_path)\n",
        "  all_text=\"\"\n",
        "  for page in reader.pages:\n",
        "    text=page.extract_text()\n",
        "    all_text=all_text+text+\" \"\n",
        "  words=all_text.split()\n",
        "  chunks=[\" \".join(words[i:i+chunk_size])\n",
        "  for i in range(0,len(words),chunk_size)\n",
        "  ]\n",
        "  return chunks\n",
        "\n",
        "pdf_path=\"UNC504.PDF\"\n",
        "chunks=read_text_in_chunks(pdf_path)\n",
        "print(f\"text extracted:{len(chunks)}\")\n",
        "print(chunks)\n",
        "\n",
        "\n"
      ],
      "metadata": {
        "colab": {
          "base_uri": "https://localhost:8080/"
        },
        "id": "JQRB1mlkYdFL",
        "outputId": "95db0835-aa7b-4d4d-e2ef-65c4a0cdb0fe"
      },
      "execution_count": 5,
      "outputs": [
        {
          "output_type": "stream",
          "name": "stdout",
          "text": [
            "text extracted:5\n",
            "['Roll Number: Name: Thapar Institute of Engineering & Technology, Patiala Mid-Semester Examination 5th Semester UNC504: Artificial Intelligence Date- Oct 07, 2023 Total Marks: 40 Time: 02 Hours Name of Faculty: AS, SM, RU, VK NOTE: * Assume any missing information. Ql. For the given min-max tree below 4+6 (a) Find the value of each non-leaf node using min-max algorithm. (b) Can this tree be pruned? If yes, apply alpha-beta pruning method step-by step (missing steps or direct answer will lead to loss of marks). Q2. What is UCS (Uniform Cost Search) and what kind of data structure will be used', 'to implement 1+1 this search strategy? Perform the UCS on the following graph and show all intermediate steps for +5+ the traversing. Also provide the final path to the solution. Start from node 0 and node 5 is the 1+2 destinarion. In the above graph, if the cost of the edge from node 4 to node 3 is changed to -1, then discuss the UCS for the altered graph. Q3. Perform the A* search algorithm in the following graph and create a complete search tree using 10 heuristic values (depicted alongside the nodes) and path cost. Show all intermediate steps', 'for the A* search algorithm and search the final path to reach from Start Node (S) to the Goal Node (G). 10.1 5.8 3.4 11.5 9.2 7.1 3.5 Q4. Apply AC3 (Arc Consistency 3) algorithm to find a four-digit number (XYTZ) which satisfies the 10 following conditions: 1. The number is odd, 2. The number only contains the digits: 1, 2, 3, 4, and 5, 3. Each digit (except the left most) is strictly larger than the digit to its left, 4. No two digits are the same. You need to clearly mention the domain of each digit and its', 'successive reduction in every step. The following sample algorithm can be used for help: function AC-3( c,p) returns the CSP, possibly with reduced domains inputs: esp, a binary CSP with variables {X1. X„} local variables: (pole, a queue of arcs, initially all the arcs in L.sp while (pow is not empty do Xj) REMOVE-FIRsT(quc if REMOVE-INCONSISTENT-VALUES(. ;. Xj) then for each Xi, in NEicHnoRs[Xd do add (XL., Xi) to queue function REN-lovE-INCONsts rENT-VALLTES( Xj) returns true iff succeeds rcmovcd ,— ffThe for each x in DONLAIN[Xd do if no value yin DoNiAiNIXil allows (x,y) to satisfy the constraint X i', 'Xi then delete :r from Don NI \\\\ 1 rtmoccd-- /Tar return 7 0110 tTil']\n"
          ]
        }
      ]
    },
    {
      "cell_type": "code",
      "source": [
        "for i,chunk in enumerate(chunks):\n",
        "  print(f\"{i}:{chunk}\")"
      ],
      "metadata": {
        "colab": {
          "base_uri": "https://localhost:8080/"
        },
        "id": "DfpP3Cn1bISv",
        "outputId": "157600c2-a22c-4a13-c33e-82253913578c"
      },
      "execution_count": 6,
      "outputs": [
        {
          "output_type": "stream",
          "name": "stdout",
          "text": [
            "0:Roll Number: Name: Thapar Institute of Engineering & Technology, Patiala Mid-Semester Examination 5th Semester UNC504: Artificial Intelligence Date- Oct 07, 2023 Total Marks: 40 Time: 02 Hours Name of Faculty: AS, SM, RU, VK NOTE: * Assume any missing information. Ql. For the given min-max tree below 4+6 (a) Find the value of each non-leaf node using min-max algorithm. (b) Can this tree be pruned? If yes, apply alpha-beta pruning method step-by step (missing steps or direct answer will lead to loss of marks). Q2. What is UCS (Uniform Cost Search) and what kind of data structure will be used\n",
            "1:to implement 1+1 this search strategy? Perform the UCS on the following graph and show all intermediate steps for +5+ the traversing. Also provide the final path to the solution. Start from node 0 and node 5 is the 1+2 destinarion. In the above graph, if the cost of the edge from node 4 to node 3 is changed to -1, then discuss the UCS for the altered graph. Q3. Perform the A* search algorithm in the following graph and create a complete search tree using 10 heuristic values (depicted alongside the nodes) and path cost. Show all intermediate steps\n",
            "2:for the A* search algorithm and search the final path to reach from Start Node (S) to the Goal Node (G). 10.1 5.8 3.4 11.5 9.2 7.1 3.5 Q4. Apply AC3 (Arc Consistency 3) algorithm to find a four-digit number (XYTZ) which satisfies the 10 following conditions: 1. The number is odd, 2. The number only contains the digits: 1, 2, 3, 4, and 5, 3. Each digit (except the left most) is strictly larger than the digit to its left, 4. No two digits are the same. You need to clearly mention the domain of each digit and its\n",
            "3:successive reduction in every step. The following sample algorithm can be used for help: function AC-3( c,p) returns the CSP, possibly with reduced domains inputs: esp, a binary CSP with variables {X1. X„} local variables: (pole, a queue of arcs, initially all the arcs in L.sp while (pow is not empty do Xj) REMOVE-FIRsT(quc if REMOVE-INCONSISTENT-VALUES(. ;. Xj) then for each Xi, in NEicHnoRs[Xd do add (XL., Xi) to queue function REN-lovE-INCONsts rENT-VALLTES( Xj) returns true iff succeeds rcmovcd ,— ffThe for each x in DONLAIN[Xd do if no value yin DoNiAiNIXil allows (x,y) to satisfy the constraint X i\n",
            "4:Xi then delete :r from Don NI \\ 1 rtmoccd-- /Tar return 7 0110 tTil\n"
          ]
        }
      ]
    },
    {
      "cell_type": "code",
      "source": [
        "!pip install chromadb"
      ],
      "metadata": {
        "colab": {
          "base_uri": "https://localhost:8080/"
        },
        "id": "zUoJ2MneT34J",
        "outputId": "69d71012-faa6-4ae9-dd6d-41a2fd39cfc1"
      },
      "execution_count": 8,
      "outputs": [
        {
          "output_type": "stream",
          "name": "stdout",
          "text": [
            "Requirement already satisfied: chromadb in /usr/local/lib/python3.12/dist-packages (1.2.1)\n",
            "Requirement already satisfied: build>=1.0.3 in /usr/local/lib/python3.12/dist-packages (from chromadb) (1.3.0)\n",
            "Requirement already satisfied: pydantic>=1.9 in /usr/local/lib/python3.12/dist-packages (from chromadb) (2.11.10)\n",
            "Requirement already satisfied: pybase64>=1.4.1 in /usr/local/lib/python3.12/dist-packages (from chromadb) (1.4.2)\n",
            "Requirement already satisfied: uvicorn>=0.18.3 in /usr/local/lib/python3.12/dist-packages (from uvicorn[standard]>=0.18.3->chromadb) (0.38.0)\n",
            "Requirement already satisfied: numpy>=1.22.5 in /usr/local/lib/python3.12/dist-packages (from chromadb) (2.0.2)\n",
            "Requirement already satisfied: posthog<6.0.0,>=2.4.0 in /usr/local/lib/python3.12/dist-packages (from chromadb) (5.4.0)\n",
            "Requirement already satisfied: typing-extensions>=4.5.0 in /usr/local/lib/python3.12/dist-packages (from chromadb) (4.15.0)\n",
            "Requirement already satisfied: onnxruntime>=1.14.1 in /usr/local/lib/python3.12/dist-packages (from chromadb) (1.23.2)\n",
            "Requirement already satisfied: opentelemetry-api>=1.2.0 in /usr/local/lib/python3.12/dist-packages (from chromadb) (1.38.0)\n",
            "Requirement already satisfied: opentelemetry-exporter-otlp-proto-grpc>=1.2.0 in /usr/local/lib/python3.12/dist-packages (from chromadb) (1.38.0)\n",
            "Requirement already satisfied: opentelemetry-sdk>=1.2.0 in /usr/local/lib/python3.12/dist-packages (from chromadb) (1.38.0)\n",
            "Requirement already satisfied: tokenizers>=0.13.2 in /usr/local/lib/python3.12/dist-packages (from chromadb) (0.22.1)\n",
            "Requirement already satisfied: pypika>=0.48.9 in /usr/local/lib/python3.12/dist-packages (from chromadb) (0.48.9)\n",
            "Requirement already satisfied: tqdm>=4.65.0 in /usr/local/lib/python3.12/dist-packages (from chromadb) (4.67.1)\n",
            "Requirement already satisfied: overrides>=7.3.1 in /usr/local/lib/python3.12/dist-packages (from chromadb) (7.7.0)\n",
            "Requirement already satisfied: importlib-resources in /usr/local/lib/python3.12/dist-packages (from chromadb) (6.5.2)\n",
            "Requirement already satisfied: grpcio>=1.58.0 in /usr/local/lib/python3.12/dist-packages (from chromadb) (1.75.1)\n",
            "Requirement already satisfied: bcrypt>=4.0.1 in /usr/local/lib/python3.12/dist-packages (from chromadb) (5.0.0)\n",
            "Requirement already satisfied: typer>=0.9.0 in /usr/local/lib/python3.12/dist-packages (from chromadb) (0.20.0)\n",
            "Requirement already satisfied: kubernetes>=28.1.0 in /usr/local/lib/python3.12/dist-packages (from chromadb) (34.1.0)\n",
            "Requirement already satisfied: tenacity>=8.2.3 in /usr/local/lib/python3.12/dist-packages (from chromadb) (8.5.0)\n",
            "Requirement already satisfied: pyyaml>=6.0.0 in /usr/local/lib/python3.12/dist-packages (from chromadb) (6.0.3)\n",
            "Requirement already satisfied: mmh3>=4.0.1 in /usr/local/lib/python3.12/dist-packages (from chromadb) (5.2.0)\n",
            "Requirement already satisfied: orjson>=3.9.12 in /usr/local/lib/python3.12/dist-packages (from chromadb) (3.11.3)\n",
            "Requirement already satisfied: httpx>=0.27.0 in /usr/local/lib/python3.12/dist-packages (from chromadb) (0.28.1)\n",
            "Requirement already satisfied: rich>=10.11.0 in /usr/local/lib/python3.12/dist-packages (from chromadb) (13.9.4)\n",
            "Requirement already satisfied: jsonschema>=4.19.0 in /usr/local/lib/python3.12/dist-packages (from chromadb) (4.25.1)\n",
            "Requirement already satisfied: packaging>=19.1 in /usr/local/lib/python3.12/dist-packages (from build>=1.0.3->chromadb) (25.0)\n",
            "Requirement already satisfied: pyproject_hooks in /usr/local/lib/python3.12/dist-packages (from build>=1.0.3->chromadb) (1.2.0)\n",
            "Requirement already satisfied: anyio in /usr/local/lib/python3.12/dist-packages (from httpx>=0.27.0->chromadb) (4.11.0)\n",
            "Requirement already satisfied: certifi in /usr/local/lib/python3.12/dist-packages (from httpx>=0.27.0->chromadb) (2025.10.5)\n",
            "Requirement already satisfied: httpcore==1.* in /usr/local/lib/python3.12/dist-packages (from httpx>=0.27.0->chromadb) (1.0.9)\n",
            "Requirement already satisfied: idna in /usr/local/lib/python3.12/dist-packages (from httpx>=0.27.0->chromadb) (3.11)\n",
            "Requirement already satisfied: h11>=0.16 in /usr/local/lib/python3.12/dist-packages (from httpcore==1.*->httpx>=0.27.0->chromadb) (0.16.0)\n",
            "Requirement already satisfied: attrs>=22.2.0 in /usr/local/lib/python3.12/dist-packages (from jsonschema>=4.19.0->chromadb) (25.4.0)\n",
            "Requirement already satisfied: jsonschema-specifications>=2023.03.6 in /usr/local/lib/python3.12/dist-packages (from jsonschema>=4.19.0->chromadb) (2025.9.1)\n",
            "Requirement already satisfied: referencing>=0.28.4 in /usr/local/lib/python3.12/dist-packages (from jsonschema>=4.19.0->chromadb) (0.37.0)\n",
            "Requirement already satisfied: rpds-py>=0.7.1 in /usr/local/lib/python3.12/dist-packages (from jsonschema>=4.19.0->chromadb) (0.27.1)\n",
            "Requirement already satisfied: six>=1.9.0 in /usr/local/lib/python3.12/dist-packages (from kubernetes>=28.1.0->chromadb) (1.17.0)\n",
            "Requirement already satisfied: python-dateutil>=2.5.3 in /usr/local/lib/python3.12/dist-packages (from kubernetes>=28.1.0->chromadb) (2.9.0.post0)\n",
            "Requirement already satisfied: google-auth>=1.0.1 in /usr/local/lib/python3.12/dist-packages (from kubernetes>=28.1.0->chromadb) (2.38.0)\n",
            "Requirement already satisfied: websocket-client!=0.40.0,!=0.41.*,!=0.42.*,>=0.32.0 in /usr/local/lib/python3.12/dist-packages (from kubernetes>=28.1.0->chromadb) (1.9.0)\n",
            "Requirement already satisfied: requests in /usr/local/lib/python3.12/dist-packages (from kubernetes>=28.1.0->chromadb) (2.32.4)\n",
            "Requirement already satisfied: requests-oauthlib in /usr/local/lib/python3.12/dist-packages (from kubernetes>=28.1.0->chromadb) (2.0.0)\n",
            "Requirement already satisfied: urllib3<2.4.0,>=1.24.2 in /usr/local/lib/python3.12/dist-packages (from kubernetes>=28.1.0->chromadb) (2.3.0)\n",
            "Requirement already satisfied: durationpy>=0.7 in /usr/local/lib/python3.12/dist-packages (from kubernetes>=28.1.0->chromadb) (0.10)\n",
            "Requirement already satisfied: coloredlogs in /usr/local/lib/python3.12/dist-packages (from onnxruntime>=1.14.1->chromadb) (15.0.1)\n",
            "Requirement already satisfied: flatbuffers in /usr/local/lib/python3.12/dist-packages (from onnxruntime>=1.14.1->chromadb) (25.9.23)\n",
            "Requirement already satisfied: protobuf in /usr/local/lib/python3.12/dist-packages (from onnxruntime>=1.14.1->chromadb) (5.29.5)\n",
            "Requirement already satisfied: sympy in /usr/local/lib/python3.12/dist-packages (from onnxruntime>=1.14.1->chromadb) (1.13.3)\n",
            "Requirement already satisfied: importlib-metadata<8.8.0,>=6.0 in /usr/local/lib/python3.12/dist-packages (from opentelemetry-api>=1.2.0->chromadb) (8.7.0)\n",
            "Requirement already satisfied: googleapis-common-protos~=1.57 in /usr/local/lib/python3.12/dist-packages (from opentelemetry-exporter-otlp-proto-grpc>=1.2.0->chromadb) (1.71.0)\n",
            "Requirement already satisfied: opentelemetry-exporter-otlp-proto-common==1.38.0 in /usr/local/lib/python3.12/dist-packages (from opentelemetry-exporter-otlp-proto-grpc>=1.2.0->chromadb) (1.38.0)\n",
            "Requirement already satisfied: opentelemetry-proto==1.38.0 in /usr/local/lib/python3.12/dist-packages (from opentelemetry-exporter-otlp-proto-grpc>=1.2.0->chromadb) (1.38.0)\n",
            "Requirement already satisfied: opentelemetry-semantic-conventions==0.59b0 in /usr/local/lib/python3.12/dist-packages (from opentelemetry-sdk>=1.2.0->chromadb) (0.59b0)\n",
            "Requirement already satisfied: backoff>=1.10.0 in /usr/local/lib/python3.12/dist-packages (from posthog<6.0.0,>=2.4.0->chromadb) (2.2.1)\n",
            "Requirement already satisfied: distro>=1.5.0 in /usr/local/lib/python3.12/dist-packages (from posthog<6.0.0,>=2.4.0->chromadb) (1.9.0)\n",
            "Requirement already satisfied: annotated-types>=0.6.0 in /usr/local/lib/python3.12/dist-packages (from pydantic>=1.9->chromadb) (0.7.0)\n",
            "Requirement already satisfied: pydantic-core==2.33.2 in /usr/local/lib/python3.12/dist-packages (from pydantic>=1.9->chromadb) (2.33.2)\n",
            "Requirement already satisfied: typing-inspection>=0.4.0 in /usr/local/lib/python3.12/dist-packages (from pydantic>=1.9->chromadb) (0.4.2)\n",
            "Requirement already satisfied: markdown-it-py>=2.2.0 in /usr/local/lib/python3.12/dist-packages (from rich>=10.11.0->chromadb) (4.0.0)\n",
            "Requirement already satisfied: pygments<3.0.0,>=2.13.0 in /usr/local/lib/python3.12/dist-packages (from rich>=10.11.0->chromadb) (2.19.2)\n",
            "Requirement already satisfied: huggingface-hub<2.0,>=0.16.4 in /usr/local/lib/python3.12/dist-packages (from tokenizers>=0.13.2->chromadb) (0.35.3)\n",
            "Requirement already satisfied: click>=8.0.0 in /usr/local/lib/python3.12/dist-packages (from typer>=0.9.0->chromadb) (8.3.0)\n",
            "Requirement already satisfied: shellingham>=1.3.0 in /usr/local/lib/python3.12/dist-packages (from typer>=0.9.0->chromadb) (1.5.4)\n",
            "Requirement already satisfied: httptools>=0.6.3 in /usr/local/lib/python3.12/dist-packages (from uvicorn[standard]>=0.18.3->chromadb) (0.7.1)\n",
            "Requirement already satisfied: python-dotenv>=0.13 in /usr/local/lib/python3.12/dist-packages (from uvicorn[standard]>=0.18.3->chromadb) (1.1.1)\n",
            "Requirement already satisfied: uvloop>=0.15.1 in /usr/local/lib/python3.12/dist-packages (from uvicorn[standard]>=0.18.3->chromadb) (0.22.1)\n",
            "Requirement already satisfied: watchfiles>=0.13 in /usr/local/lib/python3.12/dist-packages (from uvicorn[standard]>=0.18.3->chromadb) (1.1.1)\n",
            "Requirement already satisfied: websockets>=10.4 in /usr/local/lib/python3.12/dist-packages (from uvicorn[standard]>=0.18.3->chromadb) (15.0.1)\n",
            "Requirement already satisfied: cachetools<6.0,>=2.0.0 in /usr/local/lib/python3.12/dist-packages (from google-auth>=1.0.1->kubernetes>=28.1.0->chromadb) (5.5.2)\n",
            "Requirement already satisfied: pyasn1-modules>=0.2.1 in /usr/local/lib/python3.12/dist-packages (from google-auth>=1.0.1->kubernetes>=28.1.0->chromadb) (0.4.2)\n",
            "Requirement already satisfied: rsa<5,>=3.1.4 in /usr/local/lib/python3.12/dist-packages (from google-auth>=1.0.1->kubernetes>=28.1.0->chromadb) (4.9.1)\n",
            "Requirement already satisfied: filelock in /usr/local/lib/python3.12/dist-packages (from huggingface-hub<2.0,>=0.16.4->tokenizers>=0.13.2->chromadb) (3.20.0)\n",
            "Requirement already satisfied: fsspec>=2023.5.0 in /usr/local/lib/python3.12/dist-packages (from huggingface-hub<2.0,>=0.16.4->tokenizers>=0.13.2->chromadb) (2025.3.0)\n",
            "Requirement already satisfied: hf-xet<2.0.0,>=1.1.3 in /usr/local/lib/python3.12/dist-packages (from huggingface-hub<2.0,>=0.16.4->tokenizers>=0.13.2->chromadb) (1.1.10)\n",
            "Requirement already satisfied: zipp>=3.20 in /usr/local/lib/python3.12/dist-packages (from importlib-metadata<8.8.0,>=6.0->opentelemetry-api>=1.2.0->chromadb) (3.23.0)\n",
            "Requirement already satisfied: mdurl~=0.1 in /usr/local/lib/python3.12/dist-packages (from markdown-it-py>=2.2.0->rich>=10.11.0->chromadb) (0.1.2)\n",
            "Requirement already satisfied: charset_normalizer<4,>=2 in /usr/local/lib/python3.12/dist-packages (from requests->kubernetes>=28.1.0->chromadb) (3.4.4)\n",
            "Requirement already satisfied: sniffio>=1.1 in /usr/local/lib/python3.12/dist-packages (from anyio->httpx>=0.27.0->chromadb) (1.3.1)\n",
            "Requirement already satisfied: humanfriendly>=9.1 in /usr/local/lib/python3.12/dist-packages (from coloredlogs->onnxruntime>=1.14.1->chromadb) (10.0)\n",
            "Requirement already satisfied: oauthlib>=3.0.0 in /usr/local/lib/python3.12/dist-packages (from requests-oauthlib->kubernetes>=28.1.0->chromadb) (3.3.1)\n",
            "Requirement already satisfied: mpmath<1.4,>=1.1.0 in /usr/local/lib/python3.12/dist-packages (from sympy->onnxruntime>=1.14.1->chromadb) (1.3.0)\n",
            "Requirement already satisfied: pyasn1<0.7.0,>=0.6.1 in /usr/local/lib/python3.12/dist-packages (from pyasn1-modules>=0.2.1->google-auth>=1.0.1->kubernetes>=28.1.0->chromadb) (0.6.1)\n"
          ]
        }
      ]
    },
    {
      "cell_type": "code",
      "source": [
        "import chromadb\n",
        "client=chromadb.Client()\n",
        "collect=client.get_or_create_collection(\"Quespaper\")\n",
        "for i,chunk in enumerate(chunks):\n",
        "  collect.add(documents=[chunk],metadatas={\"chunk id\":i},ids=[str(i)])\n",
        "print(\"Vector db created\")"
      ],
      "metadata": {
        "colab": {
          "base_uri": "https://localhost:8080/"
        },
        "id": "9uLwbc8rUB_C",
        "outputId": "2e4cd92a-5724-4e06-9140-e1e11523cdd3"
      },
      "execution_count": 9,
      "outputs": [
        {
          "output_type": "stream",
          "name": "stderr",
          "text": [
            "/root/.cache/chroma/onnx_models/all-MiniLM-L6-v2/onnx.tar.gz: 100%|██████████| 79.3M/79.3M [00:02<00:00, 31.3MiB/s]\n"
          ]
        },
        {
          "output_type": "stream",
          "name": "stdout",
          "text": [
            "Vector db created\n"
          ]
        }
      ]
    },
    {
      "cell_type": "code",
      "source": [
        "query=\"hi tell me about uniform cost search\"\n",
        "results=collect.query(query_texts=[query],n_results=2)\n",
        "print(results)"
      ],
      "metadata": {
        "colab": {
          "base_uri": "https://localhost:8080/"
        },
        "id": "IV4lrOMLavh4",
        "outputId": "e90dc1ba-10cd-40c7-8722-8716b7b77d05"
      },
      "execution_count": 10,
      "outputs": [
        {
          "output_type": "stream",
          "name": "stdout",
          "text": [
            "{'ids': [['0', '1']], 'embeddings': None, 'documents': [['Roll Number: Name: Thapar Institute of Engineering & Technology, Patiala Mid-Semester Examination 5th Semester UNC504: Artificial Intelligence Date- Oct 07, 2023 Total Marks: 40 Time: 02 Hours Name of Faculty: AS, SM, RU, VK NOTE: * Assume any missing information. Ql. For the given min-max tree below 4+6 (a) Find the value of each non-leaf node using min-max algorithm. (b) Can this tree be pruned? If yes, apply alpha-beta pruning method step-by step (missing steps or direct answer will lead to loss of marks). Q2. What is UCS (Uniform Cost Search) and what kind of data structure will be used', 'to implement 1+1 this search strategy? Perform the UCS on the following graph and show all intermediate steps for +5+ the traversing. Also provide the final path to the solution. Start from node 0 and node 5 is the 1+2 destinarion. In the above graph, if the cost of the edge from node 4 to node 3 is changed to -1, then discuss the UCS for the altered graph. Q3. Perform the A* search algorithm in the following graph and create a complete search tree using 10 heuristic values (depicted alongside the nodes) and path cost. Show all intermediate steps']], 'uris': None, 'included': ['metadatas', 'documents', 'distances'], 'data': None, 'metadatas': [[{'chunk id': 0}, {'chunk id': 1}]], 'distances': [[1.1669114828109741, 1.3568143844604492]]}\n"
          ]
        }
      ]
    },
    {
      "cell_type": "code",
      "source": [
        "str=\"\"\n",
        "for doc,meta in zip(results[\"documents\"][0],results[\"metadatas\"][0]):\n",
        "  print(f\"\\n chunk id:{meta[\"chunk id\"]}\")\n",
        "  print(doc)\n",
        "  str=str+doc\n"
      ],
      "metadata": {
        "colab": {
          "base_uri": "https://localhost:8080/"
        },
        "id": "pEqMN3l0fQl5",
        "outputId": "0ad6d59d-f3b9-43e8-a390-00c2d757b3e3"
      },
      "execution_count": 12,
      "outputs": [
        {
          "output_type": "stream",
          "name": "stdout",
          "text": [
            "\n",
            " chunk id:0\n",
            "Roll Number: Name: Thapar Institute of Engineering & Technology, Patiala Mid-Semester Examination 5th Semester UNC504: Artificial Intelligence Date- Oct 07, 2023 Total Marks: 40 Time: 02 Hours Name of Faculty: AS, SM, RU, VK NOTE: * Assume any missing information. Ql. For the given min-max tree below 4+6 (a) Find the value of each non-leaf node using min-max algorithm. (b) Can this tree be pruned? If yes, apply alpha-beta pruning method step-by step (missing steps or direct answer will lead to loss of marks). Q2. What is UCS (Uniform Cost Search) and what kind of data structure will be used\n",
            "\n",
            " chunk id:1\n",
            "to implement 1+1 this search strategy? Perform the UCS on the following graph and show all intermediate steps for +5+ the traversing. Also provide the final path to the solution. Start from node 0 and node 5 is the 1+2 destinarion. In the above graph, if the cost of the edge from node 4 to node 3 is changed to -1, then discuss the UCS for the altered graph. Q3. Perform the A* search algorithm in the following graph and create a complete search tree using 10 heuristic values (depicted alongside the nodes) and path cost. Show all intermediate steps\n",
            "Roll Number: Name: Thapar Institute of Engineering & Technology, Patiala Mid-Semester Examination 5th Semester UNC504: Artificial Intelligence Date- Oct 07, 2023 Total Marks: 40 Time: 02 Hours Name of Faculty: AS, SM, RU, VK NOTE: * Assume any missing information. Ql. For the given min-max tree below 4+6 (a) Find the value of each non-leaf node using min-max algorithm. (b) Can this tree be pruned? If yes, apply alpha-beta pruning method step-by step (missing steps or direct answer will lead to loss of marks). Q2. What is UCS (Uniform Cost Search) and what kind of data structure will be usedto implement 1+1 this search strategy? Perform the UCS on the following graph and show all intermediate steps for +5+ the traversing. Also provide the final path to the solution. Start from node 0 and node 5 is the 1+2 destinarion. In the above graph, if the cost of the edge from node 4 to node 3 is changed to -1, then discuss the UCS for the altered graph. Q3. Perform the A* search algorithm in the following graph and create a complete search tree using 10 heuristic values (depicted alongside the nodes) and path cost. Show all intermediate steps\n"
          ]
        }
      ]
    },
    {
      "cell_type": "code",
      "source": [
        "!pip install mistralai"
      ],
      "metadata": {
        "colab": {
          "base_uri": "https://localhost:8080/"
        },
        "id": "19U7O1JwQYTJ",
        "outputId": "c57add00-9225-41b7-d975-972ea76995ae"
      },
      "execution_count": 13,
      "outputs": [
        {
          "output_type": "stream",
          "name": "stdout",
          "text": [
            "Collecting mistralai\n",
            "  Downloading mistralai-1.9.11-py3-none-any.whl.metadata (39 kB)\n",
            "Collecting eval-type-backport>=0.2.0 (from mistralai)\n",
            "  Downloading eval_type_backport-0.2.2-py3-none-any.whl.metadata (2.2 kB)\n",
            "Requirement already satisfied: httpx>=0.28.1 in /usr/local/lib/python3.12/dist-packages (from mistralai) (0.28.1)\n",
            "Collecting invoke<3.0.0,>=2.2.0 (from mistralai)\n",
            "  Downloading invoke-2.2.1-py3-none-any.whl.metadata (3.3 kB)\n",
            "Requirement already satisfied: pydantic>=2.10.3 in /usr/local/lib/python3.12/dist-packages (from mistralai) (2.11.10)\n",
            "Requirement already satisfied: python-dateutil>=2.8.2 in /usr/local/lib/python3.12/dist-packages (from mistralai) (2.9.0.post0)\n",
            "Requirement already satisfied: pyyaml<7.0.0,>=6.0.2 in /usr/local/lib/python3.12/dist-packages (from mistralai) (6.0.3)\n",
            "Requirement already satisfied: typing-inspection>=0.4.0 in /usr/local/lib/python3.12/dist-packages (from mistralai) (0.4.2)\n",
            "Requirement already satisfied: anyio in /usr/local/lib/python3.12/dist-packages (from httpx>=0.28.1->mistralai) (4.11.0)\n",
            "Requirement already satisfied: certifi in /usr/local/lib/python3.12/dist-packages (from httpx>=0.28.1->mistralai) (2025.10.5)\n",
            "Requirement already satisfied: httpcore==1.* in /usr/local/lib/python3.12/dist-packages (from httpx>=0.28.1->mistralai) (1.0.9)\n",
            "Requirement already satisfied: idna in /usr/local/lib/python3.12/dist-packages (from httpx>=0.28.1->mistralai) (3.11)\n",
            "Requirement already satisfied: h11>=0.16 in /usr/local/lib/python3.12/dist-packages (from httpcore==1.*->httpx>=0.28.1->mistralai) (0.16.0)\n",
            "Requirement already satisfied: annotated-types>=0.6.0 in /usr/local/lib/python3.12/dist-packages (from pydantic>=2.10.3->mistralai) (0.7.0)\n",
            "Requirement already satisfied: pydantic-core==2.33.2 in /usr/local/lib/python3.12/dist-packages (from pydantic>=2.10.3->mistralai) (2.33.2)\n",
            "Requirement already satisfied: typing-extensions>=4.12.2 in /usr/local/lib/python3.12/dist-packages (from pydantic>=2.10.3->mistralai) (4.15.0)\n",
            "Requirement already satisfied: six>=1.5 in /usr/local/lib/python3.12/dist-packages (from python-dateutil>=2.8.2->mistralai) (1.17.0)\n",
            "Requirement already satisfied: sniffio>=1.1 in /usr/local/lib/python3.12/dist-packages (from anyio->httpx>=0.28.1->mistralai) (1.3.1)\n",
            "Downloading mistralai-1.9.11-py3-none-any.whl (442 kB)\n",
            "\u001b[2K   \u001b[90m━━━━━━━━━━━━━━━━━━━━━━━━━━━━━━━━━━━━━━━━\u001b[0m \u001b[32m442.8/442.8 kB\u001b[0m \u001b[31m16.3 MB/s\u001b[0m eta \u001b[36m0:00:00\u001b[0m\n",
            "\u001b[?25hDownloading eval_type_backport-0.2.2-py3-none-any.whl (5.8 kB)\n",
            "Downloading invoke-2.2.1-py3-none-any.whl (160 kB)\n",
            "\u001b[2K   \u001b[90m━━━━━━━━━━━━━━━━━━━━━━━━━━━━━━━━━━━━━━━━\u001b[0m \u001b[32m160.3/160.3 kB\u001b[0m \u001b[31m11.9 MB/s\u001b[0m eta \u001b[36m0:00:00\u001b[0m\n",
            "\u001b[?25hInstalling collected packages: invoke, eval-type-backport, mistralai\n",
            "Successfully installed eval-type-backport-0.2.2 invoke-2.2.1 mistralai-1.9.11\n"
          ]
        }
      ]
    },
    {
      "cell_type": "code",
      "source": [
        "from mistralai import Mistral\n",
        "client=Mistral(api_key=\"g0A9syaxIAH2ZdPl5OF6G4rMcOQnZ7Lo\")\n",
        "model=\"mistral-large-latest\"\n",
        "response=client.chat.complete(model=model,messages=[{\"role\": \"system\", \"content\": query},\n",
        "        {\"role\": \"user\", \"content\": str}])\n",
        "print(response.choices[0].message.content)"
      ],
      "metadata": {
        "colab": {
          "base_uri": "https://localhost:8080/"
        },
        "id": "-ax0MY1AQe_V",
        "outputId": "25094b21-eb6a-49a1-d062-47dd28fc3f84"
      },
      "execution_count": 14,
      "outputs": [
        {
          "output_type": "stream",
          "name": "stdout",
          "text": [
            "### **Answer to Q2: Uniform Cost Search (UCS)**\n",
            "\n",
            "#### **1. What is Uniform Cost Search (UCS)?**\n",
            "**Uniform Cost Search (UCS)** is an **informed search algorithm** that explores the least-cost path first. It is similar to **Dijkstra's algorithm** and guarantees finding the **optimal (shortest) path** in a weighted graph where edge costs are non-negative.\n",
            "\n",
            "- **Key Features:**\n",
            "  - Uses a **priority queue (min-heap)** to always expand the node with the **lowest path cost**.\n",
            "  - Maintains a **cost-to-reach** value for each node.\n",
            "  - Avoids revisiting nodes with higher costs (unlike BFS, which revisits nodes).\n",
            "\n",
            "#### **2. Data Structure Used in UCS**\n",
            "- **Priority Queue (Min-Heap)** – To always select the node with the **minimum accumulated cost**.\n",
            "- **Visited Set** – To keep track of explored nodes and avoid cycles.\n",
            "\n",
            "---\n",
            "\n",
            "### **3. Applying UCS on the Given Graph (Original Costs)**\n",
            "**Graph:**\n",
            "- Nodes: `0, 1, 2, 3, 4, 5`\n",
            "- Edges with costs:\n",
            "  - `0 → 1 (2)`, `0 → 3 (4)`\n",
            "  - `1 → 2 (3)`, `1 → 4 (5)`\n",
            "  - `2 → 5 (1)`\n",
            "  - `3 → 4 (2)`\n",
            "  - `4 → 5 (3)`\n",
            "\n",
            "**Goal:** Find the shortest path from `0` to `5`.\n",
            "\n",
            "#### **Step-by-Step Execution:**\n",
            "| **Step** | **Priority Queue (Cost, Path)** | **Expanded Node** | **New Nodes Added** | **Action** |\n",
            "|----------|--------------------------------|------------------|---------------------|-----------|\n",
            "| 1        | `(0, [0])`                     | `0`              | `(2, [0→1])`, `(4, [0→3])` | Expand `0` |\n",
            "| 2        | `(2, [0→1])`, `(4, [0→3])`      | `1`              | `(5, [0→1→2])`, `(7, [0→1→4])` | Expand `1` |\n",
            "| 3        | `(4, [0→3])`, `(5, [0→1→2])`, `(7, [0→1→4])` | `3` | `(6, [0→3→4])` | Expand `3` |\n",
            "| 4        | `(5, [0→1→2])`, `(6, [0→3→4])`, `(7, [0→1→4])` | `2` | `(6, [0→1→2→5])` | **Goal Reached!** |\n",
            "\n",
            "**Final Path:** `[0 → 1 → 2 → 5]` with **total cost = 6**.\n",
            "\n",
            "---\n",
            "\n",
            "### **4. UCS on Modified Graph (Edge `4→3` Cost = -1)**\n",
            "**Change:** `4 → 3` now has a **negative cost (-1)**.\n",
            "\n",
            "#### **Problem with Negative Costs:**\n",
            "- UCS (like Dijkstra’s) **fails** with negative edge costs because it assumes the **shortest path is always found first**.\n",
            "- With negative costs, a longer path might later turn out to be cheaper, making UCS **incorrect**.\n",
            "- **Solution:** Use **Bellman-Ford** or **A*** (if heuristic is admissible).\n",
            "\n",
            "#### **Example of Failure:**\n",
            "- Original path: `[0→1→2→5]` (Cost = 6)\n",
            "- New possible path: `[0→1→4→3→4→5]` (Cost = 2 + 5 - 1 + 2 + 3 = **11**? No, but if cycles exist, costs can keep decreasing.)\n",
            "- **UCS may enter infinite loops** due to negative cycles.\n",
            "\n",
            "**Conclusion:** UCS **cannot handle negative edge costs** correctly.\n",
            "\n",
            "---\n",
            "### **Final Answer Summary**\n",
            "1. **UCS Definition:** Finds the least-cost path using a priority queue.\n",
            "2. **Data Structure:** Min-heap + visited set.\n",
            "3. **Original Graph Path:** `[0 → 1 → 2 → 5]` (Cost = 6).\n",
            "4. **Modified Graph (Negative Cost):** UCS fails; use Bellman-Ford instead.\n",
            "\n",
            "---\n",
            "Would you like a detailed explanation of **A* (Q3)** as well? Let me know!\n"
          ]
        }
      ]
    }
  ]
}