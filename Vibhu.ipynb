{
  "nbformat": 4,
  "nbformat_minor": 0,
  "metadata": {
    "colab": {
      "provenance": [],
      "authorship_tag": "ABX9TyOM9A/imicj7GNLbK1o2mpB",
      "include_colab_link": true
    },
    "kernelspec": {
      "name": "python3",
      "display_name": "Python 3"
    },
    "language_info": {
      "name": "python"
    }
  },
  "cells": [
    {
      "cell_type": "markdown",
      "metadata": {
        "id": "view-in-github",
        "colab_type": "text"
      },
      "source": [
        "<a href=\"https://colab.research.google.com/github/aggarwalvaibhav502-png/Vaibhav_Aggarwal09/blob/main/Vibhu.ipynb\" target=\"_parent\"><img src=\"https://colab.research.google.com/assets/colab-badge.svg\" alt=\"Open In Colab\"/></a>"
      ]
    },
    {
      "cell_type": "code",
      "execution_count": null,
      "metadata": {
        "colab": {
          "base_uri": "https://localhost:8080/"
        },
        "id": "8Xp_BiCFmkFZ",
        "outputId": "00ead46e-d7ae-4a9f-9247-e8617d3bde53"
      },
      "outputs": [
        {
          "output_type": "stream",
          "name": "stdout",
          "text": [
            "Helo World\n"
          ]
        }
      ],
      "source": [
        "#First Class\n",
        "\"\"\"My nam\n",
        "jfm\n",
        "cm\n",
        "M\"\"\"\n",
        "'''jd\n",
        "ddd\n",
        "'''\n",
        "print(\"Helo World\")\n"
      ]
    },
    {
      "cell_type": "code",
      "source": [
        "a=[20,10,30,20]\n",
        "print(a[2:])\n",
        "print(a[:2])\n",
        "print(a[-3:-1])"
      ],
      "metadata": {
        "colab": {
          "base_uri": "https://localhost:8080/"
        },
        "id": "CCMLNVmagX7a",
        "outputId": "e4add237-f341-4925-9232-14fe22947412"
      },
      "execution_count": null,
      "outputs": [
        {
          "output_type": "stream",
          "name": "stdout",
          "text": [
            "[30, 20]\n",
            "[20, 10]\n",
            "[10, 30]\n"
          ]
        }
      ]
    },
    {
      "cell_type": "code",
      "source": [
        "#Welcome to our site\n",
        "categories=[\"tshirt\",\"watches\",\"shoes\",\"shirts\",\"jeans\"]\n",
        "#Categories Brands\n",
        "tshirt=[\"Nike\",\"Adidas\",\"Puma\"]\n",
        "watches=[\"Titan\",\"Fossil\",\"Casio\"]\n",
        "shoes=[\"reebok\",\"woodland\",\"skechers\"]\n",
        "shirts=[\"Van Heusen\",\"Peter England\",\"Louis Philippe\"]\n",
        "jeans=[\"Levi’s\",\"Wrangler\",\"Lee\"]\n",
        "\n",
        "#T-shirts\n",
        "nike=[\"air tee\",\"court tee\",\"running tee\"]\n",
        "nike_price=[1999, 1499, 1799]\n",
        "adidas=[\"3-stripes tee\",\"running tee\",\"polo tee\"]\n",
        "adidas_price=[1499, 1699, 1599]\n",
        "puma=[\"active tee\",\"bmw tee\",\"ferrari tee\"]\n",
        "puma_price=[1499, 1999, 2299]\n",
        "\n",
        "#watches\n",
        "\n",
        "titan=[\"edge\",\"octane\",\"nebula\"]\n",
        "titan_price=[8999, 1999, 6999]\n",
        "fossil=[\"sport\",\"grant\",\"neutra\"]\n",
        "fossil_price=[9999, 11999, 10999]\n",
        "casio:[\"g-shock\",\"edifice\",\"pro trek\"]\n",
        "\n",
        "#shoes\n",
        "reebok=[\"classic leather\",\"nano\",\"floatride\"]\n",
        "reebok_price=[5999, 9999, 8999]\n",
        "woodland=[\"outdoor boots\",\"trekking shoes\",\"casual sneakers\"]\n",
        "woodland_price=[5999, 6999, 4999]\n",
        "skechers=[\"go walk\",\"arch fit\",\"flex advantage\"]\n",
        "skechers_price=[6999, 5999, 7499]\n",
        "\n",
        "#shirts\n",
        "van_heusen=[\"formal slim fit\",\"linen shirt\",\"classic white\"]\n",
        "van_heusen_price=[1499, 1299, 1999]\n",
        "peter_england=[\"formal solid\",\"casual checkered\",\"denim shirt\"]\n",
        "peter_england_price=[999, 1199, 1599]\n",
        "louis_philippe=[\"classic formal\",\"luxury white\",\"premium linen\"]\n",
        "louis_philippe_price=[1999, 2499, 2999]\n",
        "\n",
        "#jeans\n",
        "\n",
        "levis=[\"511 slim\",\"512 taper\",\"501 original\"]\n",
        "levis_price[3499, 3799, 3999]\n",
        "wrangler=[\"slim fit\",\"bootcut\",\"tapered\"]\n",
        "wrangler_price=[2999, 3199, 3499]\n",
        "lee:[\"skinny\",\"straight\",\"bootcut\"]\n",
        "lee_price=[3299, 3499, 3799]\n",
        "\n",
        "#My cart\n",
        "cart=[]\n",
        "total price=0\n",
        "\n",
        "item=(input(\"Do you want something?\"))\n",
        "\n",
        "while(item==\"yes\"):\n",
        "  print(\"Here are the categories we have:\")\n",
        "  print(categories)\n",
        "\n",
        "  category_wanted=input(\"Which category do you want? \")\n",
        "  if category==\"tshirt\":\n",
        "\n"
      ],
      "metadata": {
        "id": "fH-BvZHrmhgF"
      },
      "execution_count": null,
      "outputs": []
    },
    {
      "cell_type": "code",
      "source": [
        "# Welcome to our site\n",
        "categories = [\"tshirt\", \"watches\", \"shoes\", \"shirts\", \"jeans\"]\n",
        "\n",
        "# Categories Brands + Prices\n",
        "tshirt = [\"Nike\", \"Adidas\", \"Puma\"]\n",
        "tshirt_price = [1999, 1499, 1799]\n",
        "\n",
        "watches = [\"Titan\", \"Fossil\", \"Casio\"]\n",
        "watches_price = [9999, 11999, 10999]\n",
        "\n",
        "shoes = [\"reebok\", \"woodland\", \"skechers\"]\n",
        "shoes_price = [5999, 6999, 4999]\n",
        "\n",
        "shirts = [\"Van Heusen\", \"Peter England\", \"Louis Philippe\"]\n",
        "shirts_price = [1499, 1299, 1999]\n",
        "\n",
        "jeans = [\"Levi’s\", \"Wrangler\", \"Lee\"]\n",
        "jeans_price = [3499, 3799, 3999]\n",
        "\n",
        "coupoun=(\"flat10\",\"flat20\",\"save5\")\n",
        "# My cart\n",
        "cart = []\n",
        "total_price = 0\n",
        "\n",
        "item = input(\"Do you want anything? (yes/no): \").lower()\n",
        "\n",
        "while item == \"yes\":\n",
        "    category_wanted = input(\"Which category do you want? \").lower()\n",
        "\n",
        "    if category_wanted == \"tshirt\":\n",
        "        tshirt_wanted = input(f\"Which tshirt do you want? {tshirt}: \")\n",
        "        if tshirt_wanted in tshirt:\n",
        "            idx = tshirt.index(tshirt_wanted)\n",
        "            total_price += tshirt_price[idx]\n",
        "            cart.append(tshirt_wanted)\n",
        "        else:\n",
        "            print(\"Sorry, we do not have this item\")\n",
        "\n",
        "    elif category_wanted == \"watches\":\n",
        "        watch_wanted = input(f\"Which watch do you want? {watches}: \")\n",
        "        if watch_wanted in watches:\n",
        "            idx = watches.index(watch_wanted)\n",
        "            total_price += watches_price[idx]\n",
        "            cart.append(watch_wanted)\n",
        "        else:\n",
        "            print(\"Sorry, we do not have this item\")\n",
        "\n",
        "    elif category_wanted == \"shoes\":\n",
        "        shoes_wanted = input(f\"Which shoes do you want? {shoes}: \")\n",
        "        if shoes_wanted in shoes:\n",
        "            idx = shoes.index(shoes_wanted)\n",
        "            total_price += shoes_price[idx]\n",
        "            cart.append(shoes_wanted)\n",
        "        else:\n",
        "            print(\"Sorry, we do not have this item\")\n",
        "\n",
        "    elif category_wanted == \"shirts\":\n",
        "        shirt_wanted = input(f\"Which shirt do you want? {shirts}: \")\n",
        "        if shirt_wanted in shirts:\n",
        "            idx = shirts.index(shirt_wanted)\n",
        "            total_price += shirts_price[idx]\n",
        "            cart.append(shirt_wanted)\n",
        "        else:\n",
        "            print(\"Sorry, we do not have this item\")\n",
        "\n",
        "    elif category_wanted == \"jeans\":\n",
        "        jean_wanted = input(f\"Which jeans do you want? {jeans}: \")\n",
        "        if jean_wanted in jeans:\n",
        "            idx = jeans.index(jean_wanted)\n",
        "            total_price += jeans_price[idx]\n",
        "            cart.append(jean_wanted)\n",
        "        else:\n",
        "            print(\"Sorry, we do not have this item\")\n",
        "\n",
        "    else:\n",
        "        print(\"Sorry, we do not have this category\")\n",
        "\n",
        "    item = input(\"Do you want anything else? (yes/no): \").lower()\n",
        "\n",
        "print(f\" Your products are: {cart}\")\n",
        "print(f\" Your total is: {total_price}\")\n"
      ],
      "metadata": {
        "colab": {
          "base_uri": "https://localhost:8080/"
        },
        "id": "ofrcylCfqxdm",
        "outputId": "a1226cf7-1821-4a1c-dc55-2255abde3298"
      },
      "execution_count": 1,
      "outputs": [
        {
          "output_type": "stream",
          "name": "stdout",
          "text": [
            "Do you want anything? (yes/no): yes\n",
            "Which category do you want? tshirt\n",
            "Which tshirt do you want? ['Nike', 'Adidas', 'Puma']: Nike\n",
            "Do you want anything else? (yes/no): yes\n",
            "Which category do you want? shoes\n",
            "Which shoes do you want? ['reebok', 'woodland', 'skechers']: woodland\n",
            "Do you want anything else? (yes/no): no\n",
            " Your products are: ['Nike', 'woodland']\n",
            " Your total is: 8998\n"
          ]
        }
      ]
    },
    {
      "cell_type": "code",
      "source": [
        "#Recursion\n",
        "def factorial(n):\n",
        "  if(n==0 or n==1):\n",
        "    return 1\n",
        "  else:\n",
        "    return n*factorial(n-1)\n",
        "print(factorial(5))"
      ],
      "metadata": {
        "colab": {
          "base_uri": "https://localhost:8080/"
        },
        "id": "MOzarOQQVlfJ",
        "outputId": "6e469195-5015-4779-b9e8-d0aefb363bd9"
      },
      "execution_count": 4,
      "outputs": [
        {
          "output_type": "execute_result",
          "data": {
            "text/plain": [
              "120"
            ]
          },
          "metadata": {},
          "execution_count": 4
        }
      ]
    },
    {
      "cell_type": "code",
      "source": [
        "#Dictoniary ki value mai list and tople nhi use kr skte\n",
        "employee={\n",
        "    \"name\":[\"Adiri\",\"akansha\",\"jaisleen\"],\n",
        "    \"Salary\":[100,1000,10000],\n",
        "    \"Department\":[\"IT\",\"Mechanicak\",\"CSE\"]\n",
        "}\n",
        "#To print each element in list with their salary\n",
        "for i range(len(employee['name'])):\n",
        "  print(f\"Name of employee:{}\")"
      ],
      "metadata": {
        "id": "rDOAtpLtZ-HZ"
      },
      "execution_count": null,
      "outputs": []
    },
    {
      "cell_type": "code",
      "source": [
        "#String\n",
        "name=\"Aditi half mad\"\n",
        "if 'f' in name:\n",
        "  print(\"Availabe\")\n",
        "else:\n",
        "  print(\"Not\")\n",
        "ti=\"ro\"\n",
        "result=name+ti\n",
        "print(result)\n",
        "print(name[0])\n",
        "print(name[:3])\n",
        "print(name[:-1])\n",
        "reverse=name[::-1]\n",
        "print(reverse)\n",
        "\n",
        "s1=\" Punjab \"\n",
        "state=s1.strip()#Strip function remove space at beginning at end\n",
        "print(state)\n",
        "state=\"p u n j a b\"\n",
        "s2=srtat"
      ],
      "metadata": {
        "colab": {
          "base_uri": "https://localhost:8080/"
        },
        "id": "4RmDUCsqcAXj",
        "outputId": "9508ab4f-0bb2-45bb-805e-925a057f228c"
      },
      "execution_count": 13,
      "outputs": [
        {
          "output_type": "stream",
          "name": "stdout",
          "text": [
            "Availabe\n",
            "Aditi half madro\n",
            "A\n",
            "Adi\n",
            "Aditi half ma\n",
            "dam flah itidA\n",
            " Punjab \n"
          ]
        }
      ]
    },
    {
      "cell_type": "code",
      "source": [
        "def fibonacci(n):\n",
        "  a=0\n",
        "  b=1\n",
        "  for i in range(2,n+1):\n",
        "    c=a+b\n",
        "    a=b\n",
        "    b=c\n",
        "  return b\n",
        "print(fibonacci(5))"
      ],
      "metadata": {
        "colab": {
          "base_uri": "https://localhost:8080/"
        },
        "id": "m7XsUvtfegBH",
        "outputId": "16c5aff7-70c7-4190-cddb-4e540c17baa3"
      },
      "execution_count": 12,
      "outputs": [
        {
          "output_type": "stream",
          "name": "stdout",
          "text": [
            "5\n"
          ]
        }
      ]
    },
    {
      "cell_type": "code",
      "source": [
        "def fibrec(n,sum):\n",
        "  if n==0:\n",
        "    return 0\n",
        "  if n==1:\n",
        "    return 1\n",
        "  return fibrec(n-1,sum+n)+fibrec(n-2)\n",
        "print(fibrec(5,0))"
      ],
      "metadata": {
        "colab": {
          "base_uri": "https://localhost:8080/"
        },
        "id": "axMTSN8ufQRV",
        "outputId": "c9f8a319-c0e0-42ed-b417-2d1f00c42b44"
      },
      "execution_count": 13,
      "outputs": [
        {
          "output_type": "stream",
          "name": "stdout",
          "text": [
            "5\n"
          ]
        }
      ]
    },
    {
      "cell_type": "code",
      "source": [
        "#HCF\n",
        "a=1058\n",
        "b=253\n",
        "min=0\n",
        "if a>b:\n",
        "  min=b\n",
        "else:\n",
        "  min=a\n",
        "ans=0\n",
        "for i in range(1,min+1):\n",
        "  if a%i==0 and b%i==0:\n",
        "    ans=i\n",
        "print(ans)\n"
      ],
      "metadata": {
        "colab": {
          "base_uri": "https://localhost:8080/"
        },
        "id": "xekhDWj-iXew",
        "outputId": "08d78ae1-e5da-4bc6-f467-eb50dccb79d0"
      },
      "execution_count": 15,
      "outputs": [
        {
          "output_type": "stream",
          "name": "stdout",
          "text": [
            "23\n"
          ]
        }
      ]
    },
    {
      "cell_type": "code",
      "source": [
        "#LCM(HCF*LCM=a*b)\n",
        "a=3\n",
        "b=8\n",
        "max=0\n",
        "if a>b:\n",
        "  max=a\n",
        "else:\n",
        "  max=b\n",
        "ans=0\n",
        "for i in range(max,a*b+1):\n",
        "  if i%a==0 and i%b==0:\n",
        "    ans=i\n",
        "    break\n",
        "\n",
        "print(ans)"
      ],
      "metadata": {
        "colab": {
          "base_uri": "https://localhost:8080/"
        },
        "id": "7E52go6Hm7UC",
        "outputId": "5356aa22-aeac-4e1d-ef85-038cd3b817d1"
      },
      "execution_count": 16,
      "outputs": [
        {
          "output_type": "stream",
          "name": "stdout",
          "text": [
            "24\n"
          ]
        }
      ]
    },
    {
      "cell_type": "code",
      "source": [
        "# Restaurant Billing using Dictionary and Functions\n",
        "\n",
        "def add_price(price, total_price):\n",
        "    return total_price + price\n",
        "\n",
        "def add_discount(discount_percent, price, total_discount):\n",
        "    return total_discount + (discount_percent / 100) * price\n",
        "\n",
        "menu = {\n",
        "    \"items\": [\"Pizza\", \"Burger\", \"Fries\", \"Coke\", \"Ice-cream\"],\n",
        "    \"price\": [400, 200, 250, 80, 100],\n",
        "    \"discount\": [5, 10, 15, 5, 10]\n",
        "}\n",
        "\n",
        "total_price = 0\n",
        "total_discount = 0\n",
        "items_ordered = []\n",
        "\n",
        "n = int(input(\"Enter how many items you want: \"))\n",
        "\n",
        "for i in range(n):\n",
        "    dish = input(f\"Enter item {i+1}: \")\n",
        "    if dish in menu[\"items\"]:\n",
        "        items_ordered.append(dish)\n",
        "        idx = menu[\"items\"].index(dish)\n",
        "        price_of_dish = menu[\"price\"][idx]\n",
        "        discount_on_dish = menu[\"discount\"][idx]\n",
        "\n",
        "        total_price = add_price(price_of_dish, total_price)\n",
        "        total_discount = add_discount(discount_on_dish, price_of_dish, total_discount)\n",
        "    else:\n",
        "        print(f\" {dish} is not in the menu. Please choose again.\")\n",
        "\n",
        "bill = total_price - total_discount\n",
        "print(f\" Your items: {items_ordered}\")\n",
        "print(f\"Total Price: {total_price}\")\n",
        "print(f\"Total Discount: {total_discount}\")\n",
        "print(f\"Final Bill: {bill}\")\n"
      ],
      "metadata": {
        "colab": {
          "base_uri": "https://localhost:8080/",
          "height": 356
        },
        "id": "NenvBcwj_tSY",
        "outputId": "36a089b1-d9ac-49f2-f6a3-30e6416ca86b"
      },
      "execution_count": 2,
      "outputs": [
        {
          "output_type": "error",
          "ename": "KeyboardInterrupt",
          "evalue": "Interrupted by user",
          "traceback": [
            "\u001b[0;31m---------------------------------------------------------------------------\u001b[0m",
            "\u001b[0;31mKeyboardInterrupt\u001b[0m                         Traceback (most recent call last)",
            "\u001b[0;32m/tmp/ipython-input-3910186301.py\u001b[0m in \u001b[0;36m<cell line: 0>\u001b[0;34m()\u001b[0m\n\u001b[1;32m     17\u001b[0m \u001b[0mitems_ordered\u001b[0m \u001b[0;34m=\u001b[0m \u001b[0;34m[\u001b[0m\u001b[0;34m]\u001b[0m\u001b[0;34m\u001b[0m\u001b[0;34m\u001b[0m\u001b[0m\n\u001b[1;32m     18\u001b[0m \u001b[0;34m\u001b[0m\u001b[0m\n\u001b[0;32m---> 19\u001b[0;31m \u001b[0mn\u001b[0m \u001b[0;34m=\u001b[0m \u001b[0mint\u001b[0m\u001b[0;34m(\u001b[0m\u001b[0minput\u001b[0m\u001b[0;34m(\u001b[0m\u001b[0;34m\"Enter how many items you want: \"\u001b[0m\u001b[0;34m)\u001b[0m\u001b[0;34m)\u001b[0m\u001b[0;34m\u001b[0m\u001b[0;34m\u001b[0m\u001b[0m\n\u001b[0m\u001b[1;32m     20\u001b[0m \u001b[0;34m\u001b[0m\u001b[0m\n\u001b[1;32m     21\u001b[0m \u001b[0;32mfor\u001b[0m \u001b[0mi\u001b[0m \u001b[0;32min\u001b[0m \u001b[0mrange\u001b[0m\u001b[0;34m(\u001b[0m\u001b[0mn\u001b[0m\u001b[0;34m)\u001b[0m\u001b[0;34m:\u001b[0m\u001b[0;34m\u001b[0m\u001b[0;34m\u001b[0m\u001b[0m\n",
            "\u001b[0;32m/usr/local/lib/python3.12/dist-packages/ipykernel/kernelbase.py\u001b[0m in \u001b[0;36mraw_input\u001b[0;34m(self, prompt)\u001b[0m\n\u001b[1;32m   1175\u001b[0m                 \u001b[0;34m\"raw_input was called, but this frontend does not support input requests.\"\u001b[0m\u001b[0;34m\u001b[0m\u001b[0;34m\u001b[0m\u001b[0m\n\u001b[1;32m   1176\u001b[0m             )\n\u001b[0;32m-> 1177\u001b[0;31m         return self._input_request(\n\u001b[0m\u001b[1;32m   1178\u001b[0m             \u001b[0mstr\u001b[0m\u001b[0;34m(\u001b[0m\u001b[0mprompt\u001b[0m\u001b[0;34m)\u001b[0m\u001b[0;34m,\u001b[0m\u001b[0;34m\u001b[0m\u001b[0;34m\u001b[0m\u001b[0m\n\u001b[1;32m   1179\u001b[0m             \u001b[0mself\u001b[0m\u001b[0;34m.\u001b[0m\u001b[0m_parent_ident\u001b[0m\u001b[0;34m[\u001b[0m\u001b[0;34m\"shell\"\u001b[0m\u001b[0;34m]\u001b[0m\u001b[0;34m,\u001b[0m\u001b[0;34m\u001b[0m\u001b[0;34m\u001b[0m\u001b[0m\n",
            "\u001b[0;32m/usr/local/lib/python3.12/dist-packages/ipykernel/kernelbase.py\u001b[0m in \u001b[0;36m_input_request\u001b[0;34m(self, prompt, ident, parent, password)\u001b[0m\n\u001b[1;32m   1217\u001b[0m             \u001b[0;32mexcept\u001b[0m \u001b[0mKeyboardInterrupt\u001b[0m\u001b[0;34m:\u001b[0m\u001b[0;34m\u001b[0m\u001b[0;34m\u001b[0m\u001b[0m\n\u001b[1;32m   1218\u001b[0m                 \u001b[0;31m# re-raise KeyboardInterrupt, to truncate traceback\u001b[0m\u001b[0;34m\u001b[0m\u001b[0;34m\u001b[0m\u001b[0m\n\u001b[0;32m-> 1219\u001b[0;31m                 \u001b[0;32mraise\u001b[0m \u001b[0mKeyboardInterrupt\u001b[0m\u001b[0;34m(\u001b[0m\u001b[0;34m\"Interrupted by user\"\u001b[0m\u001b[0;34m)\u001b[0m \u001b[0;32mfrom\u001b[0m \u001b[0;32mNone\u001b[0m\u001b[0;34m\u001b[0m\u001b[0;34m\u001b[0m\u001b[0m\n\u001b[0m\u001b[1;32m   1220\u001b[0m             \u001b[0;32mexcept\u001b[0m \u001b[0mException\u001b[0m\u001b[0;34m:\u001b[0m\u001b[0;34m\u001b[0m\u001b[0;34m\u001b[0m\u001b[0m\n\u001b[1;32m   1221\u001b[0m                 \u001b[0mself\u001b[0m\u001b[0;34m.\u001b[0m\u001b[0mlog\u001b[0m\u001b[0;34m.\u001b[0m\u001b[0mwarning\u001b[0m\u001b[0;34m(\u001b[0m\u001b[0;34m\"Invalid Message:\"\u001b[0m\u001b[0;34m,\u001b[0m \u001b[0mexc_info\u001b[0m\u001b[0;34m=\u001b[0m\u001b[0;32mTrue\u001b[0m\u001b[0;34m)\u001b[0m\u001b[0;34m\u001b[0m\u001b[0;34m\u001b[0m\u001b[0m\n",
            "\u001b[0;31mKeyboardInterrupt\u001b[0m: Interrupted by user"
          ]
        }
      ]
    },
    {
      "cell_type": "code",
      "source": [
        "#Rope Problem\n",
        "a=36\n",
        "b=48\n",
        "min=a\n",
        "if b<a:\n",
        "  min=b\n",
        "ans=0\n",
        "for i in range(1,min+1):\n",
        "  if a%i==0 and b%i==0:\n",
        "    ans=i\n",
        "\n",
        "print(f\"The maximun length is {ans}\")"
      ],
      "metadata": {
        "colab": {
          "base_uri": "https://localhost:8080/"
        },
        "id": "4aPlJKiQgQMv",
        "outputId": "fcfdc92f-c8c7-4fb9-c36a-02017cf2aa62"
      },
      "execution_count": 5,
      "outputs": [
        {
          "output_type": "stream",
          "name": "stdout",
          "text": [
            "The maximun length is 12\n"
          ]
        }
      ]
    },
    {
      "cell_type": "code",
      "source": [
        "#Circle problem\n",
        "a=40\n",
        "b=30\n",
        "max=a\n",
        "ans=0\n",
        "total_time=15*60\n",
        "no_of_times=0\n",
        "if b>a:\n",
        "  max=b\n",
        "for i in range(max,a*b+1):\n",
        "  if i%a==0 and i%b==0:\n",
        "    ans=i\n",
        "    no_of_times=(total_time//i)\n",
        "    break\n",
        "print(f\"They meet after {ans} sec\")\n",
        "print(f\"They meet {no_of_times} times in 15 minutes\")\n"
      ],
      "metadata": {
        "colab": {
          "base_uri": "https://localhost:8080/"
        },
        "id": "vOGxa7V_kpL4",
        "outputId": "3830fedb-ed30-4de9-d3cd-5be0d42867d0"
      },
      "execution_count": 11,
      "outputs": [
        {
          "output_type": "stream",
          "name": "stdout",
          "text": [
            "They meet after 120 sec\n",
            "They meet 7 times in 15 minutes\n"
          ]
        }
      ]
    },
    {
      "cell_type": "code",
      "source": [
        "dict={\"name\":[\"Rahul\",\"Rohan\",\"Mohit\"],\"age\":[12,15,16],\"class\":[6,9,10]}\n",
        "for value in dict.values():\n",
        "  for i in value:\n",
        "    print(i)\n"
      ],
      "metadata": {
        "colab": {
          "base_uri": "https://localhost:8080/"
        },
        "id": "zlfeGmrudx6T",
        "outputId": "74200785-568b-481a-8839-3e79af6a8075"
      },
      "execution_count": 2,
      "outputs": [
        {
          "output_type": "stream",
          "name": "stdout",
          "text": [
            "Rahul\n",
            "Rohan\n",
            "Mohit\n",
            "12\n",
            "15\n",
            "16\n",
            "6\n",
            "9\n",
            "10\n"
          ]
        }
      ]
    },
    {
      "cell_type": "code",
      "source": [
        "def add(a,b):\n",
        "  return a+b\n",
        "print(add(1,2))"
      ],
      "metadata": {
        "colab": {
          "base_uri": "https://localhost:8080/"
        },
        "id": "kw1YWJFbGUxo",
        "outputId": "54f82c04-f0cc-45ab-a37d-a48d63536a67"
      },
      "execution_count": 3,
      "outputs": [
        {
          "output_type": "stream",
          "name": "stdout",
          "text": [
            "3\n"
          ]
        }
      ]
    },
    {
      "cell_type": "code",
      "source": [
        "def fact(n):\n",
        "  prod=1\n",
        "  for i in range(1,n+1):\n",
        "    prod=prod*i\n",
        "  return prod\n",
        "a=fact(4)\n",
        "print(a)"
      ],
      "metadata": {
        "colab": {
          "base_uri": "https://localhost:8080/"
        },
        "id": "DDx-NgRWGhTJ",
        "outputId": "5040a729-b1a1-4f27-a1d7-a62289a60fa0"
      },
      "execution_count": 4,
      "outputs": [
        {
          "output_type": "stream",
          "name": "stdout",
          "text": [
            "24\n"
          ]
        }
      ]
    },
    {
      "cell_type": "code",
      "source": [
        "def addition1(* args):#It takes as touple\n",
        "  return sum(args)\n",
        "print(addition1(1,2,3,4))"
      ],
      "metadata": {
        "colab": {
          "base_uri": "https://localhost:8080/"
        },
        "id": "Z4B3uC2qJhz5",
        "outputId": "5b7451af-bc21-4a05-8512-d1311cd13f65"
      },
      "execution_count": 5,
      "outputs": [
        {
          "output_type": "stream",
          "name": "stdout",
          "text": [
            "10\n"
          ]
        }
      ]
    },
    {
      "cell_type": "code",
      "source": [
        "def addition2(**kwargs):#It takes as dictionary\n",
        "  for key,value in kwargs.items():\n",
        "    print(f\"{key}={value}\")\n",
        "addition2(name=\"aditya\",age=23)"
      ],
      "metadata": {
        "colab": {
          "base_uri": "https://localhost:8080/"
        },
        "id": "JsfQB2NuKCmF",
        "outputId": "4fc2c0a3-1ba2-4425-b034-81a64a1ba57b"
      },
      "execution_count": 7,
      "outputs": [
        {
          "output_type": "stream",
          "name": "stdout",
          "text": [
            "name=aditya\n",
            "age=23\n"
          ]
        }
      ]
    },
    {
      "cell_type": "code",
      "source": [
        "a=lambda x,y:x+y#Chhote se function k liye\n",
        "print(a(2,3))"
      ],
      "metadata": {
        "colab": {
          "base_uri": "https://localhost:8080/"
        },
        "id": "sN6U6hkeLUuT",
        "outputId": "9e2c028d-4706-4944-a26b-4723f1bc861f"
      },
      "execution_count": 8,
      "outputs": [
        {
          "output_type": "stream",
          "name": "stdout",
          "text": [
            "5\n"
          ]
        }
      ]
    },
    {
      "cell_type": "code",
      "source": [
        "loan=int(input(\"Enter the amount to want to take loan:\"))\n",
        "time=float(input(\"Enter the time for loan:\"))\n",
        "rate=float(input(\"Enter the rate:\"))\n",
        "total_amount=((loan*time*rate)/100)+loan\n",
        "emi=total_amount/(time*12)\n",
        "salary=int(input(\"Enter the persons salary\"))\n",
        "credit_score=int(input(\"Enter the person's credit score\"))\n",
        "collateral_value=int(input(\"Enter the amount for your collateral\"))\n",
        "if credit_score>500:\n",
        "  if emi<(0.25*salary):\n",
        "    if collateral_value>(.7*loan):\n",
        "      print(\"Your loan has been passed\")\n",
        "    else:\n",
        "      print(\"Loan not approved\")\n",
        "  else:\n",
        "    print(\"Loan not approved\")\n",
        "else:\n",
        "  print(\"Loan not approved\")\n",
        "\n"
      ],
      "metadata": {
        "colab": {
          "base_uri": "https://localhost:8080/",
          "height": 365
        },
        "id": "hIJxeSXYqcjn",
        "outputId": "2875dd9f-c304-4ea0-8c51-ccd9ec19eeb5"
      },
      "execution_count": null,
      "outputs": [
        {
          "output_type": "error",
          "ename": "KeyboardInterrupt",
          "evalue": "Interrupted by user",
          "traceback": [
            "\u001b[0;31m---------------------------------------------------------------------------\u001b[0m",
            "\u001b[0;31mKeyboardInterrupt\u001b[0m                         Traceback (most recent call last)",
            "\u001b[0;32m/tmp/ipython-input-2819291789.py\u001b[0m in \u001b[0;36m<cell line: 0>\u001b[0;34m()\u001b[0m\n\u001b[0;32m----> 1\u001b[0;31m \u001b[0mloan\u001b[0m\u001b[0;34m=\u001b[0m\u001b[0mint\u001b[0m\u001b[0;34m(\u001b[0m\u001b[0minput\u001b[0m\u001b[0;34m(\u001b[0m\u001b[0;34m\"Enter the amount to want to take loan:\"\u001b[0m\u001b[0;34m)\u001b[0m\u001b[0;34m)\u001b[0m\u001b[0;34m\u001b[0m\u001b[0;34m\u001b[0m\u001b[0m\n\u001b[0m\u001b[1;32m      2\u001b[0m \u001b[0mtime\u001b[0m\u001b[0;34m=\u001b[0m\u001b[0mfloat\u001b[0m\u001b[0;34m(\u001b[0m\u001b[0minput\u001b[0m\u001b[0;34m(\u001b[0m\u001b[0;34m\"Enter the time for loan:\"\u001b[0m\u001b[0;34m)\u001b[0m\u001b[0;34m)\u001b[0m\u001b[0;34m\u001b[0m\u001b[0;34m\u001b[0m\u001b[0m\n\u001b[1;32m      3\u001b[0m \u001b[0mrate\u001b[0m\u001b[0;34m=\u001b[0m\u001b[0mfloat\u001b[0m\u001b[0;34m(\u001b[0m\u001b[0minput\u001b[0m\u001b[0;34m(\u001b[0m\u001b[0;34m\"Enter the rate:\"\u001b[0m\u001b[0;34m)\u001b[0m\u001b[0;34m)\u001b[0m\u001b[0;34m\u001b[0m\u001b[0;34m\u001b[0m\u001b[0m\n\u001b[1;32m      4\u001b[0m \u001b[0mtotal_amount\u001b[0m\u001b[0;34m=\u001b[0m\u001b[0;34m(\u001b[0m\u001b[0;34m(\u001b[0m\u001b[0mloan\u001b[0m\u001b[0;34m*\u001b[0m\u001b[0mtime\u001b[0m\u001b[0;34m*\u001b[0m\u001b[0mrate\u001b[0m\u001b[0;34m)\u001b[0m\u001b[0;34m/\u001b[0m\u001b[0;36m100\u001b[0m\u001b[0;34m)\u001b[0m\u001b[0;34m+\u001b[0m\u001b[0mloan\u001b[0m\u001b[0;34m\u001b[0m\u001b[0;34m\u001b[0m\u001b[0m\n\u001b[1;32m      5\u001b[0m \u001b[0memi\u001b[0m\u001b[0;34m=\u001b[0m\u001b[0mtotal_amount\u001b[0m\u001b[0;34m/\u001b[0m\u001b[0;34m(\u001b[0m\u001b[0mtime\u001b[0m\u001b[0;34m*\u001b[0m\u001b[0;36m12\u001b[0m\u001b[0;34m)\u001b[0m\u001b[0;34m\u001b[0m\u001b[0;34m\u001b[0m\u001b[0m\n",
            "\u001b[0;32m/usr/local/lib/python3.12/dist-packages/ipykernel/kernelbase.py\u001b[0m in \u001b[0;36mraw_input\u001b[0;34m(self, prompt)\u001b[0m\n\u001b[1;32m   1175\u001b[0m                 \u001b[0;34m\"raw_input was called, but this frontend does not support input requests.\"\u001b[0m\u001b[0;34m\u001b[0m\u001b[0;34m\u001b[0m\u001b[0m\n\u001b[1;32m   1176\u001b[0m             )\n\u001b[0;32m-> 1177\u001b[0;31m         return self._input_request(\n\u001b[0m\u001b[1;32m   1178\u001b[0m             \u001b[0mstr\u001b[0m\u001b[0;34m(\u001b[0m\u001b[0mprompt\u001b[0m\u001b[0;34m)\u001b[0m\u001b[0;34m,\u001b[0m\u001b[0;34m\u001b[0m\u001b[0;34m\u001b[0m\u001b[0m\n\u001b[1;32m   1179\u001b[0m             \u001b[0mself\u001b[0m\u001b[0;34m.\u001b[0m\u001b[0m_parent_ident\u001b[0m\u001b[0;34m[\u001b[0m\u001b[0;34m\"shell\"\u001b[0m\u001b[0;34m]\u001b[0m\u001b[0;34m,\u001b[0m\u001b[0;34m\u001b[0m\u001b[0;34m\u001b[0m\u001b[0m\n",
            "\u001b[0;32m/usr/local/lib/python3.12/dist-packages/ipykernel/kernelbase.py\u001b[0m in \u001b[0;36m_input_request\u001b[0;34m(self, prompt, ident, parent, password)\u001b[0m\n\u001b[1;32m   1217\u001b[0m             \u001b[0;32mexcept\u001b[0m \u001b[0mKeyboardInterrupt\u001b[0m\u001b[0;34m:\u001b[0m\u001b[0;34m\u001b[0m\u001b[0;34m\u001b[0m\u001b[0m\n\u001b[1;32m   1218\u001b[0m                 \u001b[0;31m# re-raise KeyboardInterrupt, to truncate traceback\u001b[0m\u001b[0;34m\u001b[0m\u001b[0;34m\u001b[0m\u001b[0m\n\u001b[0;32m-> 1219\u001b[0;31m                 \u001b[0;32mraise\u001b[0m \u001b[0mKeyboardInterrupt\u001b[0m\u001b[0;34m(\u001b[0m\u001b[0;34m\"Interrupted by user\"\u001b[0m\u001b[0;34m)\u001b[0m \u001b[0;32mfrom\u001b[0m \u001b[0;32mNone\u001b[0m\u001b[0;34m\u001b[0m\u001b[0;34m\u001b[0m\u001b[0m\n\u001b[0m\u001b[1;32m   1220\u001b[0m             \u001b[0;32mexcept\u001b[0m \u001b[0mException\u001b[0m\u001b[0;34m:\u001b[0m\u001b[0;34m\u001b[0m\u001b[0;34m\u001b[0m\u001b[0m\n\u001b[1;32m   1221\u001b[0m                 \u001b[0mself\u001b[0m\u001b[0;34m.\u001b[0m\u001b[0mlog\u001b[0m\u001b[0;34m.\u001b[0m\u001b[0mwarning\u001b[0m\u001b[0;34m(\u001b[0m\u001b[0;34m\"Invalid Message:\"\u001b[0m\u001b[0;34m,\u001b[0m \u001b[0mexc_info\u001b[0m\u001b[0;34m=\u001b[0m\u001b[0;32mTrue\u001b[0m\u001b[0;34m)\u001b[0m\u001b[0;34m\u001b[0m\u001b[0;34m\u001b[0m\u001b[0m\n",
            "\u001b[0;31mKeyboardInterrupt\u001b[0m: Interrupted by user"
          ]
        }
      ]
    },
    {
      "cell_type": "code",
      "source": [
        "sum=0\n",
        "for i in range(1,1000):\n",
        "  sum=sum+i\n",
        "print(sum)"
      ],
      "metadata": {
        "colab": {
          "base_uri": "https://localhost:8080/"
        },
        "id": "tLLL7_Ek86Ui",
        "outputId": "5603a9f0-ff24-4297-ac40-b453a9ede99a"
      },
      "execution_count": null,
      "outputs": [
        {
          "output_type": "stream",
          "name": "stdout",
          "text": [
            "499500\n"
          ]
        }
      ]
    },
    {
      "cell_type": "code",
      "source": [
        "sum=0\n",
        "for i in range(1,1000):\n",
        "  if(i%3==0):\n",
        "    sum=sum+i\n",
        "  if(i%5==0):\n",
        "    sum=sum+i\n",
        "  if(i%10==0):\n",
        "    sum=sum+i\n",
        "  if(i%(3*5)==0):\n",
        "    sum=sum-i\n",
        "  if(i%(5*10)==0):\n",
        "    sum=sum-i\n",
        "  if(i%(3*10)==0):\n",
        "    sum=sum-i\n",
        "  if(i%(3*5*10)==0):\n",
        "    sum=sum+i\n",
        "\n",
        "print(sum)"
      ],
      "metadata": {
        "colab": {
          "base_uri": "https://localhost:8080/"
        },
        "id": "2JHGC5Sy87U0",
        "outputId": "ba12f47a-1370-4527-aa03-9b3c80ef525e"
      },
      "execution_count": null,
      "outputs": [
        {
          "output_type": "stream",
          "name": "stdout",
          "text": [
            "259488\n"
          ]
        }
      ]
    },
    {
      "cell_type": "code",
      "source": [
        "burger=200\n",
        "pizza=300\n",
        "fries=150\n",
        "coke=70\n",
        "water=20\n",
        "bill=0\n",
        "order=input(\"Do you want burger?\")\n",
        "if order==\"yes\":\n",
        "  quan=int(input(\"Enter the number of items\"))\n",
        "  bill=(burger*quan)+bill\n",
        "order=input(\"Do you want pizza?\")\n",
        "if order==\"yes\":\n",
        "  quan=int(input(\"Enter the number of items\"))\n",
        "  bill=(pizza*quan)+bill\n",
        "order=input(\"Do you want fries?\")\n",
        "if order==\"yes\":\n",
        "  quan=int(input(\"Enter the number of items\"))\n",
        "  bill=(fries*quan)+bill\n",
        "order=input(\"Do you want coke?\")\n",
        "if order==\"yes\":\n",
        "  quan=int(input(\"Enter the number of items\"))\n",
        "  bill=(coke*quan)+bill\n",
        "order=input(\"Do you want water?\")\n",
        "if order==\"yes\":\n",
        "  quan=int(input(\"Enter the number of items\"))\n",
        "  bill=(water*quan)+bill\n",
        "discount=input(\"Do you have discount coupoun:\")\n",
        "if discount==\"yes\":\n",
        "  code=input(\"Enter code:\")\n",
        "  if code==\"DIC10\":\n",
        "    bill=bill-(10/100)*bill\n",
        "  else:\n",
        "    bill=bill\n",
        "print(f\"The tottal bill is {bill}\")"
      ],
      "metadata": {
        "colab": {
          "base_uri": "https://localhost:8080/"
        },
        "id": "s6pMyzsfenB9",
        "outputId": "e2e4f09a-ea2b-4265-a688-55365eedaf73"
      },
      "execution_count": null,
      "outputs": [
        {
          "output_type": "stream",
          "name": "stdout",
          "text": [
            "Do you want burger?yes\n",
            "Enter the number of items1\n",
            "Do you want pizza?no\n",
            "Do you want fries?yes\n",
            "Enter the number of items2\n",
            "Do you want coke?no\n",
            "Do you want water?no\n",
            "The tottal bill is 500\n"
          ]
        }
      ]
    },
    {
      "cell_type": "code",
      "source": [
        "a=int(input(\"Enter the number:\"))\n",
        "product=1\n",
        "for i in range(1,a+1):\n",
        "  product=product*i\n",
        "print(f\"The factorial of {a} is {product}\")"
      ],
      "metadata": {
        "colab": {
          "base_uri": "https://localhost:8080/"
        },
        "id": "co3UK7kP_AlC",
        "outputId": "7fa1338f-c207-477e-9225-cf6b84bf3ead"
      },
      "execution_count": null,
      "outputs": [
        {
          "output_type": "stream",
          "name": "stdout",
          "text": [
            "Enter the number:7\n",
            "The factorial of 7 is 5040\n"
          ]
        }
      ]
    },
    {
      "cell_type": "code",
      "source": [
        "a=0\n",
        "b=1\n",
        "\n",
        "n=int(input(\"Enter the term:\"))\n",
        "print(a)\n",
        "print(b)\n",
        "for i in range(2,n):\n",
        "  c=a+b\n",
        "  print(c)\n",
        "  a=b\n",
        "  b=c\n"
      ],
      "metadata": {
        "colab": {
          "base_uri": "https://localhost:8080/"
        },
        "id": "Ylw75tyzBvr_",
        "outputId": "0ea311a2-d425-4483-a5ef-7a3eaff3372a"
      },
      "execution_count": null,
      "outputs": [
        {
          "output_type": "stream",
          "name": "stdout",
          "text": [
            "Enter the term:7\n",
            "0\n",
            "1\n",
            "1\n",
            "2\n",
            "3\n",
            "5\n",
            "8\n"
          ]
        }
      ]
    },
    {
      "cell_type": "code",
      "source": [
        "a=int(input(\"Enter the number:\"))\n",
        "sum=0\n",
        "while a>0:\n",
        "  digit=a%10\n",
        "  sum=sum+digit\n",
        "  a=a//10\n",
        "\n",
        "print(sum)"
      ],
      "metadata": {
        "colab": {
          "base_uri": "https://localhost:8080/"
        },
        "id": "5K6BZQWgKSSI",
        "outputId": "120fc41a-2a67-4cef-ef94-6b3a0547fc08"
      },
      "execution_count": null,
      "outputs": [
        {
          "output_type": "stream",
          "name": "stdout",
          "text": [
            "Enter the number:6789\n",
            "30\n"
          ]
        }
      ]
    },
    {
      "cell_type": "code",
      "source": [
        "a=int(input(\"Enter the number:\"))\n",
        "sum=0\n",
        "while(a>0):\n",
        "  ld=a%10\n",
        "  sum=sum+ld**2\n",
        "  a=a//10\n",
        "print(f\"The sum of the square of the digits of the number is {sum}\")"
      ],
      "metadata": {
        "colab": {
          "base_uri": "https://localhost:8080/"
        },
        "id": "i_s7fo9DRY90",
        "outputId": "22038d88-7e02-4270-a967-6d49246cf636"
      },
      "execution_count": null,
      "outputs": [
        {
          "output_type": "stream",
          "name": "stdout",
          "text": [
            "Enter the number:123\n",
            "The sum of the square of the digits of the number is 14\n"
          ]
        }
      ]
    },
    {
      "cell_type": "code",
      "source": [
        "temp=int(input(\"Enter the number:\"))\n",
        "newtemp=temp\n",
        "rev=0\n",
        "while(temp>0):\n",
        "  ld=temp%10\n",
        "  rev=rev*10+ld\n",
        "  temp=temp//10\n",
        "if newtemp==rev:\n",
        "  print(\"It is a palindrome\")\n",
        "else:\n",
        "  print(\"Not a palindrome\")"
      ],
      "metadata": {
        "colab": {
          "base_uri": "https://localhost:8080/"
        },
        "id": "NeiUBw9qbPNe",
        "outputId": "ccc8cdcb-9f4e-442a-d01a-5c2354cc7ce6"
      },
      "execution_count": null,
      "outputs": [
        {
          "output_type": "stream",
          "name": "stdout",
          "text": [
            "Enter the number:12321\n",
            "It is a palindrome\n"
          ]
        }
      ]
    },
    {
      "cell_type": "code",
      "source": [
        "n=int(input(\"Enter the number:\"))\n",
        "i=1\n",
        "sum=0\n",
        "while(i<=n):\n",
        "  product=1\n",
        "  for j in range(1,i+1):\n",
        "    product=product*j\n",
        "  sum=sum+product\n",
        "  i+=1\n",
        "print(sum)"
      ],
      "metadata": {
        "colab": {
          "base_uri": "https://localhost:8080/"
        },
        "id": "eA15h-UaomKu",
        "outputId": "d9661711-0e30-4af7-d01d-1ed412fa9c38"
      },
      "execution_count": null,
      "outputs": [
        {
          "output_type": "stream",
          "name": "stdout",
          "text": [
            "Enter the number:4\n",
            "33\n"
          ]
        }
      ]
    },
    {
      "cell_type": "code",
      "source": [
        "items=[\"coke\",\"buger\",\"fries\"]\n",
        "items.remove(\"buger\")\n",
        "items.append(\"burger\")\n",
        "print(items)"
      ],
      "metadata": {
        "colab": {
          "base_uri": "https://localhost:8080/"
        },
        "id": "FedzKZrWxY9A",
        "outputId": "a5dc1ced-6802-45d6-d707-20a0ba1279b8"
      },
      "execution_count": null,
      "outputs": [
        {
          "output_type": "stream",
          "name": "stdout",
          "text": [
            "['coke', 'fries', 'burger']\n"
          ]
        }
      ]
    },
    {
      "cell_type": "code",
      "source": [
        "n=int(input(\"Enter the nummber of items:\"))\n",
        "items=[]\n",
        "prices=[]\n",
        "qty=[]\n",
        "total_price=0\n",
        "coupoun=[\"flat10\",\"flat20\",\"flat15\"]\n",
        "discount=[10,20,15]\n",
        "for i in range(n):\n",
        "  item=input(f\"Enter the item {i+1}:\")\n",
        "  price=int(input(f\"Enter the item's{i+1} price:\"))\n",
        "  qt=int(input(f\"Enter the quantity of item {i+1}:\"))\n",
        "  items.append(item)\n",
        "  prices.append(price)\n",
        "  qty.append(qt)\n",
        "  total_price=total_price+prices[i]*qty[i]\n",
        "print(items)\n",
        "print(prices)\n",
        "print(discount)\n",
        "code=input(\"Enter the coupoun code:\")\n",
        "bill=total_price\n",
        "if code in coupoun:\n",
        "  idx=coupoun.index(code)\n",
        "  bill=bill-((discount[idx]/100)*bill)\n",
        "else:\n",
        "  bill=bill\n",
        "print(f\"Your total bill is {bill}\")"
      ],
      "metadata": {
        "colab": {
          "base_uri": "https://localhost:8080/"
        },
        "id": "FRCf30d50G76",
        "outputId": "f997cdd4-5383-4927-c83c-8762e89b2af0"
      },
      "execution_count": null,
      "outputs": [
        {
          "output_type": "stream",
          "name": "stdout",
          "text": [
            "Enter the nummber of items:3\n",
            "Enter the item 1:pizza\n",
            "Enter the item's1 price:400\n",
            "Enter the quantity of item 1:2\n",
            "Enter the item 2:burger\n",
            "Enter the item's2 price:300\n",
            "Enter the quantity of item 2:3\n",
            "Enter the item 3:fries\n",
            "Enter the item's3 price:500\n",
            "Enter the quantity of item 3:2\n",
            "['pizza', 'burger', 'fries']\n",
            "[400, 300, 500]\n",
            "[10, 20, 15]\n",
            "Enter the coupoun code:flat10\n",
            "Your total bill is 2430.0\n"
          ]
        }
      ]
    },
    {
      "cell_type": "code",
      "source": [
        "n=int(input(\"Enter the number:\"))\n",
        "i=2\n",
        "sum=5\n",
        "j=4\n",
        "if n==1:\n",
        "    sum=2\n",
        "\n",
        "elif n==2:\n",
        "    sum=5\n",
        "else:\n",
        "  while(i<n):\n",
        "    a=0\n",
        "    for k in range(2,j):\n",
        "      if j%k==0:\n",
        "        a=1\n",
        "        break\n",
        "    if(a==0):\n",
        "      sum=sum+j\n",
        "      i+=1\n",
        "    j+=1\n",
        "\n",
        "print(sum)"
      ],
      "metadata": {
        "colab": {
          "base_uri": "https://localhost:8080/"
        },
        "id": "JhzW32TMANYo",
        "outputId": "b9f50a3a-221e-4e46-b4f1-f0a0cb5b7280"
      },
      "execution_count": null,
      "outputs": [
        {
          "output_type": "stream",
          "name": "stdout",
          "text": [
            "Enter the number:5\n",
            "28\n"
          ]
        }
      ]
    },
    {
      "cell_type": "code",
      "source": [
        "n=int(input(\"Enter the number:\"))\n",
        "for i in range(1,n+1):\n",
        "  if(i%5==0 or i%10==0) and (not i%15==0):\n",
        "    print(i)"
      ],
      "metadata": {
        "colab": {
          "base_uri": "https://localhost:8080/"
        },
        "id": "WMPPQ-A9hNij",
        "outputId": "819ac54a-5951-43c2-fb3b-9bf5d3eeda1e"
      },
      "execution_count": null,
      "outputs": [
        {
          "output_type": "stream",
          "name": "stdout",
          "text": [
            "Enter the number:15\n",
            "5\n",
            "10\n"
          ]
        }
      ]
    },
    {
      "cell_type": "code",
      "source": [
        "start_direction=input(\"Enter the start direction:\")\n",
        "end_direction=input(\"Enter the end direction:\")\n",
        "\n",
        "if (start_direction==\"north\" and end_direction==\"west\") or (start_direction==\"west\" and end_direction==\"south\") or (start_direction==\"south\" and end_direction==\"east\") or (start_direction==\"east\" and end_direction==\"north\"):\n",
        "  light_colour=input(\"Enter the traffic light colout:\")\n",
        "  if start_direction==\"north\":\n",
        "     if light_colour==\"green\":\n",
        "      print(\"Go to west\")\n",
        "     else:\n",
        "      print(\"wait\")\n",
        "  if start_direction==\"west\":\n",
        "     if light_colour==\"green\":\n",
        "      print(\"Go to south\")\n",
        "     else:\n",
        "      print(\"wait\")\n",
        "  if start_direction==\"south\":\n",
        "     if light_colour==\"green\":\n",
        "      print(\"Go to east\")\n",
        "     else:\n",
        "      print(\"wait\")\n",
        "  if start_direction==\"east\":\n",
        "     if light_colour==\"green\":\n",
        "      print(\"Go to north\")\n",
        "     else:\n",
        "      print(\"wait\")\n",
        "\n",
        "if (start_direction==\"north\" and end_direction==\"south\") or (start_direction==\"west\" and end_direction==\"east\") or (start_direction==\"south\" and end_direction==\"north\") or (start_direction==\"east\" and end_direction==\"west\"):\n",
        "  light_colour=input(\"Enter the traffic light colout:\")\n",
        "  if start_direction==\"north\":\n",
        "    if light_colour==\"green\":\n",
        "      print(\"Go to west\")\n",
        "      light_colour=input(\"Enter the traffic light colout:\")\n",
        "      if light_colour==\"green\":\n",
        "        print(\"Go to south\")\n",
        "      else:\n",
        "        print(\"wait\")\n",
        "    else:\n",
        "      print(\"wait\")\n",
        "  if start_direction==\"west\":\n",
        "    if light_colour==\"green\":\n",
        "      print(\"Go to south\")\n",
        "      light_colour=input(\"Enter the traffic light colout:\")\n",
        "      if light_colour==\"green\":\n",
        "        print(\"Go to east\")\n",
        "      else:\n",
        "        print(\"wait\")\n",
        "    else:\n",
        "      print(\"wait\")\n",
        "  if start_direction==\"south\":\n",
        "    if light_colour==\"green\":\n",
        "      print(\"Go to east\")\n",
        "      light_colour=input(\"Enter the traffic light colout:\")\n",
        "      if light_colour==\"green\":\n",
        "        print(\"Go to north\")\n",
        "      else:\n",
        "        print(\"wait\")\n",
        "    else:\n",
        "      print(\"wait\")\n",
        "  if start_direction==\"east\":\n",
        "    if light_colour==\"green\":\n",
        "      print(\"Go to north\")\n",
        "      light_colour=input(\"Enter the traffic light colout:\")\n",
        "      if light_colour==\"green\":\n",
        "        print(\"Go to west\")\n",
        "      else:\n",
        "        print(\"wait\")\n",
        "    else:\n",
        "      print(\"wait\")\n",
        "\n",
        "if (start_direction==\"north\" and end_direction==\"east\") or (start_direction==\"west\" and end_direction==\"north\") or (start_direction==\"south\" and end_direction==\"west\") or (start_direction==\"east\" and end_direction==\"south\"):\n",
        "  light_colour=input(\"Enter the traffic light colout:\")\n",
        "  if start_direction==\"north\":\n",
        "    if light_colour==\"green\":\n",
        "      print(\"Go to west\")\n",
        "      light_colour=input(\"Enter the traffic light colout:\")\n",
        "      if light_colour==\"green\":\n",
        "        print(\"Go to south\")\n",
        "        light_colour=input(\"Enter the traffic light colout:\")\n",
        "        if light_colour==\"green\":\n",
        "          print(\"Go to east\")\n",
        "        else:\n",
        "          print(\"wait\")\n",
        "      else:\n",
        "        print(\"wait\")\n",
        "    else:\n",
        "      print(\"wait\")\n",
        "  if start_direction==\"west\":\n",
        "    if light_colour==\"green\":\n",
        "      print(\"Go to south\")\n",
        "      light_colour=input(\"Enter the traffic light colout:\")\n",
        "      if light_colour==\"green\":\n",
        "        print(\"Go to east\")\n",
        "        light_colour=input(\"Enter the traffic light colout:\")\n",
        "        if light_colour==\"green\":\n",
        "          print(\"Go to north\")\n",
        "        else:\n",
        "          print(\"wait\")\n",
        "      else:\n",
        "        print(\"wait\")\n",
        "    else:\n",
        "      print(\"wait\")\n",
        "  if start_direction==\"south\":\n",
        "    if light_colour==\"green\":\n",
        "      print(\"Go to east\")\n",
        "      light_colour=input(\"Enter the traffic light colout:\")\n",
        "      if light_colour==\"green\":\n",
        "        print(\"Go to north\")\n",
        "        light_colour=input(\"Enter the traffic light colout:\")\n",
        "        if light_colour==\"green\":\n",
        "          print(\"Go to west\")\n",
        "        else:\n",
        "          print(\"wait\")\n",
        "      else:\n",
        "        print(\"wait\")\n",
        "    else:\n",
        "      print(\"wait\")\n",
        "  if start_direction==\"east\":\n",
        "    if light_colour==\"green\":\n",
        "      print(\"Go to north\")\n",
        "      light_colour=input(\"Enter the traffic light colout:\")\n",
        "      if light_colour==\"green\":\n",
        "        print(\"Go to west\")\n",
        "        light_colour=input(\"Enter the traffic light colout:\")\n",
        "        if light_colour==\"green\":\n",
        "          print(\"Go to south\")\n",
        "        else:\n",
        "          print(\"wait\")\n",
        "      else:\n",
        "        print(\"wait\")\n",
        "    else:\n",
        "      print(\"wait\")\n",
        "\n",
        "\n",
        "\n"
      ],
      "metadata": {
        "colab": {
          "base_uri": "https://localhost:8080/"
        },
        "id": "jLxPwvT2PVli",
        "outputId": "8f6c1b0c-2b99-4ccd-ff7f-7dee36377652"
      },
      "execution_count": null,
      "outputs": [
        {
          "output_type": "stream",
          "name": "stdout",
          "text": [
            "Enter the start direction:south\n",
            "Enter the end direction:north\n",
            "Enter the traffic light colout:green\n",
            "Go to east\n",
            "Enter the traffic light colout:green\n",
            "Go to north\n"
          ]
        }
      ]
    },
    {
      "cell_type": "code",
      "source": [
        "a=3\n",
        "b=3.1\n",
        "c=\"Vaibhav\"\n",
        "is_prime=True\n",
        "print(f\"{a} is an integer\")\n",
        "print(f\"{b} is an float\")\n",
        "print(f\"{c} is an string\")\n",
        "print(f\"{is_prime} is a boolean\")"
      ],
      "metadata": {
        "colab": {
          "base_uri": "https://localhost:8080/"
        },
        "id": "_HTpBgCMrJSD",
        "outputId": "74d6552b-a518-40d6-d678-87a1970630cc"
      },
      "execution_count": null,
      "outputs": [
        {
          "output_type": "stream",
          "name": "stdout",
          "text": [
            "3 is an integer\n",
            "3.1 is an float\n",
            "Vaibhav is an string\n",
            "True is a boolean\n"
          ]
        }
      ]
    },
    {
      "cell_type": "code",
      "source": [
        "operator=input(\"Enter the operator\")\n",
        "a=int(input(\"Enter num1:\"))\n",
        "b=int(input(\"Enter num2:\"))\n",
        "if operator==\"+\":\n",
        "  print(a+b)\n",
        "elif operator==\"-\":\n",
        "  print(a-b)\n",
        "elif operator==\"*\":\n",
        "  print(a*b)\n",
        "elif operator==\"/\":\n",
        "  print(a/b)\n",
        "elif operator==\"%\":\n",
        "  print(a%b)\n",
        "else:\n",
        "  print(\"Invalid operator\")\n"
      ],
      "metadata": {
        "colab": {
          "base_uri": "https://localhost:8080/"
        },
        "id": "ZT79aG2-sPPd",
        "outputId": "95f614ed-9df1-4db2-c46e-461ee3f7ee76"
      },
      "execution_count": null,
      "outputs": [
        {
          "output_type": "stream",
          "name": "stdout",
          "text": [
            "Enter the operator%\n",
            "Enter num1:5\n",
            "Enter num2:3\n",
            "2\n"
          ]
        }
      ]
    },
    {
      "cell_type": "code",
      "source": [
        "a=4\n",
        "b=float(a)\n",
        "c=str(a)\n",
        "print(f\"{a} is an integer\")\n",
        "print(f\"{b} is an float\")\n",
        "print(f\"{c} is an string\")"
      ],
      "metadata": {
        "colab": {
          "base_uri": "https://localhost:8080/"
        },
        "id": "t5mwuJzhtCA_",
        "outputId": "cacaeae0-3ec4-4d90-8da9-364071585909"
      },
      "execution_count": null,
      "outputs": [
        {
          "output_type": "stream",
          "name": "stdout",
          "text": [
            "4 is an integer\n",
            "4.0 is an float\n",
            "4 is an string\n"
          ]
        }
      ]
    },
    {
      "cell_type": "code",
      "source": [
        "person=input(\"Enter wheter the person is male or female(M/F):\")\n",
        "age=input(\"Enter the age of the person:\")\n",
        "if age.isdigit():\n",
        "  intage=int(age)\n",
        "  if person==\"M\":\n",
        "    print(\"He will go to build H\")\n",
        "    if intage>30:\n",
        "      print(\"He will go to block A \")\n",
        "    else:\n",
        "      print(\"He will go  to block B\")\n",
        "  elif person==\"F\":\n",
        "      print(\"She will go to building F\")\n",
        "      if intage>30:\n",
        "        print(\"She will go to block A\")\n",
        "      else:\n",
        "        print(\"She will go to block B\")\n",
        "  else:\n",
        "      print(\"Wrong input for the person\")\n",
        "else:\n",
        "  print(\"Enter a valid age\")\n",
        "\n",
        "\n",
        "\n"
      ],
      "metadata": {
        "colab": {
          "base_uri": "https://localhost:8080/"
        },
        "id": "fuJReN3FtVx9",
        "outputId": "2117e26b-1ca0-4fd2-f2b6-ac56289a0350"
      },
      "execution_count": null,
      "outputs": [
        {
          "output_type": "stream",
          "name": "stdout",
          "text": [
            "Enter wheter the person is male or female(M/F):M\n",
            "Enter the age of the person:1o\n",
            "Enter a valid age\n"
          ]
        }
      ]
    },
    {
      "cell_type": "code",
      "source": [
        "principal=float(input(\"Enter the principal amount:\"))\n",
        "rate=float(input(\"Enter the rate of interest:\"))\n",
        "months=int(input(\"Enter the number of month:\"))\n",
        "days=int(input(\"Enter the number of days:\"))\n",
        "month_name=input(\"Enter the name of the month in which days fall:\")\n",
        "simple_interest_month=(principal*rate*(months)/100)\n",
        "if month_name==\"january\" or \"march\" or \"may\" or \"july\" or \"august\" or \"october\" or \"december\":\n",
        "  simple_interest_day=(principal*rate*(days/31))/100\n",
        "elif month_name==\"april\" or \"june\" or \"september\" or \"november\":\n",
        "  simple_interest_day=(principal*rate*(days/30))/100\n",
        "elif month_name==\"feburary\":\n",
        "  year=input(\"Enter the year:\")\n",
        "  if year.isdigit():\n",
        "    year=int(year)\n",
        "    if year%4==0:\n",
        "      if year%100==0:\n",
        "        if year%400==0:\n",
        "          simple_interest_day=(principal*rate*(days/29))/100\n",
        "        else:\n",
        "          simple_interest_day=(principal*rate*(days/28))/100\n",
        "      else:\n",
        "        simple_interest_day=(principal*rate*(days/29))/100\n",
        "    else:\n",
        "      simple_interest_day=(principal*rate*(days/28))/100\n",
        "  else:\n",
        "    print(\"Enter a valid year\")\n",
        "else:\n",
        "  print(\"Enter a valid month\")\n",
        "simple_interest=simple_interest_month+simple_interest_day\n",
        "print(f\"The simple interest is {simple_interest}\")\n"
      ],
      "metadata": {
        "colab": {
          "base_uri": "https://localhost:8080/"
        },
        "id": "lkf3uRivyj1X",
        "outputId": "33d7dfb3-a9fa-45ac-ee86-2fc1e3573bd3"
      },
      "execution_count": null,
      "outputs": [
        {
          "output_type": "stream",
          "name": "stdout",
          "text": [
            "Enter the principal amount:1000\n",
            "Enter the rate of interest:5\n",
            "Enter the number of years:3\n",
            "Enter the number of month:0\n",
            "The total amount is 150.0\n"
          ]
        }
      ]
    },
    {
      "cell_type": "code",
      "source": [
        "year=input(\"Enter the year:\")\n",
        "if year.isdigit():\n",
        "  year=int(year)\n",
        "  if year%4==0:\n",
        "    if year%100==0:\n",
        "      if year%400==0:\n",
        "        print(\"a leap year\")\n",
        "      else:\n",
        "        print(\"Not a leap year\")\n",
        "    else:\n",
        "      print(\"A leap year\")\n",
        "  else:\n",
        "    print(\"Not a leap year\")\n",
        "else:\n",
        "  print(\"Enter a valid year\")"
      ],
      "metadata": {
        "colab": {
          "base_uri": "https://localhost:8080/"
        },
        "id": "fP5q7zLL61mj",
        "outputId": "470f9b16-d1d6-4cdf-e078-0e60c511bc2b"
      },
      "execution_count": null,
      "outputs": [
        {
          "output_type": "stream",
          "name": "stdout",
          "text": [
            "Enter the year:1700\n",
            "Not a leap year\n"
          ]
        }
      ]
    },
    {
      "cell_type": "code",
      "source": [
        "print(\"Vaibhav Aggarwal\")\n",
        "print(\"Unitversity:Thapar\")\n",
        "print(\"PHone no:9501289502\")\n",
        "print(\"Email id:aggarwalvaibhav502@gmail.com\")"
      ],
      "metadata": {
        "colab": {
          "base_uri": "https://localhost:8080/"
        },
        "id": "zMX0LSWFnnYa",
        "outputId": "4537d126-50af-4567-893f-17d825156621"
      },
      "execution_count": null,
      "outputs": [
        {
          "output_type": "stream",
          "name": "stdout",
          "text": [
            "Vaibhav Aggarwal\n",
            "Unitversity:Thapar\n",
            "PHone no:9501289502\n",
            "Email id:aggarwalvaibhav502@gmail.com\n"
          ]
        }
      ]
    }
  ]
}