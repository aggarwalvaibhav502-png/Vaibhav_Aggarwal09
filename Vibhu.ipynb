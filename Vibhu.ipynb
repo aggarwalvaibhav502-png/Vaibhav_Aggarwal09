{
  "nbformat": 4,
  "nbformat_minor": 0,
  "metadata": {
    "colab": {
      "provenance": [],
      "authorship_tag": "ABX9TyMVsxiB/qx2E2GOhr4L8Ymk",
      "include_colab_link": true
    },
    "kernelspec": {
      "name": "python3",
      "display_name": "Python 3"
    },
    "language_info": {
      "name": "python"
    }
  },
  "cells": [
    {
      "cell_type": "markdown",
      "metadata": {
        "id": "view-in-github",
        "colab_type": "text"
      },
      "source": [
        "<a href=\"https://colab.research.google.com/github/aggarwalvaibhav502-png/Vaibhav_Aggarwal09/blob/main/Vibhu.ipynb\" target=\"_parent\"><img src=\"https://colab.research.google.com/assets/colab-badge.svg\" alt=\"Open In Colab\"/></a>"
      ]
    },
    {
      "cell_type": "code",
      "execution_count": 1,
      "metadata": {
        "colab": {
          "base_uri": "https://localhost:8080/"
        },
        "id": "8Xp_BiCFmkFZ",
        "outputId": "00ead46e-d7ae-4a9f-9247-e8617d3bde53"
      },
      "outputs": [
        {
          "output_type": "stream",
          "name": "stdout",
          "text": [
            "Helo World\n"
          ]
        }
      ],
      "source": [
        "#First Class\n",
        "\"\"\"My nam\n",
        "jfm\n",
        "cm\n",
        "M\"\"\"\n",
        "'''jd\n",
        "ddd\n",
        "'''\n",
        "print(\"Helo World\")\n"
      ]
    },
    {
      "cell_type": "code",
      "source": [],
      "metadata": {
        "id": "zMX0LSWFnnYa"
      },
      "execution_count": null,
      "outputs": []
    }
  ]
}