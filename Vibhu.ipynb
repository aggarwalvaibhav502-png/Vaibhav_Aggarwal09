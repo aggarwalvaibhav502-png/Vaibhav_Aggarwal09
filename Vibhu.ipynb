{
  "nbformat": 4,
  "nbformat_minor": 0,
  "metadata": {
    "colab": {
      "provenance": [],
      "authorship_tag": "ABX9TyO+T0Xy4+EW16KMb6/M+v/W",
      "include_colab_link": true
    },
    "kernelspec": {
      "name": "python3",
      "display_name": "Python 3"
    },
    "language_info": {
      "name": "python"
    }
  },
  "cells": [
    {
      "cell_type": "markdown",
      "metadata": {
        "id": "view-in-github",
        "colab_type": "text"
      },
      "source": [
        "<a href=\"https://colab.research.google.com/github/aggarwalvaibhav502-png/Vaibhav_Aggarwal09/blob/main/Vibhu.ipynb\" target=\"_parent\"><img src=\"https://colab.research.google.com/assets/colab-badge.svg\" alt=\"Open In Colab\"/></a>"
      ]
    },
    {
      "cell_type": "code",
      "execution_count": 1,
      "metadata": {
        "colab": {
          "base_uri": "https://localhost:8080/"
        },
        "id": "8Xp_BiCFmkFZ",
        "outputId": "00ead46e-d7ae-4a9f-9247-e8617d3bde53"
      },
      "outputs": [
        {
          "output_type": "stream",
          "name": "stdout",
          "text": [
            "Helo World\n"
          ]
        }
      ],
      "source": [
        "#First Class\n",
        "\"\"\"My nam\n",
        "jfm\n",
        "cm\n",
        "M\"\"\"\n",
        "'''jd\n",
        "ddd\n",
        "'''\n",
        "print(\"Helo World\")\n"
      ]
    },
    {
      "cell_type": "code",
      "source": [
        "a=3\n",
        "b=3.1\n",
        "c=\"Vaibhav\"\n",
        "is_prime=True\n",
        "print(f\"{a} is an integer\")\n",
        "print(f\"{b} is an float\")\n",
        "print(f\"{c} is an string\")\n",
        "print(f\"{is_prime} is a boolean\")"
      ],
      "metadata": {
        "colab": {
          "base_uri": "https://localhost:8080/"
        },
        "id": "_HTpBgCMrJSD",
        "outputId": "74d6552b-a518-40d6-d678-87a1970630cc"
      },
      "execution_count": 6,
      "outputs": [
        {
          "output_type": "stream",
          "name": "stdout",
          "text": [
            "3 is an integer\n",
            "3.1 is an float\n",
            "Vaibhav is an string\n",
            "True is a boolean\n"
          ]
        }
      ]
    },
    {
      "cell_type": "code",
      "source": [
        "operator=input(\"Enter the operator\")\n",
        "a=int(input(\"Enter num1:\"))\n",
        "b=int(input(\"Enter num2:\"))\n",
        "if operator==\"+\":\n",
        "  print(a+b)\n",
        "elif operator==\"-\":\n",
        "  print(a-b)\n",
        "elif operator==\"*\":\n",
        "  print(a*b)\n",
        "elif operator==\"/\":\n",
        "  print(a/b)\n",
        "elif operator==\"%\":\n",
        "  print(a%b)\n",
        "else:\n",
        "  print(\"Invalid operator\")\n",
        ""
      ],
      "metadata": {
        "colab": {
          "base_uri": "https://localhost:8080/"
        },
        "id": "ZT79aG2-sPPd",
        "outputId": "95f614ed-9df1-4db2-c46e-461ee3f7ee76"
      },
      "execution_count": 9,
      "outputs": [
        {
          "output_type": "stream",
          "name": "stdout",
          "text": [
            "Enter the operator%\n",
            "Enter num1:5\n",
            "Enter num2:3\n",
            "2\n"
          ]
        }
      ]
    },
    {
      "cell_type": "code",
      "source": [
        "a=4\n",
        "b=float(a)\n",
        "c=str(a)\n",
        "print(f\"{a} is an integer\")\n",
        "print(f\"{b} is an float\")\n",
        "print(f\"{c} is an string\")"
      ],
      "metadata": {
        "colab": {
          "base_uri": "https://localhost:8080/"
        },
        "id": "t5mwuJzhtCA_",
        "outputId": "cacaeae0-3ec4-4d90-8da9-364071585909"
      },
      "execution_count": 10,
      "outputs": [
        {
          "output_type": "stream",
          "name": "stdout",
          "text": [
            "4 is an integer\n",
            "4.0 is an float\n",
            "4 is an string\n"
          ]
        }
      ]
    },
    {
      "cell_type": "code",
      "source": [
        "person=input(\"Enter wheter the person is male or female(M/F):\")\n",
        "age=input(\"Enter the age of the person:\")\n",
        "if age.isdigit():\n",
        "  intage=int(age)\n",
        "  if person==\"M\":\n",
        "    print(\"He will go to build H\")\n",
        "    if intage>30:\n",
        "      print(\"He will go to block A \")\n",
        "    else:\n",
        "      print(\"He will go  to block B\")\n",
        "  elif person==\"F\":\n",
        "      print(\"She will go to building F\")\n",
        "      if intage>30:\n",
        "        print(\"She will go to block A\")\n",
        "      else:\n",
        "        print(\"She will go to block B\")\n",
        "  else:\n",
        "      print(\"Wrong input for the person\")\n",
        "else:\n",
        "  print(\"Enter a valid age\")\n",
        "\n",
        "\n",
        "\n"
      ],
      "metadata": {
        "colab": {
          "base_uri": "https://localhost:8080/"
        },
        "id": "fuJReN3FtVx9",
        "outputId": "2117e26b-1ca0-4fd2-f2b6-ac56289a0350"
      },
      "execution_count": 22,
      "outputs": [
        {
          "output_type": "stream",
          "name": "stdout",
          "text": [
            "Enter wheter the person is male or female(M/F):M\n",
            "Enter the age of the person:1o\n",
            "Enter a valid age\n"
          ]
        }
      ]
    },
    {
      "cell_type": "code",
      "source": [
        "principal=float(input(\"Enter the principal amount:\"))\n",
        "rate=float(input(\"Enter the rate of interest:\"))\n",
        "years=int(input(\"Enter the number of years:\"))\n",
        "months=int(input(\"Enter the number of month:\"))\n",
        "simple_interest=((principal*rate*years)/100)+((principal*rate*(months/12))/100)\n",
        "print(f\"The simple interest is {simple_interest}\")\n"
      ],
      "metadata": {
        "colab": {
          "base_uri": "https://localhost:8080/"
        },
        "id": "lkf3uRivyj1X",
        "outputId": "33d7dfb3-a9fa-45ac-ee86-2fc1e3573bd3"
      },
      "execution_count": 2,
      "outputs": [
        {
          "output_type": "stream",
          "name": "stdout",
          "text": [
            "Enter the principal amount:1000\n",
            "Enter the rate of interest:5\n",
            "Enter the number of years:3\n",
            "Enter the number of month:0\n",
            "The total amount is 150.0\n"
          ]
        }
      ]
    },
    {
      "cell_type": "code",
      "source": [
        "year=input(\"Enter the year:\")\n",
        "if year.isdigit():\n",
        "  year=int(year)\n",
        "  if year%4==0:\n",
        "    if year%100==0:\n",
        "      if year%400==0:\n",
        "        print(\"a leap year\")\n",
        "      else:\n",
        "        print(\"Not a leap year\")\n",
        "    else:\n",
        "      print(\"A leap year\")\n",
        "  else:\n",
        "    print(\"A leap year\")\n",
        "else:\n",
        "  print(\"Enter a valid year\")"
      ],
      "metadata": {
        "colab": {
          "base_uri": "https://localhost:8080/"
        },
        "id": "fP5q7zLL61mj",
        "outputId": "d6dc8b9b-007f-46ac-b824-8b2adbeceb76"
      },
      "execution_count": 12,
      "outputs": [
        {
          "output_type": "stream",
          "name": "stdout",
          "text": [
            "Enter the year:500\n",
            "Not a leap year\n"
          ]
        }
      ]
    },
    {
      "cell_type": "code",
      "source": [
        "print(\"Vaibhav Aggarwal\")\n",
        "print(\"Unitversity:Thapar\")\n",
        "print(\"PHone no:9501289502\")\n",
        "print(\"Email id:aggarwalvaibhav502@gmail.com\")"
      ],
      "metadata": {
        "colab": {
          "base_uri": "https://localhost:8080/"
        },
        "id": "zMX0LSWFnnYa",
        "outputId": "4537d126-50af-4567-893f-17d825156621"
      },
      "execution_count": 2,
      "outputs": [
        {
          "output_type": "stream",
          "name": "stdout",
          "text": [
            "Vaibhav Aggarwal\n",
            "Unitversity:Thapar\n",
            "PHone no:9501289502\n",
            "Email id:aggarwalvaibhav502@gmail.com\n"
          ]
        }
      ]
    }
  ]
}