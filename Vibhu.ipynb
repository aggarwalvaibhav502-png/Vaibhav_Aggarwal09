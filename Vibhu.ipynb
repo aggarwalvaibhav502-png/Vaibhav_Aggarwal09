{
  "nbformat": 4,
  "nbformat_minor": 0,
  "metadata": {
    "colab": {
      "provenance": [],
      "gpuType": "T4",
      "authorship_tag": "ABX9TyPv0I1iu+0KaUcbSmKln+BE",
      "include_colab_link": true
    },
    "kernelspec": {
      "name": "python3",
      "display_name": "Python 3"
    },
    "language_info": {
      "name": "python"
    },
    "accelerator": "GPU"
  },
  "cells": [
    {
      "cell_type": "markdown",
      "metadata": {
        "id": "view-in-github",
        "colab_type": "text"
      },
      "source": [
        "<a href=\"https://colab.research.google.com/github/aggarwalvaibhav502-png/Vaibhav_Aggarwal09/blob/main/Vibhu.ipynb\" target=\"_parent\"><img src=\"https://colab.research.google.com/assets/colab-badge.svg\" alt=\"Open In Colab\"/></a>"
      ]
    },
    {
      "cell_type": "code",
      "execution_count": null,
      "metadata": {
        "colab": {
          "base_uri": "https://localhost:8080/"
        },
        "id": "8Xp_BiCFmkFZ",
        "outputId": "00ead46e-d7ae-4a9f-9247-e8617d3bde53"
      },
      "outputs": [
        {
          "output_type": "stream",
          "name": "stdout",
          "text": [
            "Helo World\n"
          ]
        }
      ],
      "source": [
        "#First Class\n",
        "\"\"\"My nam\n",
        "jfm\n",
        "cm\n",
        "M\"\"\"\n",
        "'''jd\n",
        "ddd\n",
        "'''\n",
        "print(\"Helo World\")\n"
      ]
    },
    {
      "cell_type": "code",
      "source": [
        "# Restaurant Billing System\n",
        "\n",
        "class Menu:\n",
        "    def __init__(self):\n",
        "        self.items = {\n",
        "            \"Burger\": 120,\n",
        "            \"Pizza\": 250,\n",
        "            \"Pasta\": 180,\n",
        "            \"Cold Drink\": 60,\n",
        "            \"Ice Cream\": 80\n",
        "        }\n",
        "\n",
        "    def show_menu(self):\n",
        "        print(\"MENU\")\n",
        "        for item, price in self.items.items():\n",
        "            print(f\"{item:15} ₹{price}\")\n",
        "\n",
        "class Bill:\n",
        "    def __init__(self, menu):\n",
        "        self.menu = menu\n",
        "        self.total = 0\n",
        "\n",
        "    def take_order(self):\n",
        "        while True:\n",
        "            item = input(\"Enter item name (or 'done' to finish): \").title()\n",
        "            if item.lower() == \"done\":\n",
        "                break\n",
        "            elif item in self.menu.items:\n",
        "                qty = int(input(f\"Enter quantity of {item}: \"))\n",
        "                self.total += self.menu.items[item] * qty\n",
        "            else:\n",
        "                print(\"Item not found in menu. Please try again.\")\n",
        "\n",
        "    def display_bill(self):\n",
        "        print(\"BILL\")\n",
        "        print(f\"Total Amount: {self.total}\")\n",
        "\n",
        "\n",
        "\n",
        "menu = Menu()\n",
        "menu.show_menu()\n",
        "\n",
        "bill = Bill(menu)\n",
        "bill.take_order()\n",
        "bill.display_bill()\n"
      ],
      "metadata": {
        "colab": {
          "base_uri": "https://localhost:8080/"
        },
        "id": "h4HHH1NZKRx0",
        "outputId": "a728c7be-2d5d-47aa-ff04-014c8c1486b1"
      },
      "execution_count": null,
      "outputs": [
        {
          "output_type": "stream",
          "name": "stdout",
          "text": [
            "MENU\n",
            "Burger          ₹120\n",
            "Pizza           ₹250\n",
            "Pasta           ₹180\n",
            "Cold Drink      ₹60\n",
            "Ice Cream       ₹80\n",
            "Enter item name (or 'done' to finish): Burger\n",
            "Enter quantity of Burger: 3\n",
            "Enter item name (or 'done' to finish): Pizza\n",
            "Enter quantity of Pizza: 6\n",
            "Enter item name (or 'done' to finish): done\n",
            "BILL\n",
            "Total Amount: 1860\n"
          ]
        }
      ]
    },
    {
      "cell_type": "code",
      "source": [
        "#Polymorphism\n",
        "class Employee:\n",
        "    def info(self):\n",
        "        print(\"class employee\")\n",
        "\n",
        "class Salary(Employee):\n",
        "    def info(self):\n",
        "        print(\"class salary\")\n",
        "    def info2(self):\n",
        "        super().info()\n",
        "\n",
        "obj1 = Salary()\n",
        "obj2 = Salary()\n",
        "obj1.info()\n",
        "obj2.info2()\n",
        "\n"
      ],
      "metadata": {
        "colab": {
          "base_uri": "https://localhost:8080/"
        },
        "id": "hYaVJN3vQzuZ",
        "outputId": "4504a600-56f7-4c8f-e17a-d65983115600"
      },
      "execution_count": null,
      "outputs": [
        {
          "output_type": "stream",
          "name": "stdout",
          "text": [
            "class salary\n",
            "class employee\n"
          ]
        }
      ]
    },
    {
      "cell_type": "code",
      "source": [
        "#OOPS\n",
        "class Employee:\n",
        "  def __init__(self,name,age):\n",
        "    self.name=name\n",
        "    self.age=age\n",
        "\n",
        "\n",
        "emp1=Employee(\"Raj\",30)\n",
        "emp2=Employee(\"raam\",29)\n",
        "\n",
        "print(emp1.name,emp1.age)\n",
        "print(emp2.name,emp2.age)"
      ],
      "metadata": {
        "colab": {
          "base_uri": "https://localhost:8080/"
        },
        "id": "d4fwStcqy_vB",
        "outputId": "fada1ff7-4b8b-4844-eb4f-ad13c0c5b1e0"
      },
      "execution_count": null,
      "outputs": [
        {
          "output_type": "stream",
          "name": "stdout",
          "text": [
            "Raj 30\n",
            "raam 29\n"
          ]
        }
      ]
    },
    {
      "cell_type": "code",
      "source": [
        "class Employee2:\n",
        "  def info(self,name,age):\n",
        "    print(f\"Employee's name id {name} and age is {age}\")\n",
        "emp1=Employee2()\n",
        "emp2=Employee2()\n",
        "emp1.info(\"Ram\",30)\n",
        "emp2.info(\"Raj\",29)"
      ],
      "metadata": {
        "colab": {
          "base_uri": "https://localhost:8080/"
        },
        "id": "I7WxYMCN08B7",
        "outputId": "eefcfad2-b149-4941-97fc-f0e6c90224cb"
      },
      "execution_count": null,
      "outputs": [
        {
          "output_type": "stream",
          "name": "stdout",
          "text": [
            "Employee's name id Ram and age is 30\n",
            "Employee's name id Raj and age is 29\n",
            "None\n"
          ]
        }
      ]
    },
    {
      "cell_type": "code",
      "source": [
        "#OOPS Calculator\n",
        "class Calculator:\n",
        "  def __init__(self,a,b):\n",
        "    self.a=a\n",
        "    self.b=b\n",
        "\n",
        "  def add(self):\n",
        "    return self.a+self.b\n",
        "  def sub(self):\n",
        "    return self.a-self.b\n",
        "  def multiply(self):\n",
        "    return self.a*self.b\n",
        "  def divide(self):\n",
        "    return self.a/self.b\n",
        "c1=Calculator(3,4)\n",
        "c2=Calculator(8,2)\n",
        "print(c1.add())\n",
        "print(c2.divide())"
      ],
      "metadata": {
        "colab": {
          "base_uri": "https://localhost:8080/"
        },
        "id": "90OFFooyyTg4",
        "outputId": "b995939c-9c11-4cc1-bf95-5e9ce26f8f56"
      },
      "execution_count": null,
      "outputs": [
        {
          "output_type": "stream",
          "name": "stdout",
          "text": [
            "7\n",
            "4.0\n"
          ]
        }
      ]
    },
    {
      "cell_type": "code",
      "source": [
        "#Inheritance\n",
        "class Employee3:\n",
        "  def info(self):\n",
        "    print(\"This is Employee\")\n",
        "\n",
        "class Department(Employee3):\n",
        "  def dept(self):\n",
        "    print(\"Employee works in IT department\")\n",
        "\n",
        "e1=Department()\n",
        "e1.info()\n",
        "e1.dept()"
      ],
      "metadata": {
        "colab": {
          "base_uri": "https://localhost:8080/"
        },
        "id": "_eRqV5-782GV",
        "outputId": "a8331c47-2f65-41f5-9e95-61f46af19cba"
      },
      "execution_count": null,
      "outputs": [
        {
          "output_type": "stream",
          "name": "stdout",
          "text": [
            "This is Employee\n",
            "Employee works in IT department\n"
          ]
        }
      ]
    },
    {
      "cell_type": "code",
      "source": [
        "#SI Inheritance\n",
        "class Info:\n",
        "  def __init__(self):\n",
        "    self.p=int(input(\"Enter principal\"))\n",
        "    self.r=int(input(\"Enter rate\"))\n",
        "    self.t=int(input(\"Enter time\"))\n",
        "class Calculate(Info):\n",
        "  def cal(self):\n",
        "    si=(self.p*self.r*self.t)/100\n",
        "    print(f\"The si is {si}\")\n",
        "\n",
        "s=Calculate()\n",
        "s.cal()"
      ],
      "metadata": {
        "colab": {
          "base_uri": "https://localhost:8080/"
        },
        "id": "ZrEOaOgl-3eb",
        "outputId": "24531cc1-4550-4246-a263-89f7c4521017"
      },
      "execution_count": null,
      "outputs": [
        {
          "output_type": "stream",
          "name": "stdout",
          "text": [
            "Enter principal1000\n",
            "Enter rate5\n",
            "Enter time2\n",
            "The si is 100.0\n"
          ]
        }
      ]
    },
    {
      "cell_type": "code",
      "source": [
        "#Multilevel Inheritance\n",
        "class Detail:\n",
        "  def info(self):\n",
        "    print(\"My name is ajay\")\n",
        "class Department(Detail):\n",
        "  def dept(self):\n",
        "    print(\"Department is IT\")\n",
        "class Sitting(Department):\n",
        "  def seat(self):\n",
        "    print(\"Left corner\")\n",
        "\n",
        "obj=Sitting()\n",
        "obj.dept()\n",
        "obj.info()\n",
        "obj.seat()"
      ],
      "metadata": {
        "colab": {
          "base_uri": "https://localhost:8080/"
        },
        "id": "ymHllt99FeV9",
        "outputId": "299dd4af-8333-4a27-a17c-490c04b8b133"
      },
      "execution_count": null,
      "outputs": [
        {
          "output_type": "stream",
          "name": "stdout",
          "text": [
            "Department is IT\n",
            "My name is ajay\n",
            "Left corner\n"
          ]
        }
      ]
    },
    {
      "cell_type": "code",
      "source": [
        "#multiple inheritance\n",
        "class Employee:\n",
        "    def emp_info(self):\n",
        "        print(\"emp info\")\n",
        "\n",
        "class SalaryCal:\n",
        "    def salary_cal(self):\n",
        "        print(\"50000\")\n",
        "\n",
        "class TotalExpenditure(Employee, SalaryCal):\n",
        "    def expenditure(self):\n",
        "        print(\"emp info and 50000\")\n",
        "\n",
        "obj= TotalExpenditure()\n",
        "obj.emp_info()\n",
        "obj.salary_cal()\n",
        "obj.expendure()"
      ],
      "metadata": {
        "colab": {
          "base_uri": "https://localhost:8080/",
          "height": 211
        },
        "id": "B2fsZA8aI4sD",
        "outputId": "f5c9a53b-cd54-444e-b7b7-947ecbaf0471"
      },
      "execution_count": null,
      "outputs": [
        {
          "output_type": "stream",
          "name": "stdout",
          "text": [
            "emp info\n"
          ]
        },
        {
          "output_type": "error",
          "ename": "AttributeError",
          "evalue": "'TotalExpenditure' object has no attribute 'salary_cal'",
          "traceback": [
            "\u001b[0;31m---------------------------------------------------------------------------\u001b[0m",
            "\u001b[0;31mAttributeError\u001b[0m                            Traceback (most recent call last)",
            "\u001b[0;32m/tmp/ipython-input-3331673124.py\u001b[0m in \u001b[0;36m<cell line: 0>\u001b[0;34m()\u001b[0m\n\u001b[1;32m     14\u001b[0m \u001b[0mobj\u001b[0m\u001b[0;34m=\u001b[0m \u001b[0mTotalExpenditure\u001b[0m\u001b[0;34m(\u001b[0m\u001b[0;34m)\u001b[0m\u001b[0;34m\u001b[0m\u001b[0;34m\u001b[0m\u001b[0m\n\u001b[1;32m     15\u001b[0m \u001b[0mobj\u001b[0m\u001b[0;34m.\u001b[0m\u001b[0memp_info\u001b[0m\u001b[0;34m(\u001b[0m\u001b[0;34m)\u001b[0m\u001b[0;34m\u001b[0m\u001b[0;34m\u001b[0m\u001b[0m\n\u001b[0;32m---> 16\u001b[0;31m \u001b[0mobj\u001b[0m\u001b[0;34m.\u001b[0m\u001b[0msalary_cal\u001b[0m\u001b[0;34m(\u001b[0m\u001b[0;34m)\u001b[0m\u001b[0;34m\u001b[0m\u001b[0;34m\u001b[0m\u001b[0m\n\u001b[0m\u001b[1;32m     17\u001b[0m \u001b[0mobj\u001b[0m\u001b[0;34m.\u001b[0m\u001b[0mexpendure\u001b[0m\u001b[0;34m(\u001b[0m\u001b[0;34m)\u001b[0m\u001b[0;34m\u001b[0m\u001b[0;34m\u001b[0m\u001b[0m\n",
            "\u001b[0;31mAttributeError\u001b[0m: 'TotalExpenditure' object has no attribute 'salary_cal'"
          ]
        }
      ]
    },
    {
      "cell_type": "code",
      "source": [
        "  delattrcust_name=[\"AB\",\"CD\",\"EF\",\"GH\",\"IJ\",\"JK\",\"LM\"]\n",
        "product=[\"cap\",\"Tshirt\",\"wATCH\",\"Phone\",\"Laptop\",\"Shoes\",\"Phone\"]\n",
        "gender=[\"m\",\"f\",\"f\",\"m\",\"f\",\"m\",\"f\"]\n",
        "state=[\"pb\",\"hr\",\"mh\",\"pb\",\"ch\",\"mh\",\"rj\"]\n",
        "amount=[1000,2000,3000,4000,5000,6000,7000]\n",
        "profit=[10,20,30,40,50,60,70]\n",
        "print(cust_name)\n",
        "print(product)\n",
        "print(state)\n",
        "print(amount)\n",
        "total_profit=0\n",
        "for i in profit:\n",
        "  total_profit+=i\n",
        "unique_state=[]\n",
        "pr_by_state=[]\n",
        "for i in state:\n",
        "  if i not in unique_state:\n",
        "    unique_state.append(i)\n",
        "    pr_by_state.append(0)\n",
        "for i in range(len(state)):\n",
        "  idx=unique_state.index(state[i])\n",
        "  pr_by_state[idx]+=profit[i]\n",
        "\n",
        "print(unique_state)\n",
        "print(pr_by_state)\n",
        "\n",
        "unique_product=[]\n",
        "pr_by_product=[]\n",
        "for i in product:\n",
        "  if i not in unique_product:\n",
        "    unique_product.append(i)\n",
        "    pr_by_product.append(0)\n",
        "for i in range(len(product)):\n",
        "  idx=unique_product.index(product[i])\n",
        "  pr_by_product[idx]+=profit[i]\n",
        "\n",
        "print(unique_product)\n",
        "print(pr_by_product)\n",
        "\n",
        "unique_gender=[\"m\",\"f\"]\n",
        "pr_by_gender=[0,0]\n",
        "for i in range(len(gender)):\n",
        "  idx=unique_gender.index(gender[i])\n",
        "  pr_by_gender[idx]+=profit[i]\n",
        "\n",
        "print(unique_gender)\n",
        "print(pr_by_gender)\n",
        "\n",
        "\n",
        "import matplotlib.pyplot as plt\n",
        "\n",
        "plt.bar(unique_state,pr_by_state)\n",
        "plt.xlabel(\"unique_state\")\n",
        "plt.ylabel(\"Profit per state\")\n",
        "plt.show()"
      ],
      "metadata": {
        "colab": {
          "base_uri": "https://localhost:8080/",
          "height": 624
        },
        "id": "fvLMhz2S0-lT",
        "outputId": "951dfbd6-6862-4df8-ea60-06d484812ec8"
      },
      "execution_count": null,
      "outputs": [
        {
          "output_type": "stream",
          "name": "stdout",
          "text": [
            "['AB', 'CD', 'EF', 'GH', 'IJ', 'JK', 'LM']\n",
            "['cap', 'Tshirt', 'wATCH', 'Phone', 'Laptop', 'Shoes', 'Phone']\n",
            "['pb', 'hr', 'mh', 'pb', 'ch', 'mh', 'rj']\n",
            "[1000, 2000, 3000, 4000, 5000, 6000, 7000]\n",
            "['pb', 'hr', 'mh', 'ch', 'rj']\n",
            "[50, 20, 90, 50, 70]\n",
            "['cap', 'Tshirt', 'wATCH', 'Phone', 'Laptop', 'Shoes']\n",
            "[10, 20, 30, 110, 50, 60]\n",
            "['m', 'f']\n",
            "[110, 170]\n"
          ]
        },
        {
          "output_type": "display_data",
          "data": {
            "text/plain": [
              "<Figure size 640x480 with 1 Axes>"
            ],
            "image/png": "[encoded data removed]"
          },
          "metadata": {}
        }
      ]
    },
    {
      "cell_type": "code",
      "source": [
        "a=[20,10,30,20]\n",
        "print(a[2:])\n",
        "print(a[:2])\n",
        "print(a[-3:-1])"
      ],
      "metadata": {
        "colab": {
          "base_uri": "https://localhost:8080/"
        },
        "id": "CCMLNVmagX7a",
        "outputId": "e4add237-f341-4925-9232-14fe22947412"
      },
      "execution_count": null,
      "outputs": [
        {
          "output_type": "stream",
          "name": "stdout",
          "text": [
            "[30, 20]\n",
            "[20, 10]\n",
            "[10, 30]\n"
          ]
        }
      ]
    },
    {
      "cell_type": "code",
      "source": [
        "#Welcome to our site\n",
        "categories=[\"tshirt\",\"watches\",\"shoes\",\"shirts\",\"jeans\"]\n",
        "#Categories Brands\n",
        "tshirt=[\"Nike\",\"Adidas\",\"Puma\"]\n",
        "watches=[\"Titan\",\"Fossil\",\"Casio\"]\n",
        "shoes=[\"reebok\",\"woodland\",\"skechers\"]\n",
        "shirts=[\"Van Heusen\",\"Peter England\",\"Louis Philippe\"]\n",
        "jeans=[\"Levi’s\",\"Wrangler\",\"Lee\"]\n",
        "\n",
        "#T-shirts\n",
        "nike=[\"air tee\",\"court tee\",\"running tee\"]\n",
        "nike_price=[1999, 1499, 1799]\n",
        "adidas=[\"3-stripes tee\",\"running tee\",\"polo tee\"]\n",
        "adidas_price=[1499, 1699, 1599]\n",
        "puma=[\"active tee\",\"bmw tee\",\"ferrari tee\"]\n",
        "puma_price=[1499, 1999, 2299]\n",
        "\n",
        "#watches\n",
        "\n",
        "titan=[\"edge\",\"octane\",\"nebula\"]\n",
        "titan_price=[8999, 1999, 6999]\n",
        "fossil=[\"sport\",\"grant\",\"neutra\"]\n",
        "fossil_price=[9999, 11999, 10999]\n",
        "casio:[\"g-shock\",\"edifice\",\"pro trek\"]\n",
        "\n",
        "#shoes\n",
        "reebok=[\"classic leather\",\"nano\",\"floatride\"]\n",
        "reebok_price=[5999, 9999, 8999]\n",
        "woodland=[\"outdoor boots\",\"trekking shoes\",\"casual sneakers\"]\n",
        "woodland_price=[5999, 6999, 4999]\n",
        "skechers=[\"go walk\",\"arch fit\",\"flex advantage\"]\n",
        "skechers_price=[6999, 5999, 7499]\n",
        "\n",
        "#shirts\n",
        "van_heusen=[\"formal slim fit\",\"linen shirt\",\"classic white\"]\n",
        "van_heusen_price=[1499, 1299, 1999]\n",
        "peter_england=[\"formal solid\",\"casual checkered\",\"denim shirt\"]\n",
        "peter_england_price=[999, 1199, 1599]\n",
        "louis_philippe=[\"classic formal\",\"luxury white\",\"premium linen\"]\n",
        "louis_philippe_price=[1999, 2499, 2999]\n",
        "\n",
        "#jeans\n",
        "\n",
        "levis=[\"511 slim\",\"512 taper\",\"501 original\"]\n",
        "levis_price[3499, 3799, 3999]\n",
        "wrangler=[\"slim fit\",\"bootcut\",\"tapered\"]\n",
        "wrangler_price=[2999, 3199, 3499]\n",
        "lee:[\"skinny\",\"straight\",\"bootcut\"]\n",
        "lee_price=[3299, 3499, 3799]\n",
        "\n",
        "#My cart\n",
        "cart=[]\n",
        "total price=0\n",
        "\n",
        "item=(input(\"Do you want something?\"))\n",
        "\n",
        "while(item==\"yes\"):\n",
        "  print(\"Here are the categories we have:\")\n",
        "  print(categories)\n",
        "\n",
        "  category_wanted=input(\"Which category do you want? \")\n",
        "  if category==\"tshirt\":\n",
        "\n"
      ],
      "metadata": {
        "id": "fH-BvZHrmhgF"
      },
      "execution_count": null,
      "outputs": []
    },
    {
      "cell_type": "code",
      "source": [
        "#Encapsulation\n",
        "class Employee:\n",
        "  def __init__(self,name,salary):\n",
        "    self.__name=name\n",
        "    self.__salary=salary\n",
        "  def info(self):\n",
        "    print(f\"Name of the employee is {self.__name} and the salary is {self.__salary}\")\n",
        "\n",
        "obj=Employee(\"Ram\",40000)\n",
        "obj.info()"
      ],
      "metadata": {
        "colab": {
          "base_uri": "https://localhost:8080/"
        },
        "id": "3BmHIVhpp9Zq",
        "outputId": "9bc60f4d-795d-43b7-9d57-8ba6627aa411"
      },
      "execution_count": null,
      "outputs": [
        {
          "output_type": "stream",
          "name": "stdout",
          "text": [
            "Name of the employee is Ram and the salary is 40000\n"
          ]
        }
      ]
    },
    {
      "cell_type": "code",
      "source": [
        "from abc import ABC, abstractmethod\n",
        "\n",
        "class Employee(ABC):\n",
        "    @abstractmethod\n",
        "    def info():\n",
        "        pass\n",
        "\n",
        "    @abstractmethod\n",
        "    def salary_cal():\n",
        "        pass\n",
        "\n",
        "class Fulltime(Employee):\n",
        "    def info(self):\n",
        "        print(\"Full time\")\n",
        "    def salary_cal(self):\n",
        "        print(50000)\n",
        "\n",
        "class Parttime(Employee):\n",
        "    def info(self):\n",
        "        print(\"Part time\")\n",
        "\n",
        "    def salary_cal(self):\n",
        "        print(20000)\n",
        "\n",
        "obj = Fulltime()\n",
        "obj.info()"
      ],
      "metadata": {
        "colab": {
          "base_uri": "https://localhost:8080/"
        },
        "id": "6MJhJ8GAwGdz",
        "outputId": "8de1d272-5a43-4c1f-e99b-57f65ac3a41d"
      },
      "execution_count": null,
      "outputs": [
        {
          "output_type": "stream",
          "name": "stdout",
          "text": [
            "Full time\n"
          ]
        }
      ]
    },
    {
      "cell_type": "code",
      "source": [],
      "metadata": {
        "id": "fm-qLRyKJSUB"
      },
      "execution_count": null,
      "outputs": []
    },
    {
      "cell_type": "code",
      "source": [
        "#List Comprehension\n",
        "x=[i*i for i  in range(1,5)]\n",
        "print(x)\n",
        "\n",
        "#using lambda function\n",
        "x=list(map(lambda x:x*x,range(1,5)))\n",
        "print(x)\n",
        "\n",
        "#For odd number\n",
        "x=[x*x for x in range(1,10) if x%2!=0]\n",
        "\n",
        "\n",
        "#Using dictionary\n",
        "y={x:x*x for x in range(1,5)}"
      ],
      "metadata": {
        "colab": {
          "base_uri": "https://localhost:8080/"
        },
        "id": "pQWd0rI0wRWq",
        "outputId": "981a8a42-a31d-483c-9a82-5389b783df16"
      },
      "execution_count": null,
      "outputs": [
        {
          "output_type": "stream",
          "name": "stdout",
          "text": [
            "[1, 4, 9, 16]\n",
            "[1, 4, 9, 16]\n"
          ]
        }
      ]
    },
    {
      "cell_type": "code",
      "source": [
        "!pip install openai-whisper"
      ],
      "metadata": {
        "colab": {
          "base_uri": "https://localhost:8080/"
        },
        "id": "j_NafB7_1MhD",
        "outputId": "f4c0a115-fa72-45b9-ba94-8cec1c428f2f"
      },
      "execution_count": null,
      "outputs": [
        {
          "output_type": "stream",
          "name": "stdout",
          "text": [
            "Collecting openai-whisper\n",
            "  Downloading openai_whisper-20250625.tar.gz (803 kB)\n",
            "\u001b[?25l     \u001b[90m━━━━━━━━━━━━━━━━━━━━━━━━━━━━━━━━━━━━━━━━\u001b[0m \u001b[32m0.0/803.2 kB\u001b[0m \u001b[31m?\u001b[0m eta \u001b[36m-:--:--\u001b[0m\r\u001b[2K     \u001b[91m━━━━━━━━━━━━━━━━━━━━━━━━━━━━━━━━━━━━━\u001b[0m\u001b[91m╸\u001b[0m \u001b[32m798.7/803.2 kB\u001b[0m \u001b[31m24.3 MB/s\u001b[0m eta \u001b[36m0:00:01\u001b[0m\r\u001b[2K     \u001b[90m━━━━━━━━━━━━━━━━━━━━━━━━━━━━━━━━━━━━━━\u001b[0m \u001b[32m803.2/803.2 kB\u001b[0m \u001b[31m17.9 MB/s\u001b[0m eta \u001b[36m0:00:00\u001b[0m\n",
            "\u001b[?25h  Installing build dependencies ... \u001b[?25l\u001b[?25hdone\n",
            "  Getting requirements to build wheel ... \u001b[?25l\u001b[?25hdone\n",
            "  Preparing metadata (pyproject.toml) ... \u001b[?25l\u001b[?25hdone\n",
            "Requirement already satisfied: more-itertools in /usr/local/lib/python3.12/dist-packages (from openai-whisper) (10.8.0)\n",
            "Requirement already satisfied: numba in /usr/local/lib/python3.12/dist-packages (from openai-whisper) (0.60.0)\n",
            "Requirement already satisfied: numpy in /usr/local/lib/python3.12/dist-packages (from openai-whisper) (2.0.2)\n",
            "Requirement already satisfied: tiktoken in /usr/local/lib/python3.12/dist-packages (from openai-whisper) (0.12.0)\n",
            "Requirement already satisfied: torch in /usr/local/lib/python3.12/dist-packages (from openai-whisper) (2.8.0+cu126)\n",
            "Requirement already satisfied: tqdm in /usr/local/lib/python3.12/dist-packages (from openai-whisper) (4.67.1)\n",
            "Requirement already satisfied: triton>=2 in /usr/local/lib/python3.12/dist-packages (from openai-whisper) (3.4.0)\n",
            "Requirement already satisfied: setuptools>=40.8.0 in /usr/local/lib/python3.12/dist-packages (from triton>=2->openai-whisper) (75.2.0)\n",
            "Requirement already satisfied: llvmlite<0.44,>=0.43.0dev0 in /usr/local/lib/python3.12/dist-packages (from numba->openai-whisper) (0.43.0)\n",
            "Requirement already satisfied: regex>=2022.1.18 in /usr/local/lib/python3.12/dist-packages (from tiktoken->openai-whisper) (2024.11.6)\n",
            "Requirement already satisfied: requests>=2.26.0 in /usr/local/lib/python3.12/dist-packages (from tiktoken->openai-whisper) (2.32.4)\n",
            "Requirement already satisfied: filelock in /usr/local/lib/python3.12/dist-packages (from torch->openai-whisper) (3.20.0)\n",
            "Requirement already satisfied: typing-extensions>=4.10.0 in /usr/local/lib/python3.12/dist-packages (from torch->openai-whisper) (4.15.0)\n",
            "Requirement already satisfied: sympy>=1.13.3 in /usr/local/lib/python3.12/dist-packages (from torch->openai-whisper) (1.13.3)\n",
            "Requirement already satisfied: networkx in /usr/local/lib/python3.12/dist-packages (from torch->openai-whisper) (3.5)\n",
            "Requirement already satisfied: jinja2 in /usr/local/lib/python3.12/dist-packages (from torch->openai-whisper) (3.1.6)\n",
            "Requirement already satisfied: fsspec in /usr/local/lib/python3.12/dist-packages (from torch->openai-whisper) (2025.3.0)\n",
            "Requirement already satisfied: nvidia-cuda-nvrtc-cu12==12.6.77 in /usr/local/lib/python3.12/dist-packages (from torch->openai-whisper) (12.6.77)\n",
            "Requirement already satisfied: nvidia-cuda-runtime-cu12==12.6.77 in /usr/local/lib/python3.12/dist-packages (from torch->openai-whisper) (12.6.77)\n",
            "Requirement already satisfied: nvidia-cuda-cupti-cu12==12.6.80 in /usr/local/lib/python3.12/dist-packages (from torch->openai-whisper) (12.6.80)\n",
            "Requirement already satisfied: nvidia-cudnn-cu12==9.10.2.21 in /usr/local/lib/python3.12/dist-packages (from torch->openai-whisper) (9.10.2.21)\n",
            "Requirement already satisfied: nvidia-cublas-cu12==12.6.4.1 in /usr/local/lib/python3.12/dist-packages (from torch->openai-whisper) (12.6.4.1)\n",
            "Requirement already satisfied: nvidia-cufft-cu12==11.3.0.4 in /usr/local/lib/python3.12/dist-packages (from torch->openai-whisper) (11.3.0.4)\n",
            "Requirement already satisfied: nvidia-curand-cu12==10.3.7.77 in /usr/local/lib/python3.12/dist-packages (from torch->openai-whisper) (10.3.7.77)\n",
            "Requirement already satisfied: nvidia-cusolver-cu12==11.7.1.2 in /usr/local/lib/python3.12/dist-packages (from torch->openai-whisper) (11.7.1.2)\n",
            "Requirement already satisfied: nvidia-cusparse-cu12==12.5.4.2 in /usr/local/lib/python3.12/dist-packages (from torch->openai-whisper) (12.5.4.2)\n",
            "Requirement already satisfied: nvidia-cusparselt-cu12==0.7.1 in /usr/local/lib/python3.12/dist-packages (from torch->openai-whisper) (0.7.1)\n",
            "Requirement already satisfied: nvidia-nccl-cu12==2.27.3 in /usr/local/lib/python3.12/dist-packages (from torch->openai-whisper) (2.27.3)\n",
            "Requirement already satisfied: nvidia-nvtx-cu12==12.6.77 in /usr/local/lib/python3.12/dist-packages (from torch->openai-whisper) (12.6.77)\n",
            "Requirement already satisfied: nvidia-nvjitlink-cu12==12.6.85 in /usr/local/lib/python3.12/dist-packages (from torch->openai-whisper) (12.6.85)\n",
            "Requirement already satisfied: nvidia-cufile-cu12==1.11.1.6 in /usr/local/lib/python3.12/dist-packages (from torch->openai-whisper) (1.11.1.6)\n",
            "Requirement already satisfied: charset_normalizer<4,>=2 in /usr/local/lib/python3.12/dist-packages (from requests>=2.26.0->tiktoken->openai-whisper) (3.4.3)\n",
            "Requirement already satisfied: idna<4,>=2.5 in /usr/local/lib/python3.12/dist-packages (from requests>=2.26.0->tiktoken->openai-whisper) (3.10)\n",
            "Requirement already satisfied: urllib3<3,>=1.21.1 in /usr/local/lib/python3.12/dist-packages (from requests>=2.26.0->tiktoken->openai-whisper) (2.5.0)\n",
            "Requirement already satisfied: certifi>=2017.4.17 in /usr/local/lib/python3.12/dist-packages (from requests>=2.26.0->tiktoken->openai-whisper) (2025.10.5)\n",
            "Requirement already satisfied: mpmath<1.4,>=1.1.0 in /usr/local/lib/python3.12/dist-packages (from sympy>=1.13.3->torch->openai-whisper) (1.3.0)\n",
            "Requirement already satisfied: MarkupSafe>=2.0 in /usr/local/lib/python3.12/dist-packages (from jinja2->torch->openai-whisper) (3.0.3)\n",
            "Building wheels for collected packages: openai-whisper\n",
            "  Building wheel for openai-whisper (pyproject.toml) ... \u001b[?25l\u001b[?25hdone\n",
            "  Created wheel for openai-whisper: filename=openai_whisper-20250625-py3-none-any.whl size=803979 sha256=927006ff977138741f5cd2095772bfec80dc9355e61239dfd4a8cd8bad0ffd85\n",
            "  Stored in directory: /root/.cache/pip/wheels/61/d2/20/09ec9bef734d126cba375b15898010b6cc28578d8afdde5869\n",
            "Successfully built openai-whisper\n",
            "Installing collected packages: openai-whisper\n",
            "Successfully installed openai-whisper-20250625\n"
          ]
        }
      ]
    },
    {
      "cell_type": "code",
      "source": [],
      "metadata": {
        "id": "eb9zpX9dMvmw"
      },
      "execution_count": null,
      "outputs": []
    },
    {
      "cell_type": "code",
      "source": [
        "import whisper\n",
        "model=whisper.load_model(\"small\")\n",
        "result=model.transcribe(\"Speech1.mp3\")\n",
        "print(result[\"text\"])"
      ],
      "metadata": {
        "colab": {
          "base_uri": "https://localhost:8080/"
        },
        "id": "cVCBIYT71g1g",
        "outputId": "4a01b92c-42e6-4649-8b9c-1d88213258e4"
      },
      "execution_count": null,
      "outputs": [
        {
          "output_type": "stream",
          "name": "stdout",
          "text": [
            " Hi, my name is Vaira Fokirwala, I'm a student of Thapar University.\n"
          ]
        }
      ]
    },
    {
      "cell_type": "code",
      "source": [
        "import whisper\n",
        "audio_files=[\"Speech1.mp3\",\"Speech2.mp3\",\"Speech3.mp3\"]\n",
        "for i in audio_files:\n",
        "  print(f\"{i}\")\n",
        "  result=model.transcribe(i)\n",
        "  print(result[\"text\"])"
      ],
      "metadata": {
        "colab": {
          "base_uri": "https://localhost:8080/"
        },
        "id": "-xc2bfE7DgQD",
        "outputId": "dae8e28a-0ea4-4bdc-9f27-260bff8492f9"
      },
      "execution_count": null,
      "outputs": [
        {
          "output_type": "stream",
          "name": "stdout",
          "text": [
            "Speech1.mp3\n",
            " Hi, my name is Vaira Fokirwala, I'm a student of Thapar University.\n",
            "Speech2.mp3\n",
            " Hi, I am a student of Thapa and I am also pursuing my study in Siebid's Institute.\n",
            "Speech3.mp3\n",
            "\n"
          ]
        }
      ]
    },
    {
      "cell_type": "code",
      "source": [
        "result=model.transcribe(\"Speech.mp3\")"
      ],
      "metadata": {
        "id": "amZS94qN3aRU"
      },
      "execution_count": null,
      "outputs": []
    },
    {
      "cell_type": "code",
      "source": [
        "print(result[\"text\"])"
      ],
      "metadata": {
        "colab": {
          "base_uri": "https://localhost:8080/"
        },
        "id": "V0p6Dr303Qty",
        "outputId": "444f4358-94a8-4afc-a86b-87290c71a389"
      },
      "execution_count": null,
      "outputs": [
        {
          "output_type": "stream",
          "name": "stdout",
          "text": [
            " Hi, my name is Vaira Fokirwala, I'm a student of Thapar University.\n"
          ]
        }
      ]
    },
    {
      "cell_type": "code",
      "source": [
        "!pip install pyPDF2"
      ],
      "metadata": {
        "colab": {
          "base_uri": "https://localhost:8080/"
        },
        "id": "aN_2JyRRN5QE",
        "outputId": "ed352e78-d503-4115-ea73-8689daeb0e63"
      },
      "execution_count": 6,
      "outputs": [
        {
          "output_type": "stream",
          "name": "stdout",
          "text": [
            "Requirement already satisfied: pyPDF2 in /usr/local/lib/python3.12/dist-packages (3.0.1)\n"
          ]
        }
      ]
    },
    {
      "cell_type": "code",
      "source": [
        "from PyPDF2 import PdfReader\n",
        "def read_text_in_chunks(pdf_path,chunk_size=100):\n",
        "  reader=PdfReader(\"n.pdf\")\n",
        "  all_text=\"\"\n",
        "  for page in reader.pages:\n",
        "    text=page.extract_text()\n",
        "    if text:\n",
        "      all_text=all_text+text+\" \"\n",
        "  words=all_text.split()\n",
        "  chunks=[\" \".join(words[i:i+chunk_size])\n",
        "  for i in range(0,len(words),chunk_size)\n",
        "  ]\n",
        "  return chunks\n",
        "\n",
        "pdf_path=\"n.pdf\"\n",
        "chunks=read_text_in_chunks(pdf_path)\n",
        "print(f\"text extracted:{len(chunks)}\")\n",
        "print(chunks)"
      ],
      "metadata": {
        "id": "vkyUN4q6Suuh",
        "colab": {
          "base_uri": "https://localhost:8080/"
        },
        "outputId": "e09fa717-504e-4b0f-8a77-26d7ba9bbd48"
      },
      "execution_count": 9,
      "outputs": [
        {
          "output_type": "stream",
          "name": "stdout",
          "text": [
            "text extracted:0\n",
            "[]\n"
          ]
        }
      ]
    },
    {
      "cell_type": "code",
      "source": [
        "#Resume Matching\n",
        "from PyPDF2 import PdfReader\n",
        "reader=PdfReader(\"Resume_Vaibhav_Aggarwal.pdf\")\n",
        "for i in range(len(reader.pages)):\n",
        "  page=reader.pages[i]\n",
        "  text=page.extract_text()\n",
        "  print(text)"
      ],
      "metadata": {
        "id": "YYYDRBcs3Yui",
        "colab": {
          "base_uri": "https://localhost:8080/"
        },
        "outputId": "c5414bc1-e3d6-4f5c-e030-1d0a15164a87"
      },
      "execution_count": null,
      "outputs": [
        {
          "output_type": "stream",
          "name": "stdout",
          "text": [
            "Vaibhav Aggarwal  \n",
            "Phone:  +91 -950 1289502  | Email: aggarwalvaibhav502@gmail.com  \n",
            " \n",
            "Education  \n",
            " \n",
            "Thapar  Institute  of Engineering  and  Technology  Patiala,  India  \n",
            "Bachelor  of Engineering  in Electronics  and Computer  Engineering  \n",
            "• Current  CGPA:  9.01/10.0  Expected  May  2027  \n",
            "Guru Nanak Public School   India  \n",
            "Higher  Secondary  Certificate  (Class  12), CBSE  Board  \n",
            "• Percentage:  90.66 % May  2023  \n",
            "Om Par kash Bansal Modern Sch ool India  \n",
            "Secondary  School  Certificate  (Class  10), CBSE  Board  May  2021  \n",
            "• Percentage:  97.4% \n",
            " \n",
            "Technical  Skills  \n",
            " \n",
            "Programming  Languages:  C, C++,  MATLAB,  HTML,  CSS,,  ARM  Assembly  Language  Software  \n",
            "Tools:  Keil  Software,  AutoCAD,  Git, VS Code ,Inte llJ \n",
            "Embedded  Systems:  ARM  Assembly,  Keil  uVision,  Microcontroller  Programming  \n",
            "Core  Subjects:  Data  Structures  and Algorithms,  Object -Oriented  Programming,  Embedded  Systems,  \n",
            "Soft  Skills:  Leadership,  Team  Management,  Project  Management,  Event  Planning,  Public  Speaking,  Problem  Solving  \n",
            " \n",
            "Projects  \n",
            " \n",
            "AI-Powered Resume & Job Description Matcher   \n",
            "Built a Python -based application using OpenAI API to analyze job descriptions and rank resumes based on skill matching. \n",
            "Implemented natural language processing (NLP) for keyword extraction and cosine similarity scoring to provide hiring \n",
            "recommendations.  \n",
            " \n",
            " \n",
            "Intelligent Code Assistant Chatbot  \n",
            "Developed a Python chatbot leveraging large language models (LLMs) to understand programming queries, suggest optimized \n",
            "solutions, and generate runnable code snippets. Integrated context retention and error handling for conversational continuity . \n",
            "Relevant  Coursework  \n",
            " \n",
            "Relevant Cou rsework  \n",
            "Computer  Science:  Data  Structures  and Algorithms,  Object -Oriented  Programming,  Database  Management  Systems  \n",
            "Embedded  Systems:  Microcontroller  Programming,  IoT Systems,  Embedded  C Programming,  ARM  Architecture  \n"
          ]
        }
      ]
    },
    {
      "cell_type": "code",
      "source": [
        "!pip install mistralai"
      ],
      "metadata": {
        "colab": {
          "base_uri": "https://localhost:8080/"
        },
        "id": "wVfC4b4sSS8m",
        "outputId": "c4b65675-698d-4615-dadf-679a43563122"
      },
      "execution_count": null,
      "outputs": [
        {
          "output_type": "stream",
          "name": "stdout",
          "text": [
            "Collecting mistralai\n",
            "  Downloading mistralai-1.9.11-py3-none-any.whl.metadata (39 kB)\n",
            "Collecting eval-type-backport>=0.2.0 (from mistralai)\n",
            "  Downloading eval_type_backport-0.2.2-py3-none-any.whl.metadata (2.2 kB)\n",
            "Requirement already satisfied: httpx>=0.28.1 in /usr/local/lib/python3.12/dist-packages (from mistralai) (0.28.1)\n",
            "Collecting invoke<3.0.0,>=2.2.0 (from mistralai)\n",
            "  Downloading invoke-2.2.1-py3-none-any.whl.metadata (3.3 kB)\n",
            "Requirement already satisfied: pydantic>=2.10.3 in /usr/local/lib/python3.12/dist-packages (from mistralai) (2.11.10)\n",
            "Requirement already satisfied: python-dateutil>=2.8.2 in /usr/local/lib/python3.12/dist-packages (from mistralai) (2.9.0.post0)\n",
            "Requirement already satisfied: pyyaml<7.0.0,>=6.0.2 in /usr/local/lib/python3.12/dist-packages (from mistralai) (6.0.3)\n",
            "Requirement already satisfied: typing-inspection>=0.4.0 in /usr/local/lib/python3.12/dist-packages (from mistralai) (0.4.2)\n",
            "Requirement already satisfied: anyio in /usr/local/lib/python3.12/dist-packages (from httpx>=0.28.1->mistralai) (4.11.0)\n",
            "Requirement already satisfied: certifi in /usr/local/lib/python3.12/dist-packages (from httpx>=0.28.1->mistralai) (2025.10.5)\n",
            "Requirement already satisfied: httpcore==1.* in /usr/local/lib/python3.12/dist-packages (from httpx>=0.28.1->mistralai) (1.0.9)\n",
            "Requirement already satisfied: idna in /usr/local/lib/python3.12/dist-packages (from httpx>=0.28.1->mistralai) (3.10)\n",
            "Requirement already satisfied: h11>=0.16 in /usr/local/lib/python3.12/dist-packages (from httpcore==1.*->httpx>=0.28.1->mistralai) (0.16.0)\n",
            "Requirement already satisfied: annotated-types>=0.6.0 in /usr/local/lib/python3.12/dist-packages (from pydantic>=2.10.3->mistralai) (0.7.0)\n",
            "Requirement already satisfied: pydantic-core==2.33.2 in /usr/local/lib/python3.12/dist-packages (from pydantic>=2.10.3->mistralai) (2.33.2)\n",
            "Requirement already satisfied: typing-extensions>=4.12.2 in /usr/local/lib/python3.12/dist-packages (from pydantic>=2.10.3->mistralai) (4.15.0)\n",
            "Requirement already satisfied: six>=1.5 in /usr/local/lib/python3.12/dist-packages (from python-dateutil>=2.8.2->mistralai) (1.17.0)\n",
            "Requirement already satisfied: sniffio>=1.1 in /usr/local/lib/python3.12/dist-packages (from anyio->httpx>=0.28.1->mistralai) (1.3.1)\n",
            "Downloading mistralai-1.9.11-py3-none-any.whl (442 kB)\n",
            "\u001b[2K   \u001b[90m━━━━━━━━━━━━━━━━━━━━━━━━━━━━━━━━━━━━━━━━\u001b[0m \u001b[32m442.8/442.8 kB\u001b[0m \u001b[31m15.5 MB/s\u001b[0m eta \u001b[36m0:00:00\u001b[0m\n",
            "\u001b[?25hDownloading eval_type_backport-0.2.2-py3-none-any.whl (5.8 kB)\n",
            "Downloading invoke-2.2.1-py3-none-any.whl (160 kB)\n",
            "\u001b[2K   \u001b[90m━━━━━━━━━━━━━━━━━━━━━━━━━━━━━━━━━━━━━━━━\u001b[0m \u001b[32m160.3/160.3 kB\u001b[0m \u001b[31m15.8 MB/s\u001b[0m eta \u001b[36m0:00:00\u001b[0m\n",
            "\u001b[?25hInstalling collected packages: invoke, eval-type-backport, mistralai\n",
            "Successfully installed eval-type-backport-0.2.2 invoke-2.2.1 mistralai-1.9.11\n"
          ]
        }
      ]
    },
    {
      "cell_type": "code",
      "source": [
        "from mistralai import Mistral\n",
        "client=Mistral(api_key=\"g0A9syaxIAH2ZdPl5OF6G4rMcOQnZ7Lo\")\n",
        "model=\"mistral-large-latest\"\n",
        "response=client.chat.complete(model=model,messages=[{\"role\": \"system\", \"content\": \"You are a helpful resume and candidate match decider. Compare the resume and job description, and answer only 'Yes' if the candidate is a good match or 'No' if not. for data science role\"},\n",
        "        {\"role\": \"user\", \"content\": text}])\n",
        "print(response.choices[0].message.content)"
      ],
      "metadata": {
        "colab": {
          "base_uri": "https://localhost:8080/"
        },
        "id": "9BumXEEnSaQ2",
        "outputId": "6e676906-ad7e-43f4-8b97-23e3b18869fd"
      },
      "execution_count": null,
      "outputs": [
        {
          "output_type": "stream",
          "name": "stdout",
          "text": [
            "**No**\n"
          ]
        }
      ]
    },
    {
      "cell_type": "code",
      "source": [
        "# Welcome to our site\n",
        "categories = [\"tshirt\", \"watches\", \"shoes\", \"shirts\", \"jeans\"]\n",
        "\n",
        "# Categories Brands + Prices\n",
        "tshirt = [\"Nike\", \"Adidas\", \"Puma\"]\n",
        "tshirt_price = [1999, 1499, 1799]\n",
        "\n",
        "watches = [\"Titan\", \"Fossil\", \"Casio\"]\n",
        "watches_price = [9999, 11999, 10999]\n",
        "\n",
        "shoes = [\"reebok\", \"woodland\", \"skechers\"]\n",
        "shoes_price = [5999, 6999, 4999]\n",
        "\n",
        "shirts = [\"Van Heusen\", \"Peter England\", \"Louis Philippe\"]\n",
        "shirts_price = [1499, 1299, 1999]\n",
        "\n",
        "jeans = [\"Levi’s\", \"Wrangler\", \"Lee\"]\n",
        "jeans_price = [3499, 3799, 3999]\n",
        "\n",
        "coupoun=(\"flat10\",\"flat20\",\"save5\")\n",
        "# My cart\n",
        "cart = []\n",
        "total_price = 0\n",
        "\n",
        "item = input(\"Do you want anything? (yes/no): \").lower()\n",
        "\n",
        "while item == \"yes\":\n",
        "    category_wanted = input(\"Which category do you want? \").lower()\n",
        "\n",
        "    if category_wanted == \"tshirt\":\n",
        "        tshirt_wanted = input(f\"Which tshirt do you want? {tshirt}: \")\n",
        "        if tshirt_wanted in tshirt:\n",
        "            idx = tshirt.index(tshirt_wanted)\n",
        "            total_price += tshirt_price[idx]\n",
        "            cart.append(tshirt_wanted)\n",
        "        else:\n",
        "            print(\"Sorry, we do not have this item\")\n",
        "\n",
        "    elif category_wanted == \"watches\":\n",
        "        watch_wanted = input(f\"Which watch do you want? {watches}: \")\n",
        "        if watch_wanted in watches:\n",
        "            idx = watches.index(watch_wanted)\n",
        "            total_price += watches_price[idx]\n",
        "            cart.append(watch_wanted)\n",
        "        else:\n",
        "            print(\"Sorry, we do not have this item\")\n",
        "\n",
        "    elif category_wanted == \"shoes\":\n",
        "        shoes_wanted = input(f\"Which shoes do you want? {shoes}: \")\n",
        "        if shoes_wanted in shoes:\n",
        "            idx = shoes.index(shoes_wanted)\n",
        "            total_price += shoes_price[idx]\n",
        "            cart.append(shoes_wanted)\n",
        "        else:\n",
        "            print(\"Sorry, we do not have this item\")\n",
        "\n",
        "    elif category_wanted == \"shirts\":\n",
        "        shirt_wanted = input(f\"Which shirt do you want? {shirts}: \")\n",
        "        if shirt_wanted in shirts:\n",
        "            idx = shirts.index(shirt_wanted)\n",
        "            total_price += shirts_price[idx]\n",
        "            cart.append(shirt_wanted)\n",
        "        else:\n",
        "            print(\"Sorry, we do not have this item\")\n",
        "\n",
        "    elif category_wanted == \"jeans\":\n",
        "        jean_wanted = input(f\"Which jeans do you want? {jeans}: \")\n",
        "        if jean_wanted in jeans:\n",
        "            idx = jeans.index(jean_wanted)\n",
        "            total_price += jeans_price[idx]\n",
        "            cart.append(jean_wanted)\n",
        "        else:\n",
        "            print(\"Sorry, we do not have this item\")\n",
        "\n",
        "    else:\n",
        "        print(\"Sorry, we do not have this category\")\n",
        "\n",
        "    item = input(\"Do you want anything else? (yes/no): \").lower()\n",
        "\n",
        "print(f\" Your products are: {cart}\")\n",
        "print(f\" Your total is: {total_price}\")\n"
      ],
      "metadata": {
        "colab": {
          "base_uri": "https://localhost:8080/"
        },
        "id": "ofrcylCfqxdm",
        "outputId": "a1226cf7-1821-4a1c-dc55-2255abde3298"
      },
      "execution_count": null,
      "outputs": [
        {
          "output_type": "stream",
          "name": "stdout",
          "text": [
            "Do you want anything? (yes/no): yes\n",
            "Which category do you want? tshirt\n",
            "Which tshirt do you want? ['Nike', 'Adidas', 'Puma']: Nike\n",
            "Do you want anything else? (yes/no): yes\n",
            "Which category do you want? shoes\n",
            "Which shoes do you want? ['reebok', 'woodland', 'skechers']: woodland\n",
            "Do you want anything else? (yes/no): no\n",
            " Your products are: ['Nike', 'woodland']\n",
            " Your total is: 8998\n"
          ]
        }
      ]
    },
    {
      "cell_type": "code",
      "source": [
        "#Recursion\n",
        "def factorial(n):\n",
        "  if(n==0 or n==1):\n",
        "    return 1\n",
        "  else:\n",
        "    return n*factorial(n-1)\n",
        "print(factorial(5))"
      ],
      "metadata": {
        "colab": {
          "base_uri": "https://localhost:8080/"
        },
        "id": "MOzarOQQVlfJ",
        "outputId": "6e469195-5015-4779-b9e8-d0aefb363bd9"
      },
      "execution_count": null,
      "outputs": [
        {
          "output_type": "execute_result",
          "data": {
            "text/plain": [
              "120"
            ]
          },
          "metadata": {},
          "execution_count": 4
        }
      ]
    },
    {
      "cell_type": "code",
      "source": [
        "#Dictoniary ki value mai list and tople nhi use kr skte\n",
        "employee={\n",
        "    \"name\":[\"Adiri\",\"akansha\",\"jaisleen\"],\n",
        "    \"Salary\":[100,1000,10000],\n",
        "    \"Department\":[\"IT\",\"Mechanicak\",\"CSE\"]\n",
        "}\n",
        "#To print each element in list with their salary\n",
        "for i range(len(employee['name'])):\n",
        "  print(f\"Name of employee:{}\")"
      ],
      "metadata": {
        "id": "rDOAtpLtZ-HZ"
      },
      "execution_count": null,
      "outputs": []
    },
    {
      "cell_type": "code",
      "source": [
        "#String\n",
        "name=\"Aditi half mad\"\n",
        "if 'f' in name:\n",
        "  print(\"Availabe\")\n",
        "else:\n",
        "  print(\"Not\")\n",
        "ti=\"ro\"\n",
        "result=name+ti\n",
        "print(result)\n",
        "print(name[0])\n",
        "print(name[:3])\n",
        "print(name[:-1])\n",
        "reverse=name[::-1]\n",
        "print(reverse)\n",
        "\n",
        "s1=\" Punjab \"\n",
        "state=s1.strip()#Strip function remove space at beginning at end\n",
        "print(state)\n",
        "state=\"p u n j a b\"\n",
        "s2=srtat"
      ],
      "metadata": {
        "colab": {
          "base_uri": "https://localhost:8080/"
        },
        "id": "4RmDUCsqcAXj",
        "outputId": "9508ab4f-0bb2-45bb-805e-925a057f228c"
      },
      "execution_count": null,
      "outputs": [
        {
          "output_type": "stream",
          "name": "stdout",
          "text": [
            "Availabe\n",
            "Aditi half madro\n",
            "A\n",
            "Adi\n",
            "Aditi half ma\n",
            "dam flah itidA\n",
            " Punjab \n"
          ]
        }
      ]
    },
    {
      "cell_type": "code",
      "source": [
        "def fibonacci(n):\n",
        "  a=0\n",
        "  b=1\n",
        "  for i in range(2,n+1):\n",
        "    c=a+b\n",
        "    a=b\n",
        "    b=c\n",
        "  return b\n",
        "print(fibonacci(5))"
      ],
      "metadata": {
        "colab": {
          "base_uri": "https://localhost:8080/"
        },
        "id": "m7XsUvtfegBH",
        "outputId": "16c5aff7-70c7-4190-cddb-4e540c17baa3"
      },
      "execution_count": null,
      "outputs": [
        {
          "output_type": "stream",
          "name": "stdout",
          "text": [
            "5\n"
          ]
        }
      ]
    },
    {
      "cell_type": "code",
      "source": [
        "def fibrec(n,sum):\n",
        "  if n==0:\n",
        "    return 0\n",
        "  if n==1:\n",
        "    return 1\n",
        "  return fibrec(n-1,sum+n)+fibrec(n-2)\n",
        "print(fibrec(5,0))"
      ],
      "metadata": {
        "colab": {
          "base_uri": "https://localhost:8080/"
        },
        "id": "axMTSN8ufQRV",
        "outputId": "c9f8a319-c0e0-42ed-b417-2d1f00c42b44"
      },
      "execution_count": null,
      "outputs": [
        {
          "output_type": "stream",
          "name": "stdout",
          "text": [
            "5\n"
          ]
        }
      ]
    },
    {
      "cell_type": "code",
      "source": [
        "#HCF\n",
        "a=1058\n",
        "b=253\n",
        "min=0\n",
        "if a>b:\n",
        "  min=b\n",
        "else:\n",
        "  min=a\n",
        "ans=0\n",
        "for i in range(1,min+1):\n",
        "  if a%i==0 and b%i==0:\n",
        "    ans=i\n",
        "print(ans)\n"
      ],
      "metadata": {
        "colab": {
          "base_uri": "https://localhost:8080/"
        },
        "id": "xekhDWj-iXew",
        "outputId": "08d78ae1-e5da-4bc6-f467-eb50dccb79d0"
      },
      "execution_count": null,
      "outputs": [
        {
          "output_type": "stream",
          "name": "stdout",
          "text": [
            "23\n"
          ]
        }
      ]
    },
    {
      "cell_type": "code",
      "source": [
        "#LCM(HCF*LCM=a*b)\n",
        "a=3\n",
        "b=8\n",
        "max=0\n",
        "if a>b:\n",
        "  max=a\n",
        "else:\n",
        "  max=b\n",
        "ans=0\n",
        "for i in range(max,a*b+1):\n",
        "  if i%a==0 and i%b==0:\n",
        "    ans=i\n",
        "    break\n",
        "\n",
        "print(ans)"
      ],
      "metadata": {
        "colab": {
          "base_uri": "https://localhost:8080/"
        },
        "id": "7E52go6Hm7UC",
        "outputId": "5356aa22-aeac-4e1d-ef85-038cd3b817d1"
      },
      "execution_count": null,
      "outputs": [
        {
          "output_type": "stream",
          "name": "stdout",
          "text": [
            "24\n"
          ]
        }
      ]
    },
    {
      "cell_type": "code",
      "source": [
        "# Restaurant Billing using Dictionary and Functions\n",
        "\n",
        "def add_price(price, total_price):\n",
        "    return total_price + price\n",
        "\n",
        "def add_discount(discount_percent, price, total_discount):\n",
        "    return total_discount + (discount_percent / 100) * price\n",
        "\n",
        "menu = {\n",
        "    \"items\": [\"Pizza\", \"Burger\", \"Fries\", \"Coke\", \"Ice-cream\"],\n",
        "    \"price\": [400, 200, 250, 80, 100],\n",
        "    \"discount\": [5, 10, 15, 5, 10]\n",
        "}\n",
        "\n",
        "total_price = 0\n",
        "total_discount = 0\n",
        "items_ordered = []\n",
        "\n",
        "n = int(input(\"Enter how many items you want: \"))\n",
        "\n",
        "for i in range(n):\n",
        "    dish = input(f\"Enter item {i+1}: \")\n",
        "    if dish in menu[\"items\"]:\n",
        "        items_ordered.append(dish)\n",
        "        idx = menu[\"items\"].index(dish)\n",
        "        price_of_dish = menu[\"price\"][idx]\n",
        "        discount_on_dish = menu[\"discount\"][idx]\n",
        "\n",
        "        total_price = add_price(price_of_dish, total_price)\n",
        "        total_discount = add_discount(discount_on_dish, price_of_dish, total_discount)\n",
        "    else:\n",
        "        print(f\" {dish} is not in the menu. Please choose again.\")\n",
        "\n",
        "bill = total_price - total_discount\n",
        "print(f\" Your items: {items_ordered}\")\n",
        "print(f\"Total Price: {total_price}\")\n",
        "print(f\"Total Discount: {total_discount}\")\n",
        "print(f\"Final Bill: {bill}\")\n"
      ],
      "metadata": {
        "colab": {
          "base_uri": "https://localhost:8080/",
          "height": 356
        },
        "id": "NenvBcwj_tSY",
        "outputId": "36a089b1-d9ac-49f2-f6a3-30e6416ca86b"
      },
      "execution_count": null,
      "outputs": [
        {
          "output_type": "error",
          "ename": "KeyboardInterrupt",
          "evalue": "Interrupted by user",
          "traceback": [
            "\u001b[0;31m---------------------------------------------------------------------------\u001b[0m",
            "\u001b[0;31mKeyboardInterrupt\u001b[0m                         Traceback (most recent call last)",
            "\u001b[0;32m/tmp/ipython-input-3910186301.py\u001b[0m in \u001b[0;36m<cell line: 0>\u001b[0;34m()\u001b[0m\n\u001b[1;32m     17\u001b[0m \u001b[0mitems_ordered\u001b[0m \u001b[0;34m=\u001b[0m \u001b[0;34m[\u001b[0m\u001b[0;34m]\u001b[0m\u001b[0;34m\u001b[0m\u001b[0;34m\u001b[0m\u001b[0m\n\u001b[1;32m     18\u001b[0m \u001b[0;34m\u001b[0m\u001b[0m\n\u001b[0;32m---> 19\u001b[0;31m \u001b[0mn\u001b[0m \u001b[0;34m=\u001b[0m \u001b[0mint\u001b[0m\u001b[0;34m(\u001b[0m\u001b[0minput\u001b[0m\u001b[0;34m(\u001b[0m\u001b[0;34m\"Enter how many items you want: \"\u001b[0m\u001b[0;34m)\u001b[0m\u001b[0;34m)\u001b[0m\u001b[0;34m\u001b[0m\u001b[0;34m\u001b[0m\u001b[0m\n\u001b[0m\u001b[1;32m     20\u001b[0m \u001b[0;34m\u001b[0m\u001b[0m\n\u001b[1;32m     21\u001b[0m \u001b[0;32mfor\u001b[0m \u001b[0mi\u001b[0m \u001b[0;32min\u001b[0m \u001b[0mrange\u001b[0m\u001b[0;34m(\u001b[0m\u001b[0mn\u001b[0m\u001b[0;34m)\u001b[0m\u001b[0;34m:\u001b[0m\u001b[0;34m\u001b[0m\u001b[0;34m\u001b[0m\u001b[0m\n",
            "\u001b[0;32m/usr/local/lib/python3.12/dist-packages/ipykernel/kernelbase.py\u001b[0m in \u001b[0;36mraw_input\u001b[0;34m(self, prompt)\u001b[0m\n\u001b[1;32m   1175\u001b[0m                 \u001b[0;34m\"raw_input was called, but this frontend does not support input requests.\"\u001b[0m\u001b[0;34m\u001b[0m\u001b[0;34m\u001b[0m\u001b[0m\n\u001b[1;32m   1176\u001b[0m             )\n\u001b[0;32m-> 1177\u001b[0;31m         return self._input_request(\n\u001b[0m\u001b[1;32m   1178\u001b[0m             \u001b[0mstr\u001b[0m\u001b[0;34m(\u001b[0m\u001b[0mprompt\u001b[0m\u001b[0;34m)\u001b[0m\u001b[0;34m,\u001b[0m\u001b[0;34m\u001b[0m\u001b[0;34m\u001b[0m\u001b[0m\n\u001b[1;32m   1179\u001b[0m             \u001b[0mself\u001b[0m\u001b[0;34m.\u001b[0m\u001b[0m_parent_ident\u001b[0m\u001b[0;34m[\u001b[0m\u001b[0;34m\"shell\"\u001b[0m\u001b[0;34m]\u001b[0m\u001b[0;34m,\u001b[0m\u001b[0;34m\u001b[0m\u001b[0;34m\u001b[0m\u001b[0m\n",
            "\u001b[0;32m/usr/local/lib/python3.12/dist-packages/ipykernel/kernelbase.py\u001b[0m in \u001b[0;36m_input_request\u001b[0;34m(self, prompt, ident, parent, password)\u001b[0m\n\u001b[1;32m   1217\u001b[0m             \u001b[0;32mexcept\u001b[0m \u001b[0mKeyboardInterrupt\u001b[0m\u001b[0;34m:\u001b[0m\u001b[0;34m\u001b[0m\u001b[0;34m\u001b[0m\u001b[0m\n\u001b[1;32m   1218\u001b[0m                 \u001b[0;31m# re-raise KeyboardInterrupt, to truncate traceback\u001b[0m\u001b[0;34m\u001b[0m\u001b[0;34m\u001b[0m\u001b[0m\n\u001b[0;32m-> 1219\u001b[0;31m                 \u001b[0;32mraise\u001b[0m \u001b[0mKeyboardInterrupt\u001b[0m\u001b[0;34m(\u001b[0m\u001b[0;34m\"Interrupted by user\"\u001b[0m\u001b[0;34m)\u001b[0m \u001b[0;32mfrom\u001b[0m \u001b[0;32mNone\u001b[0m\u001b[0;34m\u001b[0m\u001b[0;34m\u001b[0m\u001b[0m\n\u001b[0m\u001b[1;32m   1220\u001b[0m             \u001b[0;32mexcept\u001b[0m \u001b[0mException\u001b[0m\u001b[0;34m:\u001b[0m\u001b[0;34m\u001b[0m\u001b[0;34m\u001b[0m\u001b[0m\n\u001b[1;32m   1221\u001b[0m                 \u001b[0mself\u001b[0m\u001b[0;34m.\u001b[0m\u001b[0mlog\u001b[0m\u001b[0;34m.\u001b[0m\u001b[0mwarning\u001b[0m\u001b[0;34m(\u001b[0m\u001b[0;34m\"Invalid Message:\"\u001b[0m\u001b[0;34m,\u001b[0m \u001b[0mexc_info\u001b[0m\u001b[0;34m=\u001b[0m\u001b[0;32mTrue\u001b[0m\u001b[0;34m)\u001b[0m\u001b[0;34m\u001b[0m\u001b[0;34m\u001b[0m\u001b[0m\n",
            "\u001b[0;31mKeyboardInterrupt\u001b[0m: Interrupted by user"
          ]
        }
      ]
    },
    {
      "cell_type": "code",
      "source": [
        "#Rope Problem\n",
        "a=36\n",
        "b=48\n",
        "min=a\n",
        "if b<a:\n",
        "  min=b\n",
        "ans=0\n",
        "for i in range(1,min+1):\n",
        "  if a%i==0 and b%i==0:\n",
        "    ans=i\n",
        "\n",
        "print(f\"The maximun length is {ans}\")"
      ],
      "metadata": {
        "colab": {
          "base_uri": "https://localhost:8080/"
        },
        "id": "4aPlJKiQgQMv",
        "outputId": "fcfdc92f-c8c7-4fb9-c36a-02017cf2aa62"
      },
      "execution_count": null,
      "outputs": [
        {
          "output_type": "stream",
          "name": "stdout",
          "text": [
            "The maximun length is 12\n"
          ]
        }
      ]
    },
    {
      "cell_type": "code",
      "source": [
        "#Circle problem\n",
        "a=40\n",
        "b=30\n",
        "max=a\n",
        "ans=0\n",
        "total_time=15*60\n",
        "no_of_times=0\n",
        "if b>a:\n",
        "  max=b\n",
        "for i in range(max,a*b+1):\n",
        "  if i%a==0 and i%b==0:\n",
        "    ans=i\n",
        "    no_of_times=(total_time//i)\n",
        "    break\n",
        "print(f\"They meet after {ans} sec\")\n",
        "print(f\"They meet {no_of_times} times in 15 minutes\")\n"
      ],
      "metadata": {
        "colab": {
          "base_uri": "https://localhost:8080/"
        },
        "id": "vOGxa7V_kpL4",
        "outputId": "3830fedb-ed30-4de9-d3cd-5be0d42867d0"
      },
      "execution_count": null,
      "outputs": [
        {
          "output_type": "stream",
          "name": "stdout",
          "text": [
            "They meet after 120 sec\n",
            "They meet 7 times in 15 minutes\n"
          ]
        }
      ]
    },
    {
      "cell_type": "code",
      "source": [
        "dict={\"name\":[\"Rahul\",\"Rohan\",\"Mohit\"],\"age\":[12,15,16],\"class\":[6,9,10]}\n",
        "for value in dict.values():\n",
        "  for i in value:\n",
        "    print(i)\n"
      ],
      "metadata": {
        "colab": {
          "base_uri": "https://localhost:8080/"
        },
        "id": "zlfeGmrudx6T",
        "outputId": "74200785-568b-481a-8839-3e79af6a8075"
      },
      "execution_count": null,
      "outputs": [
        {
          "output_type": "stream",
          "name": "stdout",
          "text": [
            "Rahul\n",
            "Rohan\n",
            "Mohit\n",
            "12\n",
            "15\n",
            "16\n",
            "6\n",
            "9\n",
            "10\n"
          ]
        }
      ]
    },
    {
      "cell_type": "code",
      "source": [
        "def add(a,b):\n",
        "  return a+b\n",
        "print(add(1,2))"
      ],
      "metadata": {
        "colab": {
          "base_uri": "https://localhost:8080/"
        },
        "id": "kw1YWJFbGUxo",
        "outputId": "54f82c04-f0cc-45ab-a37d-a48d63536a67"
      },
      "execution_count": null,
      "outputs": [
        {
          "output_type": "stream",
          "name": "stdout",
          "text": [
            "3\n"
          ]
        }
      ]
    },
    {
      "cell_type": "code",
      "source": [
        "def fact(n):\n",
        "  prod=1\n",
        "  for i in range(1,n+1):\n",
        "    prod=prod*i\n",
        "  return prod\n",
        "a=fact(4)\n",
        "print(a)"
      ],
      "metadata": {
        "colab": {
          "base_uri": "https://localhost:8080/"
        },
        "id": "DDx-NgRWGhTJ",
        "outputId": "5040a729-b1a1-4f27-a1d7-a62289a60fa0"
      },
      "execution_count": null,
      "outputs": [
        {
          "output_type": "stream",
          "name": "stdout",
          "text": [
            "24\n"
          ]
        }
      ]
    },
    {
      "cell_type": "code",
      "source": [
        "def addition1(* args):#It takes as touple\n",
        "  return sum(args)\n",
        "print(addition1(1,2,3,4))"
      ],
      "metadata": {
        "colab": {
          "base_uri": "https://localhost:8080/"
        },
        "id": "Z4B3uC2qJhz5",
        "outputId": "5b7451af-bc21-4a05-8512-d1311cd13f65"
      },
      "execution_count": null,
      "outputs": [
        {
          "output_type": "stream",
          "name": "stdout",
          "text": [
            "10\n"
          ]
        }
      ]
    },
    {
      "cell_type": "code",
      "source": [
        "def addition2(**kwargs):#It takes as dictionary\n",
        "  for key,value in kwargs.items():\n",
        "    print(f\"{key}={value}\")\n",
        "addition2(name=\"aditya\",age=23)"
      ],
      "metadata": {
        "colab": {
          "base_uri": "https://localhost:8080/"
        },
        "id": "JsfQB2NuKCmF",
        "outputId": "4fc2c0a3-1ba2-4425-b034-81a64a1ba57b"
      },
      "execution_count": null,
      "outputs": [
        {
          "output_type": "stream",
          "name": "stdout",
          "text": [
            "name=aditya\n",
            "age=23\n"
          ]
        }
      ]
    },
    {
      "cell_type": "code",
      "source": [
        "a=lambda x,y:x+y#Chhote se function k liye\n",
        "print(a(2,3))"
      ],
      "metadata": {
        "colab": {
          "base_uri": "https://localhost:8080/"
        },
        "id": "sN6U6hkeLUuT",
        "outputId": "9e2c028d-4706-4944-a26b-4723f1bc861f"
      },
      "execution_count": null,
      "outputs": [
        {
          "output_type": "stream",
          "name": "stdout",
          "text": [
            "5\n"
          ]
        }
      ]
    },
    {
      "cell_type": "code",
      "source": [
        "loan=int(input(\"Enter the amount to want to take loan:\"))\n",
        "time=float(input(\"Enter the time for loan:\"))\n",
        "rate=float(input(\"Enter the rate:\"))\n",
        "total_amount=((loan*time*rate)/100)+loan\n",
        "emi=total_amount/(time*12)\n",
        "salary=int(input(\"Enter the persons salary\"))\n",
        "credit_score=int(input(\"Enter the person's credit score\"))\n",
        "collateral_value=int(input(\"Enter the amount for your collateral\"))\n",
        "if credit_score>500:\n",
        "  if emi<(0.25*salary):\n",
        "    if collateral_value>(.7*loan):\n",
        "      print(\"Your loan has been passed\")\n",
        "    else:\n",
        "      print(\"Loan not approved\")\n",
        "  else:\n",
        "    print(\"Loan not approved\")\n",
        "else:\n",
        "  print(\"Loan not approved\")\n",
        "\n"
      ],
      "metadata": {
        "colab": {
          "base_uri": "https://localhost:8080/",
          "height": 365
        },
        "id": "hIJxeSXYqcjn",
        "outputId": "2875dd9f-c304-4ea0-8c51-ccd9ec19eeb5"
      },
      "execution_count": null,
      "outputs": [
        {
          "output_type": "error",
          "ename": "KeyboardInterrupt",
          "evalue": "Interrupted by user",
          "traceback": [
            "\u001b[0;31m---------------------------------------------------------------------------\u001b[0m",
            "\u001b[0;31mKeyboardInterrupt\u001b[0m                         Traceback (most recent call last)",
            "\u001b[0;32m/tmp/ipython-input-2819291789.py\u001b[0m in \u001b[0;36m<cell line: 0>\u001b[0;34m()\u001b[0m\n\u001b[0;32m----> 1\u001b[0;31m \u001b[0mloan\u001b[0m\u001b[0;34m=\u001b[0m\u001b[0mint\u001b[0m\u001b[0;34m(\u001b[0m\u001b[0minput\u001b[0m\u001b[0;34m(\u001b[0m\u001b[0;34m\"Enter the amount to want to take loan:\"\u001b[0m\u001b[0;34m)\u001b[0m\u001b[0;34m)\u001b[0m\u001b[0;34m\u001b[0m\u001b[0;34m\u001b[0m\u001b[0m\n\u001b[0m\u001b[1;32m      2\u001b[0m \u001b[0mtime\u001b[0m\u001b[0;34m=\u001b[0m\u001b[0mfloat\u001b[0m\u001b[0;34m(\u001b[0m\u001b[0minput\u001b[0m\u001b[0;34m(\u001b[0m\u001b[0;34m\"Enter the time for loan:\"\u001b[0m\u001b[0;34m)\u001b[0m\u001b[0;34m)\u001b[0m\u001b[0;34m\u001b[0m\u001b[0;34m\u001b[0m\u001b[0m\n\u001b[1;32m      3\u001b[0m \u001b[0mrate\u001b[0m\u001b[0;34m=\u001b[0m\u001b[0mfloat\u001b[0m\u001b[0;34m(\u001b[0m\u001b[0minput\u001b[0m\u001b[0;34m(\u001b[0m\u001b[0;34m\"Enter the rate:\"\u001b[0m\u001b[0;34m)\u001b[0m\u001b[0;34m)\u001b[0m\u001b[0;34m\u001b[0m\u001b[0;34m\u001b[0m\u001b[0m\n\u001b[1;32m      4\u001b[0m \u001b[0mtotal_amount\u001b[0m\u001b[0;34m=\u001b[0m\u001b[0;34m(\u001b[0m\u001b[0;34m(\u001b[0m\u001b[0mloan\u001b[0m\u001b[0;34m*\u001b[0m\u001b[0mtime\u001b[0m\u001b[0;34m*\u001b[0m\u001b[0mrate\u001b[0m\u001b[0;34m)\u001b[0m\u001b[0;34m/\u001b[0m\u001b[0;36m100\u001b[0m\u001b[0;34m)\u001b[0m\u001b[0;34m+\u001b[0m\u001b[0mloan\u001b[0m\u001b[0;34m\u001b[0m\u001b[0;34m\u001b[0m\u001b[0m\n\u001b[1;32m      5\u001b[0m \u001b[0memi\u001b[0m\u001b[0;34m=\u001b[0m\u001b[0mtotal_amount\u001b[0m\u001b[0;34m/\u001b[0m\u001b[0;34m(\u001b[0m\u001b[0mtime\u001b[0m\u001b[0;34m*\u001b[0m\u001b[0;36m12\u001b[0m\u001b[0;34m)\u001b[0m\u001b[0;34m\u001b[0m\u001b[0;34m\u001b[0m\u001b[0m\n",
            "\u001b[0;32m/usr/local/lib/python3.12/dist-packages/ipykernel/kernelbase.py\u001b[0m in \u001b[0;36mraw_input\u001b[0;34m(self, prompt)\u001b[0m\n\u001b[1;32m   1175\u001b[0m                 \u001b[0;34m\"raw_input was called, but this frontend does not support input requests.\"\u001b[0m\u001b[0;34m\u001b[0m\u001b[0;34m\u001b[0m\u001b[0m\n\u001b[1;32m   1176\u001b[0m             )\n\u001b[0;32m-> 1177\u001b[0;31m         return self._input_request(\n\u001b[0m\u001b[1;32m   1178\u001b[0m             \u001b[0mstr\u001b[0m\u001b[0;34m(\u001b[0m\u001b[0mprompt\u001b[0m\u001b[0;34m)\u001b[0m\u001b[0;34m,\u001b[0m\u001b[0;34m\u001b[0m\u001b[0;34m\u001b[0m\u001b[0m\n\u001b[1;32m   1179\u001b[0m             \u001b[0mself\u001b[0m\u001b[0;34m.\u001b[0m\u001b[0m_parent_ident\u001b[0m\u001b[0;34m[\u001b[0m\u001b[0;34m\"shell\"\u001b[0m\u001b[0;34m]\u001b[0m\u001b[0;34m,\u001b[0m\u001b[0;34m\u001b[0m\u001b[0;34m\u001b[0m\u001b[0m\n",
            "\u001b[0;32m/usr/local/lib/python3.12/dist-packages/ipykernel/kernelbase.py\u001b[0m in \u001b[0;36m_input_request\u001b[0;34m(self, prompt, ident, parent, password)\u001b[0m\n\u001b[1;32m   1217\u001b[0m             \u001b[0;32mexcept\u001b[0m \u001b[0mKeyboardInterrupt\u001b[0m\u001b[0;34m:\u001b[0m\u001b[0;34m\u001b[0m\u001b[0;34m\u001b[0m\u001b[0m\n\u001b[1;32m   1218\u001b[0m                 \u001b[0;31m# re-raise KeyboardInterrupt, to truncate traceback\u001b[0m\u001b[0;34m\u001b[0m\u001b[0;34m\u001b[0m\u001b[0m\n\u001b[0;32m-> 1219\u001b[0;31m                 \u001b[0;32mraise\u001b[0m \u001b[0mKeyboardInterrupt\u001b[0m\u001b[0;34m(\u001b[0m\u001b[0;34m\"Interrupted by user\"\u001b[0m\u001b[0;34m)\u001b[0m \u001b[0;32mfrom\u001b[0m \u001b[0;32mNone\u001b[0m\u001b[0;34m\u001b[0m\u001b[0;34m\u001b[0m\u001b[0m\n\u001b[0m\u001b[1;32m   1220\u001b[0m             \u001b[0;32mexcept\u001b[0m \u001b[0mException\u001b[0m\u001b[0;34m:\u001b[0m\u001b[0;34m\u001b[0m\u001b[0;34m\u001b[0m\u001b[0m\n\u001b[1;32m   1221\u001b[0m                 \u001b[0mself\u001b[0m\u001b[0;34m.\u001b[0m\u001b[0mlog\u001b[0m\u001b[0;34m.\u001b[0m\u001b[0mwarning\u001b[0m\u001b[0;34m(\u001b[0m\u001b[0;34m\"Invalid Message:\"\u001b[0m\u001b[0;34m,\u001b[0m \u001b[0mexc_info\u001b[0m\u001b[0;34m=\u001b[0m\u001b[0;32mTrue\u001b[0m\u001b[0;34m)\u001b[0m\u001b[0;34m\u001b[0m\u001b[0;34m\u001b[0m\u001b[0m\n",
            "\u001b[0;31mKeyboardInterrupt\u001b[0m: Interrupted by user"
          ]
        }
      ]
    },
    {
      "cell_type": "code",
      "source": [
        "sum=0\n",
        "for i in range(1,1000):\n",
        "  sum=sum+i\n",
        "print(sum)"
      ],
      "metadata": {
        "colab": {
          "base_uri": "https://localhost:8080/"
        },
        "id": "tLLL7_Ek86Ui",
        "outputId": "5603a9f0-ff24-4297-ac40-b453a9ede99a"
      },
      "execution_count": null,
      "outputs": [
        {
          "output_type": "stream",
          "name": "stdout",
          "text": [
            "499500\n"
          ]
        }
      ]
    },
    {
      "cell_type": "code",
      "source": [
        "sum=0\n",
        "for i in range(1,1000):\n",
        "  if(i%3==0):\n",
        "    sum=sum+i\n",
        "  if(i%5==0):\n",
        "    sum=sum+i\n",
        "  if(i%10==0):\n",
        "    sum=sum+i\n",
        "  if(i%(3*5)==0):\n",
        "    sum=sum-i\n",
        "  if(i%(5*10)==0):\n",
        "    sum=sum-i\n",
        "  if(i%(3*10)==0):\n",
        "    sum=sum-i\n",
        "  if(i%(3*5*10)==0):\n",
        "    sum=sum+i\n",
        "\n",
        "print(sum)"
      ],
      "metadata": {
        "colab": {
          "base_uri": "https://localhost:8080/"
        },
        "id": "2JHGC5Sy87U0",
        "outputId": "ba12f47a-1370-4527-aa03-9b3c80ef525e"
      },
      "execution_count": null,
      "outputs": [
        {
          "output_type": "stream",
          "name": "stdout",
          "text": [
            "259488\n"
          ]
        }
      ]
    },
    {
      "cell_type": "code",
      "source": [
        "burger=200\n",
        "pizza=300\n",
        "fries=150\n",
        "coke=70\n",
        "water=20\n",
        "bill=0\n",
        "order=input(\"Do you want burger?\")\n",
        "if order==\"yes\":\n",
        "  quan=int(input(\"Enter the number of items\"))\n",
        "  bill=(burger*quan)+bill\n",
        "order=input(\"Do you want pizza?\")\n",
        "if order==\"yes\":\n",
        "  quan=int(input(\"Enter the number of items\"))\n",
        "  bill=(pizza*quan)+bill\n",
        "order=input(\"Do you want fries?\")\n",
        "if order==\"yes\":\n",
        "  quan=int(input(\"Enter the number of items\"))\n",
        "  bill=(fries*quan)+bill\n",
        "order=input(\"Do you want coke?\")\n",
        "if order==\"yes\":\n",
        "  quan=int(input(\"Enter the number of items\"))\n",
        "  bill=(coke*quan)+bill\n",
        "order=input(\"Do you want water?\")\n",
        "if order==\"yes\":\n",
        "  quan=int(input(\"Enter the number of items\"))\n",
        "  bill=(water*quan)+bill\n",
        "discount=input(\"Do you have discount coupoun:\")\n",
        "if discount==\"yes\":\n",
        "  code=input(\"Enter code:\")\n",
        "  if code==\"DIC10\":\n",
        "    bill=bill-(10/100)*bill\n",
        "  else:\n",
        "    bill=bill\n",
        "print(f\"The tottal bill is {bill}\")"
      ],
      "metadata": {
        "colab": {
          "base_uri": "https://localhost:8080/"
        },
        "id": "s6pMyzsfenB9",
        "outputId": "e2e4f09a-ea2b-4265-a688-55365eedaf73"
      },
      "execution_count": null,
      "outputs": [
        {
          "output_type": "stream",
          "name": "stdout",
          "text": [
            "Do you want burger?yes\n",
            "Enter the number of items1\n",
            "Do you want pizza?no\n",
            "Do you want fries?yes\n",
            "Enter the number of items2\n",
            "Do you want coke?no\n",
            "Do you want water?no\n",
            "The tottal bill is 500\n"
          ]
        }
      ]
    },
    {
      "cell_type": "code",
      "source": [
        "a=int(input(\"Enter the number:\"))\n",
        "product=1\n",
        "for i in range(1,a+1):\n",
        "  product=product*i\n",
        "print(f\"The factorial of {a} is {product}\")"
      ],
      "metadata": {
        "colab": {
          "base_uri": "https://localhost:8080/"
        },
        "id": "co3UK7kP_AlC",
        "outputId": "7fa1338f-c207-477e-9225-cf6b84bf3ead"
      },
      "execution_count": null,
      "outputs": [
        {
          "output_type": "stream",
          "name": "stdout",
          "text": [
            "Enter the number:7\n",
            "The factorial of 7 is 5040\n"
          ]
        }
      ]
    },
    {
      "cell_type": "code",
      "source": [
        "a=0\n",
        "b=1\n",
        "\n",
        "n=int(input(\"Enter the term:\"))\n",
        "print(a)\n",
        "print(b)\n",
        "for i in range(2,n):\n",
        "  c=a+b\n",
        "  print(c)\n",
        "  a=b\n",
        "  b=c\n"
      ],
      "metadata": {
        "colab": {
          "base_uri": "https://localhost:8080/"
        },
        "id": "Ylw75tyzBvr_",
        "outputId": "0ea311a2-d425-4483-a5ef-7a3eaff3372a"
      },
      "execution_count": null,
      "outputs": [
        {
          "output_type": "stream",
          "name": "stdout",
          "text": [
            "Enter the term:7\n",
            "0\n",
            "1\n",
            "1\n",
            "2\n",
            "3\n",
            "5\n",
            "8\n"
          ]
        }
      ]
    },
    {
      "cell_type": "code",
      "source": [
        "a=int(input(\"Enter the number:\"))\n",
        "sum=0\n",
        "while a>0:\n",
        "  digit=a%10\n",
        "  sum=sum+digit\n",
        "  a=a//10\n",
        "\n",
        "print(sum)"
      ],
      "metadata": {
        "colab": {
          "base_uri": "https://localhost:8080/"
        },
        "id": "5K6BZQWgKSSI",
        "outputId": "120fc41a-2a67-4cef-ef94-6b3a0547fc08"
      },
      "execution_count": null,
      "outputs": [
        {
          "output_type": "stream",
          "name": "stdout",
          "text": [
            "Enter the number:6789\n",
            "30\n"
          ]
        }
      ]
    },
    {
      "cell_type": "code",
      "source": [
        "a=int(input(\"Enter the number:\"))\n",
        "sum=0\n",
        "while(a>0):\n",
        "  ld=a%10\n",
        "  sum=sum+ld**2\n",
        "  a=a//10\n",
        "print(f\"The sum of the square of the digits of the number is {sum}\")"
      ],
      "metadata": {
        "colab": {
          "base_uri": "https://localhost:8080/"
        },
        "id": "i_s7fo9DRY90",
        "outputId": "22038d88-7e02-4270-a967-6d49246cf636"
      },
      "execution_count": null,
      "outputs": [
        {
          "output_type": "stream",
          "name": "stdout",
          "text": [
            "Enter the number:123\n",
            "The sum of the square of the digits of the number is 14\n"
          ]
        }
      ]
    },
    {
      "cell_type": "code",
      "source": [
        "temp=int(input(\"Enter the number:\"))\n",
        "newtemp=temp\n",
        "rev=0\n",
        "while(temp>0):\n",
        "  ld=temp%10\n",
        "  rev=rev*10+ld\n",
        "  temp=temp//10\n",
        "if newtemp==rev:\n",
        "  print(\"It is a palindrome\")\n",
        "else:\n",
        "  print(\"Not a palindrome\")"
      ],
      "metadata": {
        "colab": {
          "base_uri": "https://localhost:8080/"
        },
        "id": "NeiUBw9qbPNe",
        "outputId": "ccc8cdcb-9f4e-442a-d01a-5c2354cc7ce6"
      },
      "execution_count": null,
      "outputs": [
        {
          "output_type": "stream",
          "name": "stdout",
          "text": [
            "Enter the number:12321\n",
            "It is a palindrome\n"
          ]
        }
      ]
    },
    {
      "cell_type": "code",
      "source": [
        "n=int(input(\"Enter the number:\"))\n",
        "i=1\n",
        "sum=0\n",
        "while(i<=n):\n",
        "  product=1\n",
        "  for j in range(1,i+1):\n",
        "    product=product*j\n",
        "  sum=sum+product\n",
        "  i+=1\n",
        "print(sum)"
      ],
      "metadata": {
        "colab": {
          "base_uri": "https://localhost:8080/"
        },
        "id": "eA15h-UaomKu",
        "outputId": "d9661711-0e30-4af7-d01d-1ed412fa9c38"
      },
      "execution_count": null,
      "outputs": [
        {
          "output_type": "stream",
          "name": "stdout",
          "text": [
            "Enter the number:4\n",
            "33\n"
          ]
        }
      ]
    },
    {
      "cell_type": "code",
      "source": [
        "items=[\"coke\",\"buger\",\"fries\"]\n",
        "items.remove(\"buger\")\n",
        "items.append(\"burger\")\n",
        "print(items)"
      ],
      "metadata": {
        "colab": {
          "base_uri": "https://localhost:8080/"
        },
        "id": "FedzKZrWxY9A",
        "outputId": "a5dc1ced-6802-45d6-d707-20a0ba1279b8"
      },
      "execution_count": null,
      "outputs": [
        {
          "output_type": "stream",
          "name": "stdout",
          "text": [
            "['coke', 'fries', 'burger']\n"
          ]
        }
      ]
    },
    {
      "cell_type": "code",
      "source": [
        "n=int(input(\"Enter the nummber of items:\"))\n",
        "items=[]\n",
        "prices=[]\n",
        "qty=[]\n",
        "total_price=0\n",
        "coupoun=[\"flat10\",\"flat20\",\"flat15\"]\n",
        "discount=[10,20,15]\n",
        "for i in range(n):\n",
        "  item=input(f\"Enter the item {i+1}:\")\n",
        "  price=int(input(f\"Enter the item's{i+1} price:\"))\n",
        "  qt=int(input(f\"Enter the quantity of item {i+1}:\"))\n",
        "  items.append(item)\n",
        "  prices.append(price)\n",
        "  qty.append(qt)\n",
        "  total_price=total_price+prices[i]*qty[i]\n",
        "print(items)\n",
        "print(prices)\n",
        "print(discount)\n",
        "code=input(\"Enter the coupoun code:\")\n",
        "bill=total_price\n",
        "if code in coupoun:\n",
        "  idx=coupoun.index(code)\n",
        "  bill=bill-((discount[idx]/100)*bill)\n",
        "else:\n",
        "  bill=bill\n",
        "print(f\"Your total bill is {bill}\")"
      ],
      "metadata": {
        "colab": {
          "base_uri": "https://localhost:8080/"
        },
        "id": "FRCf30d50G76",
        "outputId": "f997cdd4-5383-4927-c83c-8762e89b2af0"
      },
      "execution_count": null,
      "outputs": [
        {
          "output_type": "stream",
          "name": "stdout",
          "text": [
            "Enter the nummber of items:3\n",
            "Enter the item 1:pizza\n",
            "Enter the item's1 price:400\n",
            "Enter the quantity of item 1:2\n",
            "Enter the item 2:burger\n",
            "Enter the item's2 price:300\n",
            "Enter the quantity of item 2:3\n",
            "Enter the item 3:fries\n",
            "Enter the item's3 price:500\n",
            "Enter the quantity of item 3:2\n",
            "['pizza', 'burger', 'fries']\n",
            "[400, 300, 500]\n",
            "[10, 20, 15]\n",
            "Enter the coupoun code:flat10\n",
            "Your total bill is 2430.0\n"
          ]
        }
      ]
    },
    {
      "cell_type": "code",
      "source": [
        "n=int(input(\"Enter the number:\"))\n",
        "i=2\n",
        "sum=5\n",
        "j=4\n",
        "if n==1:\n",
        "    sum=2\n",
        "\n",
        "elif n==2:\n",
        "    sum=5\n",
        "else:\n",
        "  while(i<n):\n",
        "    a=0\n",
        "    for k in range(2,j):\n",
        "      if j%k==0:\n",
        "        a=1\n",
        "        break\n",
        "    if(a==0):\n",
        "      sum=sum+j\n",
        "      i+=1\n",
        "    j+=1\n",
        "\n",
        "print(sum)"
      ],
      "metadata": {
        "colab": {
          "base_uri": "https://localhost:8080/"
        },
        "id": "JhzW32TMANYo",
        "outputId": "b9f50a3a-221e-4e46-b4f1-f0a0cb5b7280"
      },
      "execution_count": null,
      "outputs": [
        {
          "output_type": "stream",
          "name": "stdout",
          "text": [
            "Enter the number:5\n",
            "28\n"
          ]
        }
      ]
    },
    {
      "cell_type": "code",
      "source": [
        "n=int(input(\"Enter the number:\"))\n",
        "for i in range(1,n+1):\n",
        "  if(i%5==0 or i%10==0) and (not i%15==0):\n",
        "    print(i)"
      ],
      "metadata": {
        "colab": {
          "base_uri": "https://localhost:8080/"
        },
        "id": "WMPPQ-A9hNij",
        "outputId": "819ac54a-5951-43c2-fb3b-9bf5d3eeda1e"
      },
      "execution_count": null,
      "outputs": [
        {
          "output_type": "stream",
          "name": "stdout",
          "text": [
            "Enter the number:15\n",
            "5\n",
            "10\n"
          ]
        }
      ]
    },
    {
      "cell_type": "code",
      "source": [
        "start_direction=input(\"Enter the start direction:\")\n",
        "end_direction=input(\"Enter the end direction:\")\n",
        "\n",
        "if (start_direction==\"north\" and end_direction==\"west\") or (start_direction==\"west\" and end_direction==\"south\") or (start_direction==\"south\" and end_direction==\"east\") or (start_direction==\"east\" and end_direction==\"north\"):\n",
        "  light_colour=input(\"Enter the traffic light colout:\")\n",
        "  if start_direction==\"north\":\n",
        "     if light_colour==\"green\":\n",
        "      print(\"Go to west\")\n",
        "     else:\n",
        "      print(\"wait\")\n",
        "  if start_direction==\"west\":\n",
        "     if light_colour==\"green\":\n",
        "      print(\"Go to south\")\n",
        "     else:\n",
        "      print(\"wait\")\n",
        "  if start_direction==\"south\":\n",
        "     if light_colour==\"green\":\n",
        "      print(\"Go to east\")\n",
        "     else:\n",
        "      print(\"wait\")\n",
        "  if start_direction==\"east\":\n",
        "     if light_colour==\"green\":\n",
        "      print(\"Go to north\")\n",
        "     else:\n",
        "      print(\"wait\")\n",
        "\n",
        "if (start_direction==\"north\" and end_direction==\"south\") or (start_direction==\"west\" and end_direction==\"east\") or (start_direction==\"south\" and end_direction==\"north\") or (start_direction==\"east\" and end_direction==\"west\"):\n",
        "  light_colour=input(\"Enter the traffic light colout:\")\n",
        "  if start_direction==\"north\":\n",
        "    if light_colour==\"green\":\n",
        "      print(\"Go to west\")\n",
        "      light_colour=input(\"Enter the traffic light colout:\")\n",
        "      if light_colour==\"green\":\n",
        "        print(\"Go to south\")\n",
        "      else:\n",
        "        print(\"wait\")\n",
        "    else:\n",
        "      print(\"wait\")\n",
        "  if start_direction==\"west\":\n",
        "    if light_colour==\"green\":\n",
        "      print(\"Go to south\")\n",
        "      light_colour=input(\"Enter the traffic light colout:\")\n",
        "      if light_colour==\"green\":\n",
        "        print(\"Go to east\")\n",
        "      else:\n",
        "        print(\"wait\")\n",
        "    else:\n",
        "      print(\"wait\")\n",
        "  if start_direction==\"south\":\n",
        "    if light_colour==\"green\":\n",
        "      print(\"Go to east\")\n",
        "      light_colour=input(\"Enter the traffic light colout:\")\n",
        "      if light_colour==\"green\":\n",
        "        print(\"Go to north\")\n",
        "      else:\n",
        "        print(\"wait\")\n",
        "    else:\n",
        "      print(\"wait\")\n",
        "  if start_direction==\"east\":\n",
        "    if light_colour==\"green\":\n",
        "      print(\"Go to north\")\n",
        "      light_colour=input(\"Enter the traffic light colout:\")\n",
        "      if light_colour==\"green\":\n",
        "        print(\"Go to west\")\n",
        "      else:\n",
        "        print(\"wait\")\n",
        "    else:\n",
        "      print(\"wait\")\n",
        "\n",
        "if (start_direction==\"north\" and end_direction==\"east\") or (start_direction==\"west\" and end_direction==\"north\") or (start_direction==\"south\" and end_direction==\"west\") or (start_direction==\"east\" and end_direction==\"south\"):\n",
        "  light_colour=input(\"Enter the traffic light colout:\")\n",
        "  if start_direction==\"north\":\n",
        "    if light_colour==\"green\":\n",
        "      print(\"Go to west\")\n",
        "      light_colour=input(\"Enter the traffic light colout:\")\n",
        "      if light_colour==\"green\":\n",
        "        print(\"Go to south\")\n",
        "        light_colour=input(\"Enter the traffic light colout:\")\n",
        "        if light_colour==\"green\":\n",
        "          print(\"Go to east\")\n",
        "        else:\n",
        "          print(\"wait\")\n",
        "      else:\n",
        "        print(\"wait\")\n",
        "    else:\n",
        "      print(\"wait\")\n",
        "  if start_direction==\"west\":\n",
        "    if light_colour==\"green\":\n",
        "      print(\"Go to south\")\n",
        "      light_colour=input(\"Enter the traffic light colout:\")\n",
        "      if light_colour==\"green\":\n",
        "        print(\"Go to east\")\n",
        "        light_colour=input(\"Enter the traffic light colout:\")\n",
        "        if light_colour==\"green\":\n",
        "          print(\"Go to north\")\n",
        "        else:\n",
        "          print(\"wait\")\n",
        "      else:\n",
        "        print(\"wait\")\n",
        "    else:\n",
        "      print(\"wait\")\n",
        "  if start_direction==\"south\":\n",
        "    if light_colour==\"green\":\n",
        "      print(\"Go to east\")\n",
        "      light_colour=input(\"Enter the traffic light colout:\")\n",
        "      if light_colour==\"green\":\n",
        "        print(\"Go to north\")\n",
        "        light_colour=input(\"Enter the traffic light colout:\")\n",
        "        if light_colour==\"green\":\n",
        "          print(\"Go to west\")\n",
        "        else:\n",
        "          print(\"wait\")\n",
        "      else:\n",
        "        print(\"wait\")\n",
        "    else:\n",
        "      print(\"wait\")\n",
        "  if start_direction==\"east\":\n",
        "    if light_colour==\"green\":\n",
        "      print(\"Go to north\")\n",
        "      light_colour=input(\"Enter the traffic light colout:\")\n",
        "      if light_colour==\"green\":\n",
        "        print(\"Go to west\")\n",
        "        light_colour=input(\"Enter the traffic light colout:\")\n",
        "        if light_colour==\"green\":\n",
        "          print(\"Go to south\")\n",
        "        else:\n",
        "          print(\"wait\")\n",
        "      else:\n",
        "        print(\"wait\")\n",
        "    else:\n",
        "      print(\"wait\")\n",
        "\n",
        "\n",
        "\n"
      ],
      "metadata": {
        "colab": {
          "base_uri": "https://localhost:8080/"
        },
        "id": "jLxPwvT2PVli",
        "outputId": "8f6c1b0c-2b99-4ccd-ff7f-7dee36377652"
      },
      "execution_count": null,
      "outputs": [
        {
          "output_type": "stream",
          "name": "stdout",
          "text": [
            "Enter the start direction:south\n",
            "Enter the end direction:north\n",
            "Enter the traffic light colout:green\n",
            "Go to east\n",
            "Enter the traffic light colout:green\n",
            "Go to north\n"
          ]
        }
      ]
    },
    {
      "cell_type": "code",
      "source": [
        "a=3\n",
        "b=3.1\n",
        "c=\"Vaibhav\"\n",
        "is_prime=True\n",
        "print(f\"{a} is an integer\")\n",
        "print(f\"{b} is an float\")\n",
        "print(f\"{c} is an string\")\n",
        "print(f\"{is_prime} is a boolean\")"
      ],
      "metadata": {
        "colab": {
          "base_uri": "https://localhost:8080/"
        },
        "id": "_HTpBgCMrJSD",
        "outputId": "74d6552b-a518-40d6-d678-87a1970630cc"
      },
      "execution_count": null,
      "outputs": [
        {
          "output_type": "stream",
          "name": "stdout",
          "text": [
            "3 is an integer\n",
            "3.1 is an float\n",
            "Vaibhav is an string\n",
            "True is a boolean\n"
          ]
        }
      ]
    },
    {
      "cell_type": "code",
      "source": [
        "operator=input(\"Enter the operator\")\n",
        "a=int(input(\"Enter num1:\"))\n",
        "b=int(input(\"Enter num2:\"))\n",
        "if operator==\"+\":\n",
        "  print(a+b)\n",
        "elif operator==\"-\":\n",
        "  print(a-b)\n",
        "elif operator==\"*\":\n",
        "  print(a*b)\n",
        "elif operator==\"/\":\n",
        "  print(a/b)\n",
        "elif operator==\"%\":\n",
        "  print(a%b)\n",
        "else:\n",
        "  print(\"Invalid operator\")\n"
      ],
      "metadata": {
        "colab": {
          "base_uri": "https://localhost:8080/"
        },
        "id": "ZT79aG2-sPPd",
        "outputId": "95f614ed-9df1-4db2-c46e-461ee3f7ee76"
      },
      "execution_count": null,
      "outputs": [
        {
          "output_type": "stream",
          "name": "stdout",
          "text": [
            "Enter the operator%\n",
            "Enter num1:5\n",
            "Enter num2:3\n",
            "2\n"
          ]
        }
      ]
    },
    {
      "cell_type": "code",
      "source": [
        "a=4\n",
        "b=float(a)\n",
        "c=str(a)\n",
        "print(f\"{a} is an integer\")\n",
        "print(f\"{b} is an float\")\n",
        "print(f\"{c} is an string\")"
      ],
      "metadata": {
        "colab": {
          "base_uri": "https://localhost:8080/"
        },
        "id": "t5mwuJzhtCA_",
        "outputId": "cacaeae0-3ec4-4d90-8da9-364071585909"
      },
      "execution_count": null,
      "outputs": [
        {
          "output_type": "stream",
          "name": "stdout",
          "text": [
            "4 is an integer\n",
            "4.0 is an float\n",
            "4 is an string\n"
          ]
        }
      ]
    },
    {
      "cell_type": "code",
      "source": [
        "person=input(\"Enter wheter the person is male or female(M/F):\")\n",
        "age=input(\"Enter the age of the person:\")\n",
        "if age.isdigit():\n",
        "  intage=int(age)\n",
        "  if person==\"M\":\n",
        "    print(\"He will go to build H\")\n",
        "    if intage>30:\n",
        "      print(\"He will go to block A \")\n",
        "    else:\n",
        "      print(\"He will go  to block B\")\n",
        "  elif person==\"F\":\n",
        "      print(\"She will go to building F\")\n",
        "      if intage>30:\n",
        "        print(\"She will go to block A\")\n",
        "      else:\n",
        "        print(\"She will go to block B\")\n",
        "  else:\n",
        "      print(\"Wrong input for the person\")\n",
        "else:\n",
        "  print(\"Enter a valid age\")\n",
        "\n",
        "\n",
        "\n"
      ],
      "metadata": {
        "colab": {
          "base_uri": "https://localhost:8080/"
        },
        "id": "fuJReN3FtVx9",
        "outputId": "2117e26b-1ca0-4fd2-f2b6-ac56289a0350"
      },
      "execution_count": null,
      "outputs": [
        {
          "output_type": "stream",
          "name": "stdout",
          "text": [
            "Enter wheter the person is male or female(M/F):M\n",
            "Enter the age of the person:1o\n",
            "Enter a valid age\n"
          ]
        }
      ]
    },
    {
      "cell_type": "code",
      "source": [
        "principal=float(input(\"Enter the principal amount:\"))\n",
        "rate=float(input(\"Enter the rate of interest:\"))\n",
        "months=int(input(\"Enter the number of month:\"))\n",
        "days=int(input(\"Enter the number of days:\"))\n",
        "month_name=input(\"Enter the name of the month in which days fall:\")\n",
        "simple_interest_month=(principal*rate*(months)/100)\n",
        "if month_name==\"january\" or \"march\" or \"may\" or \"july\" or \"august\" or \"october\" or \"december\":\n",
        "  simple_interest_day=(principal*rate*(days/31))/100\n",
        "elif month_name==\"april\" or \"june\" or \"september\" or \"november\":\n",
        "  simple_interest_day=(principal*rate*(days/30))/100\n",
        "elif month_name==\"feburary\":\n",
        "  year=input(\"Enter the year:\")\n",
        "  if year.isdigit():\n",
        "    year=int(year)\n",
        "    if year%4==0:\n",
        "      if year%100==0:\n",
        "        if year%400==0:\n",
        "          simple_interest_day=(principal*rate*(days/29))/100\n",
        "        else:\n",
        "          simple_interest_day=(principal*rate*(days/28))/100\n",
        "      else:\n",
        "        simple_interest_day=(principal*rate*(days/29))/100\n",
        "    else:\n",
        "      simple_interest_day=(principal*rate*(days/28))/100\n",
        "  else:\n",
        "    print(\"Enter a valid year\")\n",
        "else:\n",
        "  print(\"Enter a valid month\")\n",
        "simple_interest=simple_interest_month+simple_interest_day\n",
        "print(f\"The simple interest is {simple_interest}\")\n"
      ],
      "metadata": {
        "colab": {
          "base_uri": "https://localhost:8080/"
        },
        "id": "lkf3uRivyj1X",
        "outputId": "33d7dfb3-a9fa-45ac-ee86-2fc1e3573bd3"
      },
      "execution_count": null,
      "outputs": [
        {
          "output_type": "stream",
          "name": "stdout",
          "text": [
            "Enter the principal amount:1000\n",
            "Enter the rate of interest:5\n",
            "Enter the number of years:3\n",
            "Enter the number of month:0\n",
            "The total amount is 150.0\n"
          ]
        }
      ]
    },
    {
      "cell_type": "code",
      "source": [
        "year=input(\"Enter the year:\")\n",
        "if year.isdigit():\n",
        "  year=int(year)\n",
        "  if year%4==0:\n",
        "    if year%100==0:\n",
        "      if year%400==0:\n",
        "        print(\"a leap year\")\n",
        "      else:\n",
        "        print(\"Not a leap year\")\n",
        "    else:\n",
        "      print(\"A leap year\")\n",
        "  else:\n",
        "    print(\"Not a leap year\")\n",
        "else:\n",
        "  print(\"Enter a valid year\")"
      ],
      "metadata": {
        "colab": {
          "base_uri": "https://localhost:8080/"
        },
        "id": "fP5q7zLL61mj",
        "outputId": "470f9b16-d1d6-4cdf-e078-0e60c511bc2b"
      },
      "execution_count": null,
      "outputs": [
        {
          "output_type": "stream",
          "name": "stdout",
          "text": [
            "Enter the year:1700\n",
            "Not a leap year\n"
          ]
        }
      ]
    },
    {
      "cell_type": "code",
      "source": [
        "print(\"Vaibhav Aggarwal\")\n",
        "print(\"Unitversity:Thapar\")\n",
        "print(\"PHone no:9501289502\")\n",
        "print(\"Email id:aggarwalvaibhav502@gmail.com\")"
      ],
      "metadata": {
        "colab": {
          "base_uri": "https://localhost:8080/"
        },
        "id": "zMX0LSWFnnYa",
        "outputId": "4537d126-50af-4567-893f-17d825156621"
      },
      "execution_count": null,
      "outputs": [
        {
          "output_type": "stream",
          "name": "stdout",
          "text": [
            "Vaibhav Aggarwal\n",
            "Unitversity:Thapar\n",
            "PHone no:9501289502\n",
            "Email id:aggarwalvaibhav502@gmail.com\n"
          ]
        }
      ]
    }
  ]
}