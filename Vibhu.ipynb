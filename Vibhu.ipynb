{
  "nbformat": 4,
  "nbformat_minor": 0,
  "metadata": {
    "colab": {
      "provenance": [],
      "authorship_tag": "ABX9TyP3DO6f2+0BSyxj4+FT8iAx",
      "include_colab_link": true
    },
    "kernelspec": {
      "name": "python3",
      "display_name": "Python 3"
    },
    "language_info": {
      "name": "python"
    }
  },
  "cells": [
    {
      "cell_type": "markdown",
      "metadata": {
        "id": "view-in-github",
        "colab_type": "text"
      },
      "source": [
        "<a href=\"https://colab.research.google.com/github/aggarwalvaibhav502-png/Vaibhav_Aggarwal09/blob/main/Vibhu.ipynb\" target=\"_parent\"><img src=\"https://colab.research.google.com/assets/colab-badge.svg\" alt=\"Open In Colab\"/></a>"
      ]
    },
    {
      "cell_type": "code",
      "execution_count": null,
      "metadata": {
        "colab": {
          "base_uri": "https://localhost:8080/"
        },
        "id": "8Xp_BiCFmkFZ",
        "outputId": "00ead46e-d7ae-4a9f-9247-e8617d3bde53"
      },
      "outputs": [
        {
          "output_type": "stream",
          "name": "stdout",
          "text": [
            "Helo World\n"
          ]
        }
      ],
      "source": [
        "#First Class\n",
        "\"\"\"My nam\n",
        "jfm\n",
        "cm\n",
        "M\"\"\"\n",
        "'''jd\n",
        "ddd\n",
        "'''\n",
        "print(\"Helo World\")\n"
      ]
    },
    {
      "cell_type": "code",
      "source": [
        "burger=200\n",
        "pizza=300\n",
        "fries=150\n",
        "coke=70\n",
        "water=20\n",
        "bill=0\n",
        "order=input(\"Do you want burger?\")\n",
        "if order==\"yes\":\n",
        "  quan=int(input(\"Enter the number of items\"))\n",
        "  bill=(burger*quan)+bill\n",
        "order=input(\"Do you want pizza?\")\n",
        "if order==\"yes\":\n",
        "  quan=int(input(\"Enter the number of items\"))\n",
        "  bill=(pizza*quan)+bill\n",
        "order=input(\"Do you want fries?\")\n",
        "if order==\"yes\":\n",
        "  quan=int(input(\"Enter the number of items\"))\n",
        "  bill=(fries*quan)+bill\n",
        "order=input(\"Do you want coke?\")\n",
        "if order==\"yes\":\n",
        "  quan=int(input(\"Enter the number of items\"))\n",
        "  bill=(coke*quan)+bill\n",
        "order=input(\"Do you want water?\")\n",
        "if order==\"yes\":\n",
        "  quan=int(input(\"Enter the number of items\"))\n",
        "  bill=(water*quan)+bill\n",
        "discount=input(\"Do you have discount coupoun:\")\n",
        "if discount==\"yes\":\n",
        "  code=input(\"Enter code:\")\n",
        "  if code==\"DIC10\":\n",
        "    bill=bill-(10/100)*bill\n",
        "  else:\n",
        "    bill=bill\n",
        "print(f\"The tottal bill is {bill}\")"
      ],
      "metadata": {
        "colab": {
          "base_uri": "https://localhost:8080/"
        },
        "id": "s6pMyzsfenB9",
        "outputId": "e2e4f09a-ea2b-4265-a688-55365eedaf73"
      },
      "execution_count": 2,
      "outputs": [
        {
          "output_type": "stream",
          "name": "stdout",
          "text": [
            "Do you want burger?yes\n",
            "Enter the number of items1\n",
            "Do you want pizza?no\n",
            "Do you want fries?yes\n",
            "Enter the number of items2\n",
            "Do you want coke?no\n",
            "Do you want water?no\n",
            "The tottal bill is 500\n"
          ]
        }
      ]
    },
    {
      "cell_type": "code",
      "source": [
        "start_direction=input(\"Enter the start direction:\")\n",
        "end_direction=input(\"Enter the end direction:\")\n",
        "\n",
        "if (start_direction==\"north\" and end_direction==\"west\") or (start_direction==\"west\" and end_direction==\"south\") or (start_direction==\"south\" and end_direction==\"east\") or (start_direction==\"east\" and end_direction==\"north\"):\n",
        "  light_colour=input(\"Enter the traffic light colout:\")\n",
        "  if start_direction==\"north\":\n",
        "     if light_colour==\"green\":\n",
        "      print(\"Go to west\")\n",
        "     else:\n",
        "      print(\"wait\")\n",
        "  if start_direction==\"west\":\n",
        "     if light_colour==\"green\":\n",
        "      print(\"Go to south\")\n",
        "     else:\n",
        "      print(\"wait\")\n",
        "  if start_direction==\"south\":\n",
        "     if light_colour==\"green\":\n",
        "      print(\"Go to east\")\n",
        "     else:\n",
        "      print(\"wait\")\n",
        "  if start_direction==\"east\":\n",
        "     if light_colour==\"green\":\n",
        "      print(\"Go to north\")\n",
        "     else:\n",
        "      print(\"wait\")\n",
        "\n",
        "if (start_direction==\"north\" and end_direction==\"south\") or (start_direction==\"west\" and end_direction==\"east\") or (start_direction==\"south\" and end_direction==\"north\") or (start_direction==\"east\" and end_direction==\"west\"):\n",
        "  light_colour=input(\"Enter the traffic light colout:\")\n",
        "  if start_direction==\"north\":\n",
        "    if light_colour==\"green\":\n",
        "      print(\"Go to west\")\n",
        "      light_colour=input(\"Enter the traffic light colout:\")\n",
        "      if light_colour==\"green\":\n",
        "        print(\"Go to south\")\n",
        "      else:\n",
        "        print(\"wait\")\n",
        "    else:\n",
        "      print(\"wait\")\n",
        "  if start_direction==\"west\":\n",
        "    if light_colour==\"green\":\n",
        "      print(\"Go to south\")\n",
        "      light_colour=input(\"Enter the traffic light colout:\")\n",
        "      if light_colour==\"green\":\n",
        "        print(\"Go to east\")\n",
        "      else:\n",
        "        print(\"wait\")\n",
        "    else:\n",
        "      print(\"wait\")\n",
        "  if start_direction==\"south\":\n",
        "    if light_colour==\"green\":\n",
        "      print(\"Go to east\")\n",
        "      light_colour=input(\"Enter the traffic light colout:\")\n",
        "      if light_colour==\"green\":\n",
        "        print(\"Go to north\")\n",
        "      else:\n",
        "        print(\"wait\")\n",
        "    else:\n",
        "      print(\"wait\")\n",
        "  if start_direction==\"east\":\n",
        "    if light_colour==\"green\":\n",
        "      print(\"Go to north\")\n",
        "      light_colour=input(\"Enter the traffic light colout:\")\n",
        "      if light_colour==\"green\":\n",
        "        print(\"Go to west\")\n",
        "      else:\n",
        "        print(\"wait\")\n",
        "    else:\n",
        "      print(\"wait\")\n",
        "\n",
        "if (start_direction==\"north\" and end_direction==\"east\") or (start_direction==\"west\" and end_direction==\"north\") or (start_direction==\"south\" and end_direction==\"west\") or (start_direction==\"east\" and end_direction==\"south\"):\n",
        "  light_colour=input(\"Enter the traffic light colout:\")\n",
        "  if start_direction==\"north\":\n",
        "    if light_colour==\"green\":\n",
        "      print(\"Go to west\")\n",
        "      light_colour=input(\"Enter the traffic light colout:\")\n",
        "      if light_colour==\"green\":\n",
        "        print(\"Go to south\")\n",
        "        light_colour=input(\"Enter the traffic light colout:\")\n",
        "        if light_colour==\"green\":\n",
        "          print(\"Go to east\")\n",
        "        else:\n",
        "          print(\"wait\")\n",
        "      else:\n",
        "        print(\"wait\")\n",
        "    else:\n",
        "      print(\"wait\")\n",
        "  if start_direction==\"west\":\n",
        "    if light_colour==\"green\":\n",
        "      print(\"Go to south\")\n",
        "      light_colour=input(\"Enter the traffic light colout:\")\n",
        "      if light_colour==\"green\":\n",
        "        print(\"Go to east\")\n",
        "        light_colour=input(\"Enter the traffic light colout:\")\n",
        "        if light_colour==\"green\":\n",
        "          print(\"Go to north\")\n",
        "        else:\n",
        "          print(\"wait\")\n",
        "      else:\n",
        "        print(\"wait\")\n",
        "    else:\n",
        "      print(\"wait\")\n",
        "  if start_direction==\"south\":\n",
        "    if light_colour==\"green\":\n",
        "      print(\"Go to east\")\n",
        "      light_colour=input(\"Enter the traffic light colout:\")\n",
        "      if light_colour==\"green\":\n",
        "        print(\"Go to north\")\n",
        "        light_colour=input(\"Enter the traffic light colout:\")\n",
        "        if light_colour==\"green\":\n",
        "          print(\"Go to west\")\n",
        "        else:\n",
        "          print(\"wait\")\n",
        "      else:\n",
        "        print(\"wait\")\n",
        "    else:\n",
        "      print(\"wait\")\n",
        "  if start_direction==\"east\":\n",
        "    if light_colour==\"green\":\n",
        "      print(\"Go to north\")\n",
        "      light_colour=input(\"Enter the traffic light colout:\")\n",
        "      if light_colour==\"green\":\n",
        "        print(\"Go to west\")\n",
        "        light_colour=input(\"Enter the traffic light colout:\")\n",
        "        if light_colour==\"green\":\n",
        "          print(\"Go to south\")\n",
        "        else:\n",
        "          print(\"wait\")\n",
        "      else:\n",
        "        print(\"wait\")\n",
        "    else:\n",
        "      print(\"wait\")\n",
        "\n",
        "\n",
        "\n",
        ""
      ],
      "metadata": {
        "colab": {
          "base_uri": "https://localhost:8080/"
        },
        "id": "jLxPwvT2PVli",
        "outputId": "8f6c1b0c-2b99-4ccd-ff7f-7dee36377652"
      },
      "execution_count": 2,
      "outputs": [
        {
          "output_type": "stream",
          "name": "stdout",
          "text": [
            "Enter the start direction:south\n",
            "Enter the end direction:north\n",
            "Enter the traffic light colout:green\n",
            "Go to east\n",
            "Enter the traffic light colout:green\n",
            "Go to north\n"
          ]
        }
      ]
    },
    {
      "cell_type": "code",
      "source": [
        "a=3\n",
        "b=3.1\n",
        "c=\"Vaibhav\"\n",
        "is_prime=True\n",
        "print(f\"{a} is an integer\")\n",
        "print(f\"{b} is an float\")\n",
        "print(f\"{c} is an string\")\n",
        "print(f\"{is_prime} is a boolean\")"
      ],
      "metadata": {
        "colab": {
          "base_uri": "https://localhost:8080/"
        },
        "id": "_HTpBgCMrJSD",
        "outputId": "74d6552b-a518-40d6-d678-87a1970630cc"
      },
      "execution_count": null,
      "outputs": [
        {
          "output_type": "stream",
          "name": "stdout",
          "text": [
            "3 is an integer\n",
            "3.1 is an float\n",
            "Vaibhav is an string\n",
            "True is a boolean\n"
          ]
        }
      ]
    },
    {
      "cell_type": "code",
      "source": [
        "operator=input(\"Enter the operator\")\n",
        "a=int(input(\"Enter num1:\"))\n",
        "b=int(input(\"Enter num2:\"))\n",
        "if operator==\"+\":\n",
        "  print(a+b)\n",
        "elif operator==\"-\":\n",
        "  print(a-b)\n",
        "elif operator==\"*\":\n",
        "  print(a*b)\n",
        "elif operator==\"/\":\n",
        "  print(a/b)\n",
        "elif operator==\"%\":\n",
        "  print(a%b)\n",
        "else:\n",
        "  print(\"Invalid operator\")\n"
      ],
      "metadata": {
        "colab": {
          "base_uri": "https://localhost:8080/"
        },
        "id": "ZT79aG2-sPPd",
        "outputId": "95f614ed-9df1-4db2-c46e-461ee3f7ee76"
      },
      "execution_count": null,
      "outputs": [
        {
          "output_type": "stream",
          "name": "stdout",
          "text": [
            "Enter the operator%\n",
            "Enter num1:5\n",
            "Enter num2:3\n",
            "2\n"
          ]
        }
      ]
    },
    {
      "cell_type": "code",
      "source": [
        "a=4\n",
        "b=float(a)\n",
        "c=str(a)\n",
        "print(f\"{a} is an integer\")\n",
        "print(f\"{b} is an float\")\n",
        "print(f\"{c} is an string\")"
      ],
      "metadata": {
        "colab": {
          "base_uri": "https://localhost:8080/"
        },
        "id": "t5mwuJzhtCA_",
        "outputId": "cacaeae0-3ec4-4d90-8da9-364071585909"
      },
      "execution_count": null,
      "outputs": [
        {
          "output_type": "stream",
          "name": "stdout",
          "text": [
            "4 is an integer\n",
            "4.0 is an float\n",
            "4 is an string\n"
          ]
        }
      ]
    },
    {
      "cell_type": "code",
      "source": [
        "person=input(\"Enter wheter the person is male or female(M/F):\")\n",
        "age=input(\"Enter the age of the person:\")\n",
        "if age.isdigit():\n",
        "  intage=int(age)\n",
        "  if person==\"M\":\n",
        "    print(\"He will go to build H\")\n",
        "    if intage>30:\n",
        "      print(\"He will go to block A \")\n",
        "    else:\n",
        "      print(\"He will go  to block B\")\n",
        "  elif person==\"F\":\n",
        "      print(\"She will go to building F\")\n",
        "      if intage>30:\n",
        "        print(\"She will go to block A\")\n",
        "      else:\n",
        "        print(\"She will go to block B\")\n",
        "  else:\n",
        "      print(\"Wrong input for the person\")\n",
        "else:\n",
        "  print(\"Enter a valid age\")\n",
        "\n",
        "\n",
        "\n"
      ],
      "metadata": {
        "colab": {
          "base_uri": "https://localhost:8080/"
        },
        "id": "fuJReN3FtVx9",
        "outputId": "2117e26b-1ca0-4fd2-f2b6-ac56289a0350"
      },
      "execution_count": null,
      "outputs": [
        {
          "output_type": "stream",
          "name": "stdout",
          "text": [
            "Enter wheter the person is male or female(M/F):M\n",
            "Enter the age of the person:1o\n",
            "Enter a valid age\n"
          ]
        }
      ]
    },
    {
      "cell_type": "code",
      "source": [
        "principal=float(input(\"Enter the principal amount:\"))\n",
        "rate=float(input(\"Enter the rate of interest:\"))\n",
        "months=int(input(\"Enter the number of month:\"))\n",
        "days=int(input(\"Enter the number of days:\"))\n",
        "month_name=input(\"Enter the name of the month in which days fall:\")\n",
        "simple_interest_month=(principal*rate*(months)/100)\n",
        "if month_name==\"january\" or \"march\" or \"may\" or \"july\" or \"august\" or \"october\" or \"december\":\n",
        "  simple_interest_day=(principal*rate*(days/31))/100\n",
        "elif month_name==\"april\" or \"june\" or \"september\" or \"november\":\n",
        "  simple_interest_day=(principal*rate*(days/30))/100\n",
        "elif month_name==\"feburary\":\n",
        "  year=input(\"Enter the year:\")\n",
        "  if year.isdigit():\n",
        "    year=int(year)\n",
        "    if year%4==0:\n",
        "      if year%100==0:\n",
        "        if year%400==0:\n",
        "          simple_interest_day=(principal*rate*(days/29))/100\n",
        "        else:\n",
        "          simple_interest_day=(principal*rate*(days/28))/100\n",
        "      else:\n",
        "        simple_interest_day=(principal*rate*(days/29))/100\n",
        "    else:\n",
        "      simple_interest_day=(principal*rate*(days/28))/100\n",
        "  else:\n",
        "    print(\"Enter a valid year\")\n",
        "else:\n",
        "  print(\"Enter a valid month\")\n",
        "simple_interest=simple_interest_month+simple_interest_day\n",
        "print(f\"The simple interest is {simple_interest}\")\n"
      ],
      "metadata": {
        "colab": {
          "base_uri": "https://localhost:8080/"
        },
        "id": "lkf3uRivyj1X",
        "outputId": "33d7dfb3-a9fa-45ac-ee86-2fc1e3573bd3"
      },
      "execution_count": null,
      "outputs": [
        {
          "output_type": "stream",
          "name": "stdout",
          "text": [
            "Enter the principal amount:1000\n",
            "Enter the rate of interest:5\n",
            "Enter the number of years:3\n",
            "Enter the number of month:0\n",
            "The total amount is 150.0\n"
          ]
        }
      ]
    },
    {
      "cell_type": "code",
      "source": [
        "year=input(\"Enter the year:\")\n",
        "if year.isdigit():\n",
        "  year=int(year)\n",
        "  if year%4==0:\n",
        "    if year%100==0:\n",
        "      if year%400==0:\n",
        "        print(\"a leap year\")\n",
        "      else:\n",
        "        print(\"Not a leap year\")\n",
        "    else:\n",
        "      print(\"A leap year\")\n",
        "  else:\n",
        "    print(\"Not a leap year\")\n",
        "else:\n",
        "  print(\"Enter a valid year\")"
      ],
      "metadata": {
        "colab": {
          "base_uri": "https://localhost:8080/"
        },
        "id": "fP5q7zLL61mj",
        "outputId": "470f9b16-d1d6-4cdf-e078-0e60c511bc2b"
      },
      "execution_count": null,
      "outputs": [
        {
          "output_type": "stream",
          "name": "stdout",
          "text": [
            "Enter the year:1700\n",
            "Not a leap year\n"
          ]
        }
      ]
    },
    {
      "cell_type": "code",
      "source": [
        "print(\"Vaibhav Aggarwal\")\n",
        "print(\"Unitversity:Thapar\")\n",
        "print(\"PHone no:9501289502\")\n",
        "print(\"Email id:aggarwalvaibhav502@gmail.com\")"
      ],
      "metadata": {
        "colab": {
          "base_uri": "https://localhost:8080/"
        },
        "id": "zMX0LSWFnnYa",
        "outputId": "4537d126-50af-4567-893f-17d825156621"
      },
      "execution_count": null,
      "outputs": [
        {
          "output_type": "stream",
          "name": "stdout",
          "text": [
            "Vaibhav Aggarwal\n",
            "Unitversity:Thapar\n",
            "PHone no:9501289502\n",
            "Email id:aggarwalvaibhav502@gmail.com\n"
          ]
        }
      ]
    }
  ]
}